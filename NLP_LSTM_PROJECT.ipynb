{
  "nbformat": 4,
  "nbformat_minor": 0,
  "metadata": {
    "colab": {
      "provenance": [],
      "include_colab_link": true
    },
    "kernelspec": {
      "name": "python3",
      "display_name": "Python 3"
    },
    "language_info": {
      "name": "python"
    },
    "accelerator": "GPU",
    "gpuClass": "standard"
  },
  "cells": [
    {
      "cell_type": "markdown",
      "metadata": {
        "id": "view-in-github",
        "colab_type": "text"
      },
      "source": [
        "<a href=\"https://colab.research.google.com/github/AnshHarjai/twitter_sentiment_anlysis/blob/main/NLP_LSTM_PROJECT.ipynb\" target=\"_parent\"><img src=\"https://colab.research.google.com/assets/colab-badge.svg\" alt=\"Open In Colab\"/></a>"
      ]
    },
    {
      "cell_type": "code",
      "source": [
        "from google.colab import drive\n",
        "drive.mount('/content/drive')\n",
        "import tensorflow as tf\n",
        "import matplotlib.pyplot as plt\n",
        "import pandas as pd\n",
        "import numpy as np\n",
        "\n",
        "\n",
        "import nltk\n",
        "nltk.download('stopwords')\n",
        "from nltk.corpus import stopwords\n",
        "from nltk.stem import SnowballStemmer\n",
        "\n",
        "\n",
        "\n",
        "from sklearn.model_selection import train_test_split\n",
        "from sklearn.preprocessing import LabelEncoder\n",
        "\n",
        "\n",
        "import re\n",
        "\n",
        "print(\"Tensorflow Version\",tf.__version__)"
      ],
      "metadata": {
        "colab": {
          "base_uri": "https://localhost:8080/"
        },
        "id": "CN6kPsLxJqc1",
        "outputId": "c602636a-0b32-447a-dd56-8e4a39f53ed5"
      },
      "execution_count": null,
      "outputs": [
        {
          "output_type": "stream",
          "name": "stdout",
          "text": [
            "Drive already mounted at /content/drive; to attempt to forcibly remount, call drive.mount(\"/content/drive\", force_remount=True).\n",
            "Tensorflow Version 2.14.0\n"
          ]
        },
        {
          "output_type": "stream",
          "name": "stderr",
          "text": [
            "[nltk_data] Downloading package stopwords to /root/nltk_data...\n",
            "[nltk_data]   Package stopwords is already up-to-date!\n"
          ]
        }
      ]
    },
    {
      "cell_type": "code",
      "source": [
        "!pip install Keras-Preprocessing"
      ],
      "metadata": {
        "colab": {
          "base_uri": "https://localhost:8080/"
        },
        "id": "tXMA2IQdXCsP",
        "outputId": "afd69fda-834f-4ca0-c4d8-18077a4c86f6"
      },
      "execution_count": null,
      "outputs": [
        {
          "output_type": "stream",
          "name": "stdout",
          "text": [
            "Requirement already satisfied: Keras-Preprocessing in /usr/local/lib/python3.10/dist-packages (1.1.2)\n",
            "Requirement already satisfied: numpy>=1.9.1 in /usr/local/lib/python3.10/dist-packages (from Keras-Preprocessing) (1.23.5)\n",
            "Requirement already satisfied: six>=1.9.0 in /usr/local/lib/python3.10/dist-packages (from Keras-Preprocessing) (1.16.0)\n"
          ]
        }
      ]
    },
    {
      "cell_type": "code",
      "execution_count": null,
      "metadata": {
        "id": "c1sRnMbMIRR7",
        "colab": {
          "base_uri": "https://localhost:8080/",
          "height": 266
        },
        "outputId": "0abe071d-c251-4ca9-8f84-68a0a43607ed"
      },
      "outputs": [
        {
          "output_type": "execute_result",
          "data": {
            "text/plain": [
              "                                                text Sentiment\n",
              "0  The first female referee at a Men’s World Cup ...   Neutral\n",
              "1  North Korea will host the World Cup in 2030. W...   Neutral\n",
              "2  If you're wondering why there has been so much...   Neutral\n",
              "3  NFL referee: “We will scrutinize every angle o...  Negative\n",
              "4  Possibly imagining it, but feel like there are...   Neutral"
            ],
            "text/html": [
              "\n",
              "  <div id=\"df-c9b1896e-6e86-4eee-9197-cae991f8ff52\" class=\"colab-df-container\">\n",
              "    <div>\n",
              "<style scoped>\n",
              "    .dataframe tbody tr th:only-of-type {\n",
              "        vertical-align: middle;\n",
              "    }\n",
              "\n",
              "    .dataframe tbody tr th {\n",
              "        vertical-align: top;\n",
              "    }\n",
              "\n",
              "    .dataframe thead th {\n",
              "        text-align: right;\n",
              "    }\n",
              "</style>\n",
              "<table border=\"1\" class=\"dataframe\">\n",
              "  <thead>\n",
              "    <tr style=\"text-align: right;\">\n",
              "      <th></th>\n",
              "      <th>text</th>\n",
              "      <th>Sentiment</th>\n",
              "    </tr>\n",
              "  </thead>\n",
              "  <tbody>\n",
              "    <tr>\n",
              "      <th>0</th>\n",
              "      <td>The first female referee at a Men’s World Cup ...</td>\n",
              "      <td>Neutral</td>\n",
              "    </tr>\n",
              "    <tr>\n",
              "      <th>1</th>\n",
              "      <td>North Korea will host the World Cup in 2030. W...</td>\n",
              "      <td>Neutral</td>\n",
              "    </tr>\n",
              "    <tr>\n",
              "      <th>2</th>\n",
              "      <td>If you're wondering why there has been so much...</td>\n",
              "      <td>Neutral</td>\n",
              "    </tr>\n",
              "    <tr>\n",
              "      <th>3</th>\n",
              "      <td>NFL referee: “We will scrutinize every angle o...</td>\n",
              "      <td>Negative</td>\n",
              "    </tr>\n",
              "    <tr>\n",
              "      <th>4</th>\n",
              "      <td>Possibly imagining it, but feel like there are...</td>\n",
              "      <td>Neutral</td>\n",
              "    </tr>\n",
              "  </tbody>\n",
              "</table>\n",
              "</div>\n",
              "    <div class=\"colab-df-buttons\">\n",
              "\n",
              "  <div class=\"colab-df-container\">\n",
              "    <button class=\"colab-df-convert\" onclick=\"convertToInteractive('df-c9b1896e-6e86-4eee-9197-cae991f8ff52')\"\n",
              "            title=\"Convert this dataframe to an interactive table.\"\n",
              "            style=\"display:none;\">\n",
              "\n",
              "  <svg xmlns=\"http://www.w3.org/2000/svg\" height=\"24px\" viewBox=\"0 -960 960 960\">\n",
              "    <path d=\"M120-120v-720h720v720H120Zm60-500h600v-160H180v160Zm220 220h160v-160H400v160Zm0 220h160v-160H400v160ZM180-400h160v-160H180v160Zm440 0h160v-160H620v160ZM180-180h160v-160H180v160Zm440 0h160v-160H620v160Z\"/>\n",
              "  </svg>\n",
              "    </button>\n",
              "\n",
              "  <style>\n",
              "    .colab-df-container {\n",
              "      display:flex;\n",
              "      gap: 12px;\n",
              "    }\n",
              "\n",
              "    .colab-df-convert {\n",
              "      background-color: #E8F0FE;\n",
              "      border: none;\n",
              "      border-radius: 50%;\n",
              "      cursor: pointer;\n",
              "      display: none;\n",
              "      fill: #1967D2;\n",
              "      height: 32px;\n",
              "      padding: 0 0 0 0;\n",
              "      width: 32px;\n",
              "    }\n",
              "\n",
              "    .colab-df-convert:hover {\n",
              "      background-color: #E2EBFA;\n",
              "      box-shadow: 0px 1px 2px rgba(60, 64, 67, 0.3), 0px 1px 3px 1px rgba(60, 64, 67, 0.15);\n",
              "      fill: #174EA6;\n",
              "    }\n",
              "\n",
              "    .colab-df-buttons div {\n",
              "      margin-bottom: 4px;\n",
              "    }\n",
              "\n",
              "    [theme=dark] .colab-df-convert {\n",
              "      background-color: #3B4455;\n",
              "      fill: #D2E3FC;\n",
              "    }\n",
              "\n",
              "    [theme=dark] .colab-df-convert:hover {\n",
              "      background-color: #434B5C;\n",
              "      box-shadow: 0px 1px 3px 1px rgba(0, 0, 0, 0.15);\n",
              "      filter: drop-shadow(0px 1px 2px rgba(0, 0, 0, 0.3));\n",
              "      fill: #FFFFFF;\n",
              "    }\n",
              "  </style>\n",
              "\n",
              "    <script>\n",
              "      const buttonEl =\n",
              "        document.querySelector('#df-c9b1896e-6e86-4eee-9197-cae991f8ff52 button.colab-df-convert');\n",
              "      buttonEl.style.display =\n",
              "        google.colab.kernel.accessAllowed ? 'block' : 'none';\n",
              "\n",
              "      async function convertToInteractive(key) {\n",
              "        const element = document.querySelector('#df-c9b1896e-6e86-4eee-9197-cae991f8ff52');\n",
              "        const dataTable =\n",
              "          await google.colab.kernel.invokeFunction('convertToInteractive',\n",
              "                                                    [key], {});\n",
              "        if (!dataTable) return;\n",
              "\n",
              "        const docLinkHtml = 'Like what you see? Visit the ' +\n",
              "          '<a target=\"_blank\" href=https://colab.research.google.com/notebooks/data_table.ipynb>data table notebook</a>'\n",
              "          + ' to learn more about interactive tables.';\n",
              "        element.innerHTML = '';\n",
              "        dataTable['output_type'] = 'display_data';\n",
              "        await google.colab.output.renderOutput(dataTable, element);\n",
              "        const docLink = document.createElement('div');\n",
              "        docLink.innerHTML = docLinkHtml;\n",
              "        element.appendChild(docLink);\n",
              "      }\n",
              "    </script>\n",
              "  </div>\n",
              "\n",
              "\n",
              "<div id=\"df-4fc5dcc2-0197-47a5-bbc7-10a5d89f5a09\">\n",
              "  <button class=\"colab-df-quickchart\" onclick=\"quickchart('df-4fc5dcc2-0197-47a5-bbc7-10a5d89f5a09')\"\n",
              "            title=\"Suggest charts\"\n",
              "            style=\"display:none;\">\n",
              "\n",
              "<svg xmlns=\"http://www.w3.org/2000/svg\" height=\"24px\"viewBox=\"0 0 24 24\"\n",
              "     width=\"24px\">\n",
              "    <g>\n",
              "        <path d=\"M19 3H5c-1.1 0-2 .9-2 2v14c0 1.1.9 2 2 2h14c1.1 0 2-.9 2-2V5c0-1.1-.9-2-2-2zM9 17H7v-7h2v7zm4 0h-2V7h2v10zm4 0h-2v-4h2v4z\"/>\n",
              "    </g>\n",
              "</svg>\n",
              "  </button>\n",
              "\n",
              "<style>\n",
              "  .colab-df-quickchart {\n",
              "      --bg-color: #E8F0FE;\n",
              "      --fill-color: #1967D2;\n",
              "      --hover-bg-color: #E2EBFA;\n",
              "      --hover-fill-color: #174EA6;\n",
              "      --disabled-fill-color: #AAA;\n",
              "      --disabled-bg-color: #DDD;\n",
              "  }\n",
              "\n",
              "  [theme=dark] .colab-df-quickchart {\n",
              "      --bg-color: #3B4455;\n",
              "      --fill-color: #D2E3FC;\n",
              "      --hover-bg-color: #434B5C;\n",
              "      --hover-fill-color: #FFFFFF;\n",
              "      --disabled-bg-color: #3B4455;\n",
              "      --disabled-fill-color: #666;\n",
              "  }\n",
              "\n",
              "  .colab-df-quickchart {\n",
              "    background-color: var(--bg-color);\n",
              "    border: none;\n",
              "    border-radius: 50%;\n",
              "    cursor: pointer;\n",
              "    display: none;\n",
              "    fill: var(--fill-color);\n",
              "    height: 32px;\n",
              "    padding: 0;\n",
              "    width: 32px;\n",
              "  }\n",
              "\n",
              "  .colab-df-quickchart:hover {\n",
              "    background-color: var(--hover-bg-color);\n",
              "    box-shadow: 0 1px 2px rgba(60, 64, 67, 0.3), 0 1px 3px 1px rgba(60, 64, 67, 0.15);\n",
              "    fill: var(--button-hover-fill-color);\n",
              "  }\n",
              "\n",
              "  .colab-df-quickchart-complete:disabled,\n",
              "  .colab-df-quickchart-complete:disabled:hover {\n",
              "    background-color: var(--disabled-bg-color);\n",
              "    fill: var(--disabled-fill-color);\n",
              "    box-shadow: none;\n",
              "  }\n",
              "\n",
              "  .colab-df-spinner {\n",
              "    border: 2px solid var(--fill-color);\n",
              "    border-color: transparent;\n",
              "    border-bottom-color: var(--fill-color);\n",
              "    animation:\n",
              "      spin 1s steps(1) infinite;\n",
              "  }\n",
              "\n",
              "  @keyframes spin {\n",
              "    0% {\n",
              "      border-color: transparent;\n",
              "      border-bottom-color: var(--fill-color);\n",
              "      border-left-color: var(--fill-color);\n",
              "    }\n",
              "    20% {\n",
              "      border-color: transparent;\n",
              "      border-left-color: var(--fill-color);\n",
              "      border-top-color: var(--fill-color);\n",
              "    }\n",
              "    30% {\n",
              "      border-color: transparent;\n",
              "      border-left-color: var(--fill-color);\n",
              "      border-top-color: var(--fill-color);\n",
              "      border-right-color: var(--fill-color);\n",
              "    }\n",
              "    40% {\n",
              "      border-color: transparent;\n",
              "      border-right-color: var(--fill-color);\n",
              "      border-top-color: var(--fill-color);\n",
              "    }\n",
              "    60% {\n",
              "      border-color: transparent;\n",
              "      border-right-color: var(--fill-color);\n",
              "    }\n",
              "    80% {\n",
              "      border-color: transparent;\n",
              "      border-right-color: var(--fill-color);\n",
              "      border-bottom-color: var(--fill-color);\n",
              "    }\n",
              "    90% {\n",
              "      border-color: transparent;\n",
              "      border-bottom-color: var(--fill-color);\n",
              "    }\n",
              "  }\n",
              "</style>\n",
              "\n",
              "  <script>\n",
              "    async function quickchart(key) {\n",
              "      const quickchartButtonEl =\n",
              "        document.querySelector('#' + key + ' button');\n",
              "      quickchartButtonEl.disabled = true;  // To prevent multiple clicks.\n",
              "      quickchartButtonEl.classList.add('colab-df-spinner');\n",
              "      try {\n",
              "        const charts = await google.colab.kernel.invokeFunction(\n",
              "            'suggestCharts', [key], {});\n",
              "      } catch (error) {\n",
              "        console.error('Error during call to suggestCharts:', error);\n",
              "      }\n",
              "      quickchartButtonEl.classList.remove('colab-df-spinner');\n",
              "      quickchartButtonEl.classList.add('colab-df-quickchart-complete');\n",
              "    }\n",
              "    (() => {\n",
              "      let quickchartButtonEl =\n",
              "        document.querySelector('#df-4fc5dcc2-0197-47a5-bbc7-10a5d89f5a09 button');\n",
              "      quickchartButtonEl.style.display =\n",
              "        google.colab.kernel.accessAllowed ? 'block' : 'none';\n",
              "    })();\n",
              "  </script>\n",
              "</div>\n",
              "    </div>\n",
              "  </div>\n"
            ]
          },
          "metadata": {},
          "execution_count": 89
        }
      ],
      "source": [
        "df = pd.read_csv('/content/drive/MyDrive/NLP/ref_tweets.csv')\n",
        "df = df.drop(['ID', 'Date Created', 'Number of Likes'], axis=1)\n",
        "# df['Sentiment'] = df['Sentiment'].replace('Neutral', 'Positive')\n",
        "df.rename(columns={'Tweet': 'text'}, inplace=True)\n",
        "df.head()"
      ]
    },
    {
      "cell_type": "code",
      "source": [
        "#PreProcessing\n",
        "stop_words = stopwords.words('english')\n",
        "stemmer = SnowballStemmer('english')\n",
        "\n",
        "text_cleaning_re = \"@\\S+|https?:\\S+|http?:\\S|[^A-Za-z0-9]+\"\n",
        "\n",
        "def preprocess(text, stem=False):\n",
        "  text = re.sub(text_cleaning_re, ' ', str(text).lower()).strip()\n",
        "  tokens = []\n",
        "  for token in text.split():\n",
        "    if token not in stop_words:\n",
        "      if stem:\n",
        "        tokens.append(stemmer.stem(token))\n",
        "      else:\n",
        "        tokens.append(token)\n",
        "  return \" \".join(tokens)"
      ],
      "metadata": {
        "id": "_ZdcogxpcCtL"
      },
      "execution_count": null,
      "outputs": []
    },
    {
      "cell_type": "code",
      "source": [
        "df.text = df.text.apply(lambda x: preprocess(x))\n",
        "df.head()"
      ],
      "metadata": {
        "id": "UCk3MyB7cZM2",
        "colab": {
          "base_uri": "https://localhost:8080/",
          "height": 206
        },
        "outputId": "27041891-411c-421a-8668-63ce4c3c7301"
      },
      "execution_count": null,
      "outputs": [
        {
          "output_type": "execute_result",
          "data": {
            "text/plain": [
              "                                                text Sentiment\n",
              "0    first female referee men world cup philly tough   Neutral\n",
              "1  north korea host world cup 2030 winning north ...   Neutral\n",
              "2  wondering much stoppage time world cup check l...   Neutral\n",
              "3  nfl referee scrutinize every angle tape determ...  Negative\n",
              "4  possibly imagining feel like fewer caustic pla...   Neutral"
            ],
            "text/html": [
              "\n",
              "  <div id=\"df-3ebe7bc0-aa7d-4e5a-a369-a9750028f2d1\" class=\"colab-df-container\">\n",
              "    <div>\n",
              "<style scoped>\n",
              "    .dataframe tbody tr th:only-of-type {\n",
              "        vertical-align: middle;\n",
              "    }\n",
              "\n",
              "    .dataframe tbody tr th {\n",
              "        vertical-align: top;\n",
              "    }\n",
              "\n",
              "    .dataframe thead th {\n",
              "        text-align: right;\n",
              "    }\n",
              "</style>\n",
              "<table border=\"1\" class=\"dataframe\">\n",
              "  <thead>\n",
              "    <tr style=\"text-align: right;\">\n",
              "      <th></th>\n",
              "      <th>text</th>\n",
              "      <th>Sentiment</th>\n",
              "    </tr>\n",
              "  </thead>\n",
              "  <tbody>\n",
              "    <tr>\n",
              "      <th>0</th>\n",
              "      <td>first female referee men world cup philly tough</td>\n",
              "      <td>Neutral</td>\n",
              "    </tr>\n",
              "    <tr>\n",
              "      <th>1</th>\n",
              "      <td>north korea host world cup 2030 winning north ...</td>\n",
              "      <td>Neutral</td>\n",
              "    </tr>\n",
              "    <tr>\n",
              "      <th>2</th>\n",
              "      <td>wondering much stoppage time world cup check l...</td>\n",
              "      <td>Neutral</td>\n",
              "    </tr>\n",
              "    <tr>\n",
              "      <th>3</th>\n",
              "      <td>nfl referee scrutinize every angle tape determ...</td>\n",
              "      <td>Negative</td>\n",
              "    </tr>\n",
              "    <tr>\n",
              "      <th>4</th>\n",
              "      <td>possibly imagining feel like fewer caustic pla...</td>\n",
              "      <td>Neutral</td>\n",
              "    </tr>\n",
              "  </tbody>\n",
              "</table>\n",
              "</div>\n",
              "    <div class=\"colab-df-buttons\">\n",
              "\n",
              "  <div class=\"colab-df-container\">\n",
              "    <button class=\"colab-df-convert\" onclick=\"convertToInteractive('df-3ebe7bc0-aa7d-4e5a-a369-a9750028f2d1')\"\n",
              "            title=\"Convert this dataframe to an interactive table.\"\n",
              "            style=\"display:none;\">\n",
              "\n",
              "  <svg xmlns=\"http://www.w3.org/2000/svg\" height=\"24px\" viewBox=\"0 -960 960 960\">\n",
              "    <path d=\"M120-120v-720h720v720H120Zm60-500h600v-160H180v160Zm220 220h160v-160H400v160Zm0 220h160v-160H400v160ZM180-400h160v-160H180v160Zm440 0h160v-160H620v160ZM180-180h160v-160H180v160Zm440 0h160v-160H620v160Z\"/>\n",
              "  </svg>\n",
              "    </button>\n",
              "\n",
              "  <style>\n",
              "    .colab-df-container {\n",
              "      display:flex;\n",
              "      gap: 12px;\n",
              "    }\n",
              "\n",
              "    .colab-df-convert {\n",
              "      background-color: #E8F0FE;\n",
              "      border: none;\n",
              "      border-radius: 50%;\n",
              "      cursor: pointer;\n",
              "      display: none;\n",
              "      fill: #1967D2;\n",
              "      height: 32px;\n",
              "      padding: 0 0 0 0;\n",
              "      width: 32px;\n",
              "    }\n",
              "\n",
              "    .colab-df-convert:hover {\n",
              "      background-color: #E2EBFA;\n",
              "      box-shadow: 0px 1px 2px rgba(60, 64, 67, 0.3), 0px 1px 3px 1px rgba(60, 64, 67, 0.15);\n",
              "      fill: #174EA6;\n",
              "    }\n",
              "\n",
              "    .colab-df-buttons div {\n",
              "      margin-bottom: 4px;\n",
              "    }\n",
              "\n",
              "    [theme=dark] .colab-df-convert {\n",
              "      background-color: #3B4455;\n",
              "      fill: #D2E3FC;\n",
              "    }\n",
              "\n",
              "    [theme=dark] .colab-df-convert:hover {\n",
              "      background-color: #434B5C;\n",
              "      box-shadow: 0px 1px 3px 1px rgba(0, 0, 0, 0.15);\n",
              "      filter: drop-shadow(0px 1px 2px rgba(0, 0, 0, 0.3));\n",
              "      fill: #FFFFFF;\n",
              "    }\n",
              "  </style>\n",
              "\n",
              "    <script>\n",
              "      const buttonEl =\n",
              "        document.querySelector('#df-3ebe7bc0-aa7d-4e5a-a369-a9750028f2d1 button.colab-df-convert');\n",
              "      buttonEl.style.display =\n",
              "        google.colab.kernel.accessAllowed ? 'block' : 'none';\n",
              "\n",
              "      async function convertToInteractive(key) {\n",
              "        const element = document.querySelector('#df-3ebe7bc0-aa7d-4e5a-a369-a9750028f2d1');\n",
              "        const dataTable =\n",
              "          await google.colab.kernel.invokeFunction('convertToInteractive',\n",
              "                                                    [key], {});\n",
              "        if (!dataTable) return;\n",
              "\n",
              "        const docLinkHtml = 'Like what you see? Visit the ' +\n",
              "          '<a target=\"_blank\" href=https://colab.research.google.com/notebooks/data_table.ipynb>data table notebook</a>'\n",
              "          + ' to learn more about interactive tables.';\n",
              "        element.innerHTML = '';\n",
              "        dataTable['output_type'] = 'display_data';\n",
              "        await google.colab.output.renderOutput(dataTable, element);\n",
              "        const docLink = document.createElement('div');\n",
              "        docLink.innerHTML = docLinkHtml;\n",
              "        element.appendChild(docLink);\n",
              "      }\n",
              "    </script>\n",
              "  </div>\n",
              "\n",
              "\n",
              "<div id=\"df-770d74e0-b121-439e-ac35-67fa7cb5c8c9\">\n",
              "  <button class=\"colab-df-quickchart\" onclick=\"quickchart('df-770d74e0-b121-439e-ac35-67fa7cb5c8c9')\"\n",
              "            title=\"Suggest charts\"\n",
              "            style=\"display:none;\">\n",
              "\n",
              "<svg xmlns=\"http://www.w3.org/2000/svg\" height=\"24px\"viewBox=\"0 0 24 24\"\n",
              "     width=\"24px\">\n",
              "    <g>\n",
              "        <path d=\"M19 3H5c-1.1 0-2 .9-2 2v14c0 1.1.9 2 2 2h14c1.1 0 2-.9 2-2V5c0-1.1-.9-2-2-2zM9 17H7v-7h2v7zm4 0h-2V7h2v10zm4 0h-2v-4h2v4z\"/>\n",
              "    </g>\n",
              "</svg>\n",
              "  </button>\n",
              "\n",
              "<style>\n",
              "  .colab-df-quickchart {\n",
              "      --bg-color: #E8F0FE;\n",
              "      --fill-color: #1967D2;\n",
              "      --hover-bg-color: #E2EBFA;\n",
              "      --hover-fill-color: #174EA6;\n",
              "      --disabled-fill-color: #AAA;\n",
              "      --disabled-bg-color: #DDD;\n",
              "  }\n",
              "\n",
              "  [theme=dark] .colab-df-quickchart {\n",
              "      --bg-color: #3B4455;\n",
              "      --fill-color: #D2E3FC;\n",
              "      --hover-bg-color: #434B5C;\n",
              "      --hover-fill-color: #FFFFFF;\n",
              "      --disabled-bg-color: #3B4455;\n",
              "      --disabled-fill-color: #666;\n",
              "  }\n",
              "\n",
              "  .colab-df-quickchart {\n",
              "    background-color: var(--bg-color);\n",
              "    border: none;\n",
              "    border-radius: 50%;\n",
              "    cursor: pointer;\n",
              "    display: none;\n",
              "    fill: var(--fill-color);\n",
              "    height: 32px;\n",
              "    padding: 0;\n",
              "    width: 32px;\n",
              "  }\n",
              "\n",
              "  .colab-df-quickchart:hover {\n",
              "    background-color: var(--hover-bg-color);\n",
              "    box-shadow: 0 1px 2px rgba(60, 64, 67, 0.3), 0 1px 3px 1px rgba(60, 64, 67, 0.15);\n",
              "    fill: var(--button-hover-fill-color);\n",
              "  }\n",
              "\n",
              "  .colab-df-quickchart-complete:disabled,\n",
              "  .colab-df-quickchart-complete:disabled:hover {\n",
              "    background-color: var(--disabled-bg-color);\n",
              "    fill: var(--disabled-fill-color);\n",
              "    box-shadow: none;\n",
              "  }\n",
              "\n",
              "  .colab-df-spinner {\n",
              "    border: 2px solid var(--fill-color);\n",
              "    border-color: transparent;\n",
              "    border-bottom-color: var(--fill-color);\n",
              "    animation:\n",
              "      spin 1s steps(1) infinite;\n",
              "  }\n",
              "\n",
              "  @keyframes spin {\n",
              "    0% {\n",
              "      border-color: transparent;\n",
              "      border-bottom-color: var(--fill-color);\n",
              "      border-left-color: var(--fill-color);\n",
              "    }\n",
              "    20% {\n",
              "      border-color: transparent;\n",
              "      border-left-color: var(--fill-color);\n",
              "      border-top-color: var(--fill-color);\n",
              "    }\n",
              "    30% {\n",
              "      border-color: transparent;\n",
              "      border-left-color: var(--fill-color);\n",
              "      border-top-color: var(--fill-color);\n",
              "      border-right-color: var(--fill-color);\n",
              "    }\n",
              "    40% {\n",
              "      border-color: transparent;\n",
              "      border-right-color: var(--fill-color);\n",
              "      border-top-color: var(--fill-color);\n",
              "    }\n",
              "    60% {\n",
              "      border-color: transparent;\n",
              "      border-right-color: var(--fill-color);\n",
              "    }\n",
              "    80% {\n",
              "      border-color: transparent;\n",
              "      border-right-color: var(--fill-color);\n",
              "      border-bottom-color: var(--fill-color);\n",
              "    }\n",
              "    90% {\n",
              "      border-color: transparent;\n",
              "      border-bottom-color: var(--fill-color);\n",
              "    }\n",
              "  }\n",
              "</style>\n",
              "\n",
              "  <script>\n",
              "    async function quickchart(key) {\n",
              "      const quickchartButtonEl =\n",
              "        document.querySelector('#' + key + ' button');\n",
              "      quickchartButtonEl.disabled = true;  // To prevent multiple clicks.\n",
              "      quickchartButtonEl.classList.add('colab-df-spinner');\n",
              "      try {\n",
              "        const charts = await google.colab.kernel.invokeFunction(\n",
              "            'suggestCharts', [key], {});\n",
              "      } catch (error) {\n",
              "        console.error('Error during call to suggestCharts:', error);\n",
              "      }\n",
              "      quickchartButtonEl.classList.remove('colab-df-spinner');\n",
              "      quickchartButtonEl.classList.add('colab-df-quickchart-complete');\n",
              "    }\n",
              "    (() => {\n",
              "      let quickchartButtonEl =\n",
              "        document.querySelector('#df-770d74e0-b121-439e-ac35-67fa7cb5c8c9 button');\n",
              "      quickchartButtonEl.style.display =\n",
              "        google.colab.kernel.accessAllowed ? 'block' : 'none';\n",
              "    })();\n",
              "  </script>\n",
              "</div>\n",
              "    </div>\n",
              "  </div>\n"
            ]
          },
          "metadata": {},
          "execution_count": 91
        }
      ]
    },
    {
      "cell_type": "code",
      "source": [
        "#Train And Test Split\n",
        "TRAIN_SIZE = 0.8\n",
        "MAX_SEQUENCE_LENGTH = 30\n",
        "\n",
        "y = df['Sentiment']\n",
        "\n",
        "train_data, test_data, _, _ = train_test_split(df, y, test_size=1-TRAIN_SIZE,\n",
        "                                         random_state=7, stratify=y)\n",
        "print(\"Train Data size:\",len(train_data))\n",
        "print(\"Test Data size\", len(test_data))\n",
        "# train_data.head(10)"
      ],
      "metadata": {
        "colab": {
          "base_uri": "https://localhost:8080/"
        },
        "id": "ol0MCqB1c7Zb",
        "outputId": "fac364bf-7391-4e2b-92a2-ae2b7013477c"
      },
      "execution_count": null,
      "outputs": [
        {
          "output_type": "stream",
          "name": "stdout",
          "text": [
            "Train Data size: 3200\n",
            "Test Data size 800\n"
          ]
        }
      ]
    },
    {
      "cell_type": "code",
      "source": [
        "#Tokenization\n",
        "from keras.preprocessing.text import Tokenizer\n",
        "\n",
        "tokenizer = Tokenizer()\n",
        "tokenizer.fit_on_texts(train_data.text)\n",
        "\n",
        "word_index = tokenizer.word_index\n",
        "vocab_size = len(tokenizer.word_index) + 1\n",
        "print(\"Vocabulary Size :\", vocab_size)"
      ],
      "metadata": {
        "id": "oWi5Zhsd4LyR",
        "colab": {
          "base_uri": "https://localhost:8080/"
        },
        "outputId": "1bb7ec1f-78b6-41f1-a9fe-abcc610b011d"
      },
      "execution_count": null,
      "outputs": [
        {
          "output_type": "stream",
          "name": "stdout",
          "text": [
            "Vocabulary Size : 6625\n"
          ]
        }
      ]
    },
    {
      "cell_type": "code",
      "source": [
        "print(word_index)"
      ],
      "metadata": {
        "colab": {
          "base_uri": "https://localhost:8080/"
        },
        "id": "ySHuIFTPq-H9",
        "outputId": "81fe3eb6-a266-4031-e11f-45ad7618eb81"
      },
      "execution_count": null,
      "outputs": [
        {
          "output_type": "stream",
          "name": "stdout",
          "text": [
            "{'world': 1, 'cup': 2, 'referee': 3, 'ref': 4, 'worldcup': 5, 'game': 6, 'fifaworldcup': 7, 'match': 8, 'argentina': 9, 'england': 10, 'time': 11, 'penalty': 12, 'var': 13, 'france': 14, 'fifa': 15, 'get': 16, 'first': 17, 'messi': 18, 'one': 19, 'final': 20, 'team': 21, 'win': 22, 'like': 23, 'worst': 24, 'football': 25, 'qatar': 26, 'even': 27, 'never': 28, 'see': 29, 'players': 30, 'ever': 31, 'yellow': 32, 'vs': 33, 'goal': 34, 'got': 35, 'qatar2022': 36, 'far': 37, 'card': 38, 'would': 39, 'well': 40, 'worldcup2022': 41, 'bad': 42, 'play': 43, '2': 44, 'go': 45, 'us': 46, 'best': 47, 'let': 48, 'give': 49, 'good': 50, 'player': 51, '1': 52, 'games': 53, 'still': 54, 'ghana': 55, 'another': 56, 'last': 57, 'know': 58, 'decisions': 59, 'make': 60, 'amp': 61, 'every': 62, 'call': 63, 'refs': 64, 'think': 65, 'seen': 66, 'better': 67, 'men': 68, 'watching': 69, 'way': 70, 'going': 71, 'tournament': 72, 'penalties': 73, 'referees': 74, 'morocco': 75, 'fuck': 76, 'much': 77, 'shit': 78, 'nedarg': 79, 'really': 80, 'today': 81, 'decision': 82, 'cards': 83, 'portugal': 84, 'uruguay': 85, 'fucking': 86, '2022': 87, 'female': 88, 'ball': 89, 'made': 90, 'minutes': 91, 'officiating': 92, '3': 93, 'engfra': 94, 'red': 95, 'could': 96, 'french': 97, 'allowed': 98, 'whistle': 99, 'woman': 100, 'take': 101, 'half': 102, 'want': 103, 'right': 104, 'man': 105, 'watch': 106, 'say': 107, 'african': 108, 'teams': 109, 'played': 110, 'soccer': 111, 'league': 112, 'v': 113, 'history': 114, 'need': 115, 'tonight': 116, 'joke': 117, 'netherlands': 118, 'officiate': 119, 'end': 120, 'usa': 121, 'germany': 122, 'hope': 123, 'getting': 124, 'back': 125, 'also': 126, 'many': 127, 'english': 128, 'done': 129, 'fifacom': 130, 'worldcupqatar2022': 131, 'great': 132, 'refereeing': 133, 'rigged': 134, 'gave': 135, 'mbappe': 136, 'absolutely': 137, 'people': 138, 'brazil': 139, 'two': 140, 'lost': 141, 'kick': 142, 'always': 143, 'frappart': 144, 'argentinavsfrance': 145, 'foul': 146, 'terrible': 147, 'country': 148, 'given': 149, 'said': 150, 'poor': 151, 'kane': 152, '4': 153, 'croatia': 154, 'corrupt': 155, 'sure': 156, 'calls': 157, 'check': 158, 'finals': 159, 'must': 160, 'englandvsfrance': 161, 'thing': 162, 'second': 163, 'taylor': 164, 'wrong': 165, 'side': 166, '0': 167, 'night': 168, 'stop': 169, 'love': 170, 'playing': 171, 'look': 172, 'offside': 173, 'extra': 174, 'rica': 175, 'matches': 176, 'goals': 177, 'south': 178, 'already': 179, 'costa': 180, 'quarter': 181, 'fouls': 182, 'might': 183, 'next': 184, 'lahoz': 185, 'ronaldo': 186, 'performance': 187, 'missed': 188, 'clear': 189, 'anthony': 190, 'thought': 191, '5': 192, 'least': 193, 'trying': 194, 'needs': 195, 'awful': 196, 'minute': 197, 'full': 198, 'level': 199, 'fifaworldcup2022': 200, 'absolute': 201, 'fans': 202, 'spain': 203, 'pen': 204, 'without': 205, 'gets': 206, 'whole': 207, 'day': 208, 'stephanie': 209, 'free': 210, 'big': 211, 'year': 212, 'afcon': 213, 'lot': 214, 'semi': 215, 'fair': 216, 'charge': 217, 'clearly': 218, 'blame': 219, 'nothing': 220, 'biased': 221, 'paid': 222, 'enough': 223, 'help': 224, 'anyone': 225, 'home': 226, 'giving': 227, 'officials': 228, 'put': 229, '10': 230, 'please': 231, 'imagine': 232, 'saying': 233, 'taking': 234, 'worldcupfinal': 235, 'come': 236, 'added': 237, 'gonna': 238, 'field': 239, 'called': 240, 'yet': 241, 'canada': 242, 'shocking': 243, 'wins': 244, 'italian': 245, 'women': 246, 'making': 247, 'actually': 248, 'lol': 249, '6': 250, 'proud': 251, 'score': 252, 'believe': 253, 'hand': 254, 'elfath': 255, 'argentinavscroatia': 256, 'seeing': 257, 'away': 258, 'blow': 259, 'show': 260, 'africa': 261, 'korea': 262, 'ismail': 263, 'japan': 264, 'f': 265, 'gives': 266, 'u': 267, 'someone': 268, 'top': 269, 'become': 270, 'robbed': 271, 'lose': 272, 'wales': 273, 'eng': 274, 'stupid': 275, 'happened': 276, 'round': 277, 'since': 278, 'arg': 279, 'premier': 280, 'start': 281, 'corruption': 282, 'scored': 283, 'reason': 284, 'disgrace': 285, 'years': 286, 'beat': 287, 'everyone': 288, 'something': 289, 'deserve': 290, 'shame': 291, 'sent': 292, 'pitch': 293, 'american': 294, 'watched': 295, 'obvious': 296, 'sport': 297, 'goes': 298, 'line': 299, 'looks': 300, 'long': 301, 'wants': 302, 'feel': 303, 'though': 304, 'early': 305, 'fifaworldcupqatar2022': 306, 'winning': 307, 'everything': 308, 'qatarworldcup2022': 309, 'guy': 310, 'job': 311, 'oliver': 312, 'makes': 313, 'mins': 314, 'blew': 315, 'stage': 316, 'maybe': 317, 'handball': 318, 'cheating': 319, 'reffing': 320, 'harry': 321, 'southgate': 322, 'wonder': 323, 'remember': 324, 'michael': 325, 'awarded': 326, 'happy': 327, 'champions': 328, 'tell': 329, 'fact': 330, 'life': 331, 'high': 332, 'hell': 333, 'argfra': 334, 'point': 335, 'understand': 336, '2nd': 337, 'corner': 338, 'spanish': 339, 'entire': 340, 'knocked': 341, 'ck': 342, 'probably': 343, 'crew': 344, 'head': 345, 'happen': 346, 'things': 347, 'knockout': 348, 'completely': 349, 'africans': 350, 'ridiculous': 351, 'worse': 352, 'may': 353, 'cheated': 354, 'belgium': 355, 'qatari': 356, 'different': 357, 'use': 358, 'questionable': 359, 'group': 360, 'goat': 361, 'official': 362, 'nations': 363, 'fan': 364, 'keep': 365, '16': 366, 'new': 367, 'saudi': 368, 'touch': 369, 'blind': 370, 'guess': 371, 'injury': 372, 'taken': 373, 'real': 374, 'offsides': 375, 'biggest': 376, 'dey': 377, 'else': 378, 'stoppage': 379, 'yesterday': 380, 'used': 381, 'looking': 382, '12': 383, 'etc': 384, 'iran': 385, 'rules': 386, 'times': 387, 'pathetic': 388, 'little': 389, 'oh': 390, 'money': 391, 'left': 392, 'blaming': 393, 'class': 394, 'calling': 395, 'na': 396, 'near': 397, 'deserved': 398, 'chances': 399, '1st': 400, 'moroccovsfrance': 401, 'ok': 402, 'controversial': 403, 'amazing': 404, 'alone': 405, 'took': 406, 'assistant': 407, 'wc': 408, 'ecuador': 409, '90': 410, 'sunday': 411, 'control': 412, 'funny': 413, 'beautiful': 414, 'ned': 415, 'name': 416, 'single': 417, 'moment': 418, 'guys': 419, 'amount': 420, 'complaining': 421, 'bias': 422, 'shite': 423, 'seems': 424, 'luck': 425, 'hard': 426, 'argcro': 427, 'usmnt': 428, 'wasting': 429, 'officiated': 430, 'bought': 431, 'mind': 432, 'allow': 433, 'hands': 434, 'course': 435, 'lmao': 436, 'standard': 437, 'around': 438, 'countries': 439, 'idea': 440, 'booked': 441, 'complain': 442, 'place': 443, 'stopped': 444, 'wanted': 445, 'instead': 446, 'mateu': 447, 'saw': 448, 'sampaio': 449, 'peter': 450, 'either': 451, 'video': 452, 'congratulations': 453, 'wait': 454, 'literally': 455, 'doubt': 456, 'cameroon': 457, 'poland': 458, 'spot': 459, 'bit': 460, 'gt': 461, 'none': 462, 'ended': 463, 'shows': 464, 'decided': 465, 'anything': 466, 'winner': 467, 'mls': 468, 'engsen': 469, 'st': 470, 'question': 471, 'senegal': 472, 'fifaworldcupfinal': 473, 'looked': 474, '100': 475, 'suarez': 476, 'result': 477, 'rubbish': 478, 'nation': 479, 'saka': 480, 'performances': 481, 'rest': 482, 'im': 483, 'psg': 484, 'dodgy': 485, 'due': 486, 'chance': 487, 'part': 488, 'aboubakar': 489, 'started': 490, 'shirt': 491, 'e': 492, 'racist': 493, 'running': 494, 'crazy': 495, 'knows': 496, 'ghauru': 497, 'contact': 498, 'record': 499, 'frapol': 500, 'yes': 501, 'brilliant': 502, 'complete': 503, 'porgha': 504, 'miss': 505, 'cost': 506, 'thursday': 507, 'dirty': 508, 'coming': 509, 'run': 510, 'definitely': 511, 'unfair': 512, 'surely': 513, 'missing': 514, 'commentator': 515, 'wilton': 516, 'gone': 517, 'sense': 518, '9': 519, 'god': 520, 'sports': 521, 'throw': 522, 'talk': 523, 'hate': 524, 'decide': 525, 'loss': 526, 'argentine': 527, 'drama': 528, 'exit': 529, 'nice': 530, 'sad': 531, 'ass': 532, 'less': 533, 'book': 534, 'three': 535, 'horrible': 536, 'boys': 537, 'thats': 538, 'shown': 539, 'mistakes': 540, 'interesting': 541, 'wtf': 542, 'throughout': 543, 'says': 544, 'talking': 545, 'quality': 546, 'went': 547, 'care': 548, 'anyway': 549, 'gutted': 550, 'speak': 551, 'despite': 552, 'stadium': 553, 'shot': 554, 'live': 555, 'orsato': 556, 'blowing': 557, 'sides': 558, 'brazilian': 559, 'state': 560, 'centre': 561, 'pens': 562, 'assistants': 563, 'inconsistent': 564, 'mad': 565, 'disgraceful': 566, 'fixed': 567, 'set': 568, 'putting': 569, 'disallowed': 570, 'pretty': 571, 'told': 572, 'face': 573, 'blatant': 574, 'respect': 575, 'euros': 576, 'earth': 577, 'finally': 578, 'screen': 579, 'opinion': 580, 'bet': 581, 'mexico': 582, 'tried': 583, 'soon': 584, 'cheat': 585, 'bro': 586, 'thanks': 587, 'phanie': 588, 'black': 589, 'pundits': 590, 'sorry': 591, 'earlier': 592, 'fake': 593, 'especially': 594, 'twice': 595, 'congrats': 596, 'weird': 597, 'ground': 598, 'takes': 599, 'national': 600, 'arabia': 601, 'hit': 602, 'lads': 603, 'ffs': 604, 'send': 605, 'european': 606, 'walton': 607, 'easy': 608, 'commentators': 609, 'hey': 610, 'favor': 611, 'useless': 612, 'eyes': 613, 'cannot': 614, 'cause': 615, 'framar': 616, 'morning': 617, 'n': 618, 'total': 619, 'attention': 620, 'tunisia': 621, 'kicks': 622, 'blows': 623, 'linesman': 624, 'min': 625, 'dude': 626, 'towards': 627, 'truly': 628, 'america': 629, 'al': 630, 'non': 631, 'subs': 632, 'add': 633, 'zambian': 634, 'showing': 635, 'pull': 636, 'language': 637, 'simple': 638, 'anymore': 639, 'experience': 640, 'host': 641, 'knew': 642, 'clown': 643, 'szymon': 644, 'pro': 645, 'surprised': 646, 'super': 647, 'tackle': 648, 'including': 649, 'soft': 650, 'appalling': 651, 'forget': 652, 'australia': 653, 'decent': 654, 'incredible': 655, 'lionel': 656, 'box': 657, 'losing': 658, 'needed': 659, 'yellows': 660, 'massive': 661, 'media': 662, 'cant': 663, 'matter': 664, 'hopefully': 665, 'omg': 666, 'review': 667, 'nah': 668, 'argksa': 669, 'although': 670, 'itsnotcominghome': 671, 'ruined': 672, 'scoring': 673, 'trash': 674, '20': 675, 'mexican': 676, 'fra': 677, 'wanna': 678, 'opponent': 679, 'dreadful': 680, 'person': 681, 'work': 682, 'agenda': 683, 'beyond': 684, 'wow': 685, 'pepe': 686, 'diving': 687, 'able': 688, 'cry': 689, 'front': 690, 'mean': 691, '7': 692, 'sikazwe': 693, 'helping': 694, 'however': 695, '15': 696, 'marciniak': 697, 'turned': 698, 'italy': 699, 'ignored': 700, 'points': 701, 'favour': 702, 'fucked': 703, 'dear': 704, 'working': 705, 'stand': 706, 'liga': 707, 'disgusting': 708, 'challenge': 709, 'crying': 710, 'keeper': 711, 'forward': 712, 'change': 713, 'expect': 714, '2018': 715, 'center': 716, 'rule': 717, 'deserves': 718, 'moments': 719, 'behind': 720, 'unbelievable': 721, 'several': 722, 'draw': 723, 'opportunity': 724, 'ruin': 725, 'denied': 726, 'damn': 727, 'wondering': 728, 'favorite': 729, 'shitty': 730, 'knowing': 731, 'unacceptable': 732, 'beginning': 733, 'racism': 734, 'coach': 735, 'pk': 736, 'support': 737, 'bring': 738, 'till': 739, 'speaking': 740, 'fantastic': 741, 'continues': 742, 'international': 743, 'additional': 744, 'qualified': 745, 'agree': 746, 'squad': 747, 'plays': 748, 'banned': 749, 'leave': 750, 'huge': 751, 'becoming': 752, 'technology': 753, 'janny': 754, '85th': 755, 'action': 756, 'dont': 757, 'changed': 758, 'lead': 759, 'advantage': 760, 'perfect': 761, 'hosting': 762, 'injuries': 763, 'qualify': 764, 'bribe': 765, 'middle': 766, 'excellent': 767, 'bribed': 768, 'white': 769, 'euro': 770, 'switzerland': 771, 'stuff': 772, '30': 773, 'old': 774, 'continue': 775, 'shameful': 776, 'fault': 777, 'insane': 778, 'argned': 779, 'letting': 780, 'la': 781, 'favourite': 782, 'classic': 783, 'feeling': 784, 'lucky': 785, 'quite': 786, 'garbage': 787, 'proper': 788, 'week': 789, 'hear': 790, 'w': 791, 'commentary': 792, 'tough': 793, 'yeah': 794, 'plenty': 795, 'bullshit': 796, 'nigerian': 797, 'dutch': 798, 'imo': 799, 'itv': 800, 'hold': 801, 'move': 802, 'lets': 803, 'fraud': 804, 'news': 805, 'screaming': 806, 'scores': 807, 'main': 808, 'gotta': 809, 'surprise': 810, 'tears': 811, 'ask': 812, 'btw': 813, 'open': 814, 'case': 815, 'major': 816, 'close': 817, 'serbia': 818, 'japanese': 819, 'argentinian': 820, 'justice': 821, 'wish': 822, 'acting': 823, 'consistent': 824, '2014': 825, 'example': 826, 'allowing': 827, 'managed': 828, 'dive': 829, 'try': 830, 'find': 831, 'uruguayvsghana': 832, 'assigned': 833, 'fighting': 834, 'thank': 835, 'pure': 836, 'neville': 837, 'wearing': 838, 'upset': 839, 'clean': 840, 'award': 841, 'europe': 842, 'tho': 843, 'hernandez': 844, 'business': 845, 'bafana': 846, 'tv': 847, 'among': 848, 'nowhere': 849, 'finish': 850, 'boycott': 851, 'eliminated': 852, 'supposed': 853, 'de': 854, 'glad': 855, 'suspended': 856, '2026': 857, 'fun': 858, 'depth': 859, 'trophy': 860, 'cos': 861, 'days': 862, 'crap': 863, 'finished': 864, 'collina': 865, 'pass': 866, 'bbc': 867, 'turpin': 868, 'epl': 869, 'farce': 870, 'ur': 871, 'idiot': 872, 'robbery': 873, 'eye': 874, 'polish': 875, '3rd': 876, 'nfl': 877, 'dem': 878, 'witnessed': 879, 'star': 880, 'horrendous': 881, 'refused': 882, 'fixing': 883, 'monitor': 884, 'honestly': 885, 'past': 886, 'carded': 887, 'neymar': 888, 'results': 889, 'everybody': 890, 'seriously': 891, 'sick': 892, 'scripted': 893, 'seem': 894, 'standards': 895, 'arguing': 896, 'held': 897, 'came': 898, 'afraid': 899, 'incompetent': 900, 'becomes': 901, 'progress': 902, 'competition': 903, 'waste': 904, '40': 905, 'brakor': 906, 'outcome': 907, 'opening': 908, 'club': 909, 'somehow': 910, 'fouled': 911, 'park': 912, 'golden': 913, 'kicked': 914, 'chosen': 915, 'madness': 916, 'moaning': 917, 'heard': 918, 'refereed': 919, 'break': 920, 'scottish': 921, 'defeat': 922, 'coin': 923, 'qf': 924, 'fall': 925, 'mens': 926, 'genuinely': 927, 'martinez': 928, 'didnt': 929, 'interest': 930, 'defender': 931, 'cristiano': 932, 'excuse': 933, 'except': 934, 'possible': 935, 'sending': 936, 'heart': 937, 'selected': 938, 'salima': 939, 'obviously': 940, 'thinking': 941, 'important': 942, '85': 943, 'onelove': 944, '45': 945, 'shock': 946, 'mark': 947, 'fix': 948, 'regardless': 949, 'starting': 950, 'foot': 951, 'balls': 952, 'save': 953, 'okay': 954, 'victor': 955, 'seconds': 956, 'aside': 957, 'became': 958, 'strange': 959, 'word': 960, 'handle': 961, 'tackles': 962, 'unfortunately': 963, 'felt': 964, 'sucks': 965, 'apparently': 966, 'k': 967, 'likely': 968, 'superb': 969, 'horrific': 970, 'fraeng': 971, 'shambles': 972, 'nigeria': 973, 'disaster': 974, 'keeping': 975, 'straight': 976, 'season': 977, 'manager': 978, 'languages': 979, 'cut': 980, 'per': 981, 'goalkeeper': 982, 'comes': 983, 'kind': 984, 'asking': 985, 'boy': 986, 'friday': 987, 'belcan': 988, 'cheap': 989, 'cancel': 990, 'lots': 991, 'flopping': 992, '2010': 993, 'outstanding': 994, 'president': 995, 'whoever': 996, 'stars': 997, 'tomorrow': 998, 'excited': 999, '8': 1000, 'stonewall': 1001, 'ones': 1002, 'constantly': 1003, 'flow': 1004, 'later': 1005, 'assist': 1006, 'conspiracy': 1007, 'welcome': 1008, 'proved': 1009, 'heads': 1010, 'analysis': 1011, 'bench': 1012, 'fa': 1013, 'bbcworldcup': 1014, 'third': 1015, 'premierleague': 1016, 'pushing': 1017, '17': 1018, 'bruh': 1019, 'shut': 1020, 'notice': 1021, 'skill': 1022, 'involving': 1023, 'robbing': 1024, 'nedvsarg': 1025, 'means': 1026, 'urugha': 1027, 'checked': 1028, 'shake': 1029, 'bothered': 1030, 'bloody': 1031, 'giroud': 1032, 'prem': 1033, 'known': 1034, 'uruguayan': 1035, 'costs': 1036, 'prick': 1037, 'indeed': 1038, 'gary': 1039, 'ruining': 1040, 'victory': 1041, 'ensure': 1042, 'da': 1043, 'disappointing': 1044, 'shoulder': 1045, 'event': 1046, 'q': 1047, 'story': 1048, 'mukansanga': 1049, 'sack': 1050, 'copa': 1051, 'mention': 1052, 'rights': 1053, 'holding': 1054, 'anywhere': 1055, 'cuz': 1056, 'extremely': 1057, 'errors': 1058, 'king': 1059, 'feels': 1060, 'qatar2022worldcup': 1061, 'klive': 1062, 'worldcupvillage': 1063, 'kmdtv': 1064, 'kmdmedia': 1065, 'mrgonjawrites': 1066, 'rooting': 1067, 'view': 1068, 'losers': 1069, 'deal': 1070, 'falling': 1071, 'crowd': 1072, 'mistake': 1073, 'pereira': 1074, 'unless': 1075, 'german': 1076, 'issue': 1077, 'unnecessary': 1078, 'portuguese': 1079, 'thus': 1080, 'clement': 1081, 'supporting': 1082, 'credit': 1083, 'almost': 1084, 'twitter': 1085, 'barely': 1086, 'average': 1087, 'blown': 1088, 'showed': 1089, 'celebrating': 1090, 'chasing': 1091, 'happens': 1092, 'certainly': 1093, 'jesus': 1094, 'boufal': 1095, 'disappointed': 1096, 'post': 1097, 'totally': 1098, 'pl': 1099, 'career': 1100, 'apart': 1101, 'dog': 1102, 'according': 1103, 'referring': 1104, 'dead': 1105, 'involved': 1106, 'angry': 1107, 'listen': 1108, 'certain': 1109, 'smh': 1110, 'multiple': 1111, 'screw': 1112, 'cb': 1113, 'greatest': 1114, 'dreams': 1115, 'knock': 1116, 'appointed': 1117, 'uru': 1118, 'pressure': 1119, 'sees': 1120, 'stay': 1121, 'ft': 1122, 'karma': 1123, 'outplayed': 1124, 'arm': 1125, 'eu': 1126, 'screwed': 1127, 'ppl': 1128, 'brasil': 1129, 'system': 1130, 'sometimes': 1131, 'school': 1132, 'cross': 1133, 'saudis': 1134, 'kill': 1135, 'stu': 1136, 'breaking': 1137, 'highlights': 1138, 'thoughts': 1139, 'bra': 1140, 'atrocious': 1141, 'incident': 1142, 'advance': 1143, 'bin': 1144, 'kiss': 1145, 'daniele': 1146, 'investigated': 1147, 'coincidence': 1148, 'along': 1149, 'defo': 1150, 'futbol': 1151, 'whatever': 1152, 'explain': 1153, 'outrageous': 1154, 'currently': 1155, 'kicking': 1156, 'tactics': 1157, 'punishment': 1158, 'kounde': 1159, 'former': 1160, 'problem': 1161, 'wild': 1162, 'usawal': 1163, 'son': 1164, 'atleast': 1165, 'injured': 1166, 'unlucky': 1167, 'flag': 1168, 'form': 1169, 'walker': 1170, 'mom': 1171, 'likes': 1172, 'toss': 1173, 'gig': 1174, '2002': 1175, 'c': 1176, 'coaches': 1177, 'dancing': 1178, 'daniel': 1179, 'jersey': 1180, 'bitch': 1181, 'bringing': 1182, 'unfortunate': 1183, 'caused': 1184, 'netherlandsvsargentina': 1185, 'threelions': 1186, 'arguably': 1187, 'ive': 1188, 'competing': 1189, 'thinks': 1190, 'easily': 1191, '50': 1192, 'wey': 1193, 'bookings': 1194, 'carry': 1195, 'stood': 1196, 'waiting': 1197, 'choice': 1198, 'worlds2022': 1199, 'yamashita': 1200, '36': 1201, 'overall': 1202, 'shootout': 1203, '2019': 1204, '24': 1205, 'fr': 1206, 'asked': 1207, 'karen': 1208, 'gifted': 1209, 'style': 1210, 'bruno': 1211, 'discretion': 1212, 'attack': 1213, 'lack': 1214, 'act': 1215, 'announcers': 1216, 'korgha': 1217, 'true': 1218, 'mess': 1219, 'wasted': 1220, 'trust': 1221, 'awarding': 1222, 'ya': 1223, 'using': 1224, 'broke': 1225, 'ni': 1226, 'controversies': 1227, 'fkn': 1228, 'within': 1229, 'engvssen': 1230, 'jpn': 1231, 'inconsistency': 1232, 'adding': 1233, 'bbcfootball': 1234, 'fit': 1235, 'laugh': 1236, 'cavani': 1237, 'par': 1238, 'tuesday': 1239, 'gomes': 1240, 'rather': 1241, 'difference': 1242, 'favouring': 1243, 'awesome': 1244, 'canadian': 1245, 'gareth': 1246, 'walirn': 1247, 'tie': 1248, 'short': 1249, 'positive': 1250, 'power': 1251, 'gha': 1252, 'outta': 1253, 'bunch': 1254, 'usual': 1255, 'lad': 1256, 'mr': 1257, 'counter': 1258, 'attempt': 1259, 'wal': 1260, 'antonio': 1261, 'quarterfinal': 1262, 'qatarworldcup': 1263, 'dominated': 1264, 'versus': 1265, 'smiling': 1266, 'shirts': 1267, 'fernandes': 1268, 'poruru': 1269, 'found': 1270, 'ahead': 1271, 'americans': 1272, 'together': 1273, 'uefa': 1274, 'room': 1275, 'specsavers': 1276, 'x': 1277, '35': 1278, 'suspicious': 1279, 'ramos': 1280, 'semifinal': 1281, 'tunnel': 1282, 'push': 1283, '11': 1284, 'whistles': 1285, 'por': 1286, 'ending': 1287, 'ban': 1288, 'plus': 1289, 'nhl': 1290, 'ready': 1291, 'underdogs': 1292, 'four': 1293, 'expected': 1294, 'helped': 1295, 'standing': 1296, 'replay': 1297, '000': 1298, 'sell': 1299, 'sitting': 1300, 'aus': 1301, 'matchfixing': 1302, 'suspect': 1303, 'suck': 1304, 'pick': 1305, 'pulling': 1306, 'blackstars': 1307, 'ba': 1308, 'creating': 1309, 'following': 1310, 'blatantly': 1311, 'pay': 1312, 'return': 1313, 'mile': 1314, 'effect': 1315, 'directly': 1316, 'false': 1317, 'remove': 1318, 'gay': 1319, 'current': 1320, 'fuckin': 1321, 'kids': 1322, 'brother': 1323, 'feet': 1324, 'bribery': 1325, 'co': 1326, 'air': 1327, 'neutral': 1328, 'fast': 1329, 'fine': 1330, 'jobs': 1331, 'admit': 1332, 'reality': 1333, 'correct': 1334, 'checks': 1335, 'dick': 1336, 'rn': 1337, 'general': 1338, 'special': 1339, 'cameroonvsbrazil': 1340, 'itvfootball': 1341, 'notch': 1342, 'buy': 1343, 'coverage': 1344, 'friends': 1345, 'simply': 1346, 'spoiling': 1347, 'note': 1348, 'display': 1349, 'committee': 1350, 'criticise': 1351, 'bent': 1352, 'protest': 1353, 'effort': 1354, 'hang': 1355, 'chain': 1356, 'complained': 1357, 'professional': 1358, 'doesnt': 1359, 'controversy': 1360, 'peno': 1361, 'nobody': 1362, 'zero': 1363, 'rigging': 1364, 'shouting': 1365, 'carried': 1366, 'incredibly': 1367, 'seemed': 1368, 'sh': 1369, 'folks': 1370, 'corrupted': 1371, 'beating': 1372, 'ghanaian': 1373, 'quarters': 1374, 'incompetence': 1375, 'anger': 1376, 'learn': 1377, 'shall': 1378, 'couple': 1379, 'shaking': 1380, 'siebert': 1381, 'emotions': 1382, 'reading': 1383, 'constant': 1384, 'dentun': 1385, 'net': 1386, 'arab': 1387, 'ksa': 1388, 'fat': 1389, 'exciting': 1390, 'maguire': 1391, 'verdict': 1392, 'assignment': 1393, 'follow': 1394, 'turn': 1395, 'fool': 1396, 'fixture': 1397, 'city': 1398, 'deep': 1399, 'via': 1400, 'giant': 1401, 'dream': 1402, 'future': 1403, 'clash': 1404, 'fox': 1405, 'path': 1406, 'defend': 1407, 'esp': 1408, 'favoured': 1409, 'rolling': 1410, 'followed': 1411, 'period': 1412, 'l': 1413, 'ghanavsuruguay': 1414, 'killing': 1415, 'rwanda': 1416, 'list': 1417, 'neck': 1418, 'notes': 1419, 'infantino': 1420, 'strong': 1421, 'reffed': 1422, 'softest': 1423, 'wasnt': 1424, 'count': 1425, 'interview': 1426, 'celebrate': 1427, 'bar': 1428, 'journey': 1429, 'ivan': 1430, 'spend': 1431, 'forced': 1432, 'investigate': 1433, 'camera': 1434, 'cool': 1435, 'flying': 1436, 'causing': 1437, 'witnessing': 1438, 'sacked': 1439, 'behaviour': 1440, 'keeps': 1441, 'actual': 1442, 'serious': 1443, 'profile': 1444, 'fight': 1445, 'iranian': 1446, 'koreans': 1447, 'realise': 1448, 'investigation': 1449, 'lewandowski': 1450, 'stopping': 1451, 'paul': 1452, 'pain': 1453, 'wear': 1454, 'countdown': 1455, 'quatar': 1456, 'often': 1457, 'sus': 1458, 'stages': 1459, 'pierluigi': 1460, 'remembered': 1461, 'overdue': 1462, 'historic': 1463, 'reasons': 1464, 'qualifies': 1465, 'sadly': 1466, 'dropped': 1467, 'usaveng': 1468, 'kinda': 1469, 'nonsense': 1470, 'winners': 1471, 'criminal': 1472, 'consistently': 1473, 'cunt': 1474, 'legendary': 1475, 'evening': 1476, 'touched': 1477, 'semis': 1478, 'character': 1479, 'prove': 1480, 'flip': 1481, 'salvador': 1482, 'script': 1483, 'whenever': 1484, 'usavned': 1485, 'campaign': 1486, 'john': 1487, 'scotland': 1488, 'bounds': 1489, 'legs': 1490, 'bored': 1491, 'qualifying': 1492, 'representing': 1493, 'ignores': 1494, 'usavwal': 1495, 'accept': 1496, 'kmbappe': 1497, 'across': 1498, 'picked': 1499, 'disgusted': 1500, 'fairplay': 1501, 'human': 1502, 'outside': 1503, 'morroco': 1504, 'bother': 1505, 'antics': 1506, 'famous': 1507, 'dogshit': 1508, 'purpose': 1509, 'rainbow': 1510, 'announcer': 1511, 'exactly': 1512, 'age': 1513, 'sums': 1514, 'tier': 1515, 'diaz': 1516, 'stoppages': 1517, 'odds': 1518, 'openly': 1519, 'challenges': 1520, 'argaus': 1521, 'late': 1522, 'correctly': 1523, 'whether': 1524, 'denmark': 1525, '14': 1526, 'ignoring': 1527, 'words': 1528, 'englandfrance': 1529, 'mo': 1530, 'basically': 1531, 'abysmal': 1532, 'critical': 1533, 'r': 1534, 'loves': 1535, 'abuse': 1536, 'efl': 1537, 'liverpool': 1538, 'debut': 1539, 'nightmare': 1540, 'handed': 1541, 'piece': 1542, 'pearce': 1543, 'fully': 1544, 'brilliantly': 1545, 'steal': 1546, 'rate': 1547, 'waving': 1548, 'cfl': 1549, 'situation': 1550, 'moves': 1551, 'common': 1552, 'issues': 1553, 'young': 1554, 'ing': 1555, 'position': 1556, 'lift': 1557, 'entertaining': 1558, 'plan': 1559, 'knockouts': 1560, 'attacking': 1561, 'hates': 1562, 'somewhere': 1563, 'abi': 1564, 'family': 1565, 'loses': 1566, 'deliberate': 1567, 'fell': 1568, 'hero': 1569, 'mentioned': 1570, 'written': 1571, 'sham': 1572, 'lives': 1573, 'convinced': 1574, 'favoring': 1575, 'possession': 1576, 'failed': 1577, 'swear': 1578, 'announced': 1579, 'defending': 1580, 'massively': 1581, 'threatening': 1582, 'yelling': 1583, 'eleven': 1584, 'sound': 1585, 'danny': 1586, 'griezmann': 1587, 'bt': 1588, 'british': 1589, 'moan': 1590, 'predict': 1591, 'aswell': 1592, 'suppose': 1593, 'accounts': 1594, 'consult': 1595, 'stinker': 1596, 'fixes': 1597, 'ago': 1598, 'baffling': 1599, 'hrv': 1600, 'decades': 1601, 'roll': 1602, 'shocked': 1603, 'horror': 1604, 'children': 1605, 'rude': 1606, 'southkorea': 1607, 'idk': 1608, 'strictlyfinal': 1609, 'entertainment': 1610, 'initially': 1611, 'leagues': 1612, 'dives': 1613, 'magical': 1614, 'witness': 1615, 'deny': 1616, 'abandoned': 1617, 'millions': 1618, 'bogus': 1619, 'blamed': 1620, 'gender': 1621, 'sideline': 1622, 'committed': 1623, 'led': 1624, 'conduct': 1625, 'key': 1626, 'failure': 1627, 'tennis': 1628, 'facing': 1629, 'treat': 1630, 'tournaments': 1631, 'brexit': 1632, 'behavior': 1633, '1966': 1634, 'sucking': 1635, 'hammered': 1636, 'brown': 1637, 'envelopes': 1638, 'step': 1639, 'draws': 1640, 'salvadoran': 1641, 'captain': 1642, 'management': 1643, 'tbf': 1644, 'works': 1645, 'beer': 1646, 'create': 1647, 'public': 1648, 'utter': 1649, 'culture': 1650, 'banging': 1651, 'concerned': 1652, 'turns': 1653, 'champion': 1654, 'francevsmorocco': 1655, 'study': 1656, 'abt': 1657, 'sold': 1658, 'clock': 1659, 'choose': 1660, 'bid': 1661, 'cmrbra': 1662, 'mirror': 1663, 'starters': 1664, 'surround': 1665, 'representation': 1666, 'relies': 1667, 'perhaps': 1668, 'subbed': 1669, 'dad': 1670, 'square': 1671, 'realized': 1672, 'bless': 1673, 'gutting': 1674, 'kept': 1675, 'stolen': 1676, 'underrated': 1677, 'squads': 1678, 'saturday': 1679, 'sort': 1680, 'korean': 1681, 'wc2022': 1682, 'celebrations': 1683, 'handled': 1684, 'inside': 1685, 'competitions': 1686, 'loose': 1687, 'striker': 1688, 'pol': 1689, 'nail': 1690, 'pub': 1691, 'suffer': 1692, 'demanding': 1693, 'share': 1694, 'relate': 1695, 'celebration': 1696, 'smile': 1697, 'g': 1698, 'iconic': 1699, 'represented': 1700, 'ghanafaofficial': 1701, 'uefacom': 1702, 'saddickadams': 1703, 'interested': 1704, 'realised': 1705, 'cheats': 1706, 'canadasoccer': 1707, 'pissed': 1708, 'nearly': 1709, 'pace': 1710, 'bingo': 1711, 'rub': 1712, 'green': 1713, 'personally': 1714, 'mid': 1715, 'clocked': 1716, 'bigger': 1717, 'mouth': 1718, 'changes': 1719, 'substitutions': 1720, 'pattern': 1721, 'pads': 1722, '12th': 1723, 'welsh': 1724, 'uk': 1725, 'retire': 1726, 'automated': 1727, 'carding': 1728, 'uruguayans': 1729, 'circus': 1730, 'appointing': 1731, 'training': 1732, 'number': 1733, 'luis': 1734, 'extraordinary': 1735, 'sin': 1736, 'feature': 1737, 'yoshimi': 1738, 'amrabat': 1739, 'order': 1740, 'worthy': 1741, 'beaten': 1742, 'ten': 1743, 'named': 1744, 'commentating': 1745, '2023': 1746, 'umpires': 1747, 'cricket': 1748, 'netherlandsargentina': 1749, 'noticed': 1750, 'anti': 1751, 'bus': 1752, 'thief': 1753, 'fcbarcelona': 1754, 'fcblive': 1755, 'boycottqatar2022': 1756, 'espanamarruecos': 1757, 'bayt': 1758, 'sammatterface': 1759, 'paredes': 1760, 'disappointment': 1761, 'creativity': 1762, 'nl': 1763, 'low': 1764, 'af': 1765, 'anytime': 1766, 'build': 1767, 'equal': 1768, 'normal': 1769, 'assistance': 1770, 'honor': 1771, 'buying': 1772, 'salisu': 1773, 'available': 1774, 'genuine': 1775, 'secret': 1776, 'fernandez': 1777, 'koulibaly': 1778, 'base': 1779, 'rig': 1780, 'fairness': 1781, 'faghani': 1782, 'tbh': 1783, 'brazilians': 1784, 'experts': 1785, 'begins': 1786, 'chaos': 1787, 'honest': 1788, 'immediately': 1789, 'spent': 1790, 'forgotten': 1791, 'ai': 1792, 'radio': 1793, 'shady': 1794, 'heavy': 1795, 'leg': 1796, 'bans': 1797, 'individual': 1798, 'pushes': 1799, 'staged': 1800, 'tapping': 1801, 'nunez': 1802, 'annoying': 1803, 'hahaha': 1804, 'reviews': 1805, 'error': 1806, 'stephaniefrappart': 1807, 'broken': 1808, 'howlers': 1809, 'dis': 1810, 'spoil': 1811, 'enjoyed': 1812, 'favours': 1813, 'kudos': 1814, 'spoiled': 1815, 'speaks': 1816, 'volumes': 1817, 'holland': 1818, 'provide': 1819, 'opinions': 1820, 'local': 1821, 'dangerous': 1822, 'tight': 1823, 'conflict': 1824, 'reigning': 1825, 'el': 1826, 'wwe': 1827, 'terrorist': 1828, 'broadcast': 1829, 'treated': 1830, 'bbcsport': 1831, 'target': 1832, 'gnev2': 1833, 'instructed': 1834, '2006': 1835, 'fav': 1836, 'damage': 1837, 'concede': 1838, 'rooney': 1839, 'deliberately': 1840, 'movement': 1841, 'wanting': 1842, 'polarg': 1843, 'destroyed': 1844, 'onto': 1845, 'woeful': 1846, 'worldcup2022qatar': 1847, 'sign': 1848, 'nba': 1849, 'ronald': 1850, 'retired': 1851, 'picking': 1852, 'difficult': 1853, 'expose': 1854, 'boring': 1855, 'neither': 1856, 'closest': 1857, 'epic': 1858, 'stole': 1859, 'behaved': 1860, 'bollocks': 1861, 'babies': 1862, 'valenzuela': 1863, 'managing': 1864, 'stands': 1865, 'drury': 1866, 'fire': 1867, 'sanctions': 1868, 'hurting': 1869, 'modern': 1870, 'ends': 1871, 'train': 1872, 'armband': 1873, 'earning': 1874, 'role': 1875, 'clueless': 1876, 'wonderful': 1877, 'bicycle': 1878, 'yoke': 1879, 'petition': 1880, 'telling': 1881, 'energy': 1882, 'contest': 1883, 'communicate': 1884, 'ladies': 1885, 'neuza': 1886, 'focus': 1887, 'shoutout': 1888, 'lifetime': 1889, 'alvarez': 1890, 'gear': 1891, 'empty': 1892, 'flight': 1893, 'chief': 1894, 'unreal': 1895, 'tht': 1896, 'penaltys': 1897, 'bag': 1898, 'unfairly': 1899, 'vincent': 1900, 'shout': 1901, 'pessi': 1902, 'declared': 1903, 'footballer': 1904, 'enjoying': 1905, 'ah': 1906, 'halftime': 1907, 'bare': 1908, 'argue': 1909, '28': 1910, 'rewarded': 1911, 'engusa': 1912, 'somebody': 1913, 'shoot': 1914, 'walked': 1915, 'goalie': 1916, 'obsessed': 1917, 'sends': 1918, 'cameras': 1919, 'webb': 1920, '18': 1921, 'slightly': 1922, 'western': 1923, 'considering': 1924, 'possibly': 1925, 'loving': 1926, 'welshman': 1927, 'appointment': 1928, 'hardest': 1929, 'enjoy': 1930, 'proving': 1931, 'everywhere': 1932, 'scam': 1933, 'dived': 1934, 'helps': 1935, 'officialdom': 1936, 'worldcupfinals': 1937, 'avg': 1938, 'reduced': 1939, 'jonathan': 1940, 'shots': 1941, 'englandfootball': 1942, 'justified': 1943, 'million': 1944, 'disallowing': 1945, 'crime': 1946, 'rid': 1947, 'fi': 1948, 'billion': 1949, 'arms': 1950, 'based': 1951, 'small': 1952, 'magnitude': 1953, 'decides': 1954, 'excuses': 1955, 'participate': 1956, 'tf': 1957, 'matters': 1958, 'reviewed': 1959, 'leaving': 1960, 'southgates': 1961, 'debatable': 1962, 'lame': 1963, '25': 1964, 'fined': 1965, 'annoyed': 1966, 'manner': 1967, 'dollars': 1968, 'adds': 1969, 'knee': 1970, 'colombia': 1971, 'foden': 1972, 'politics': 1973, 'legit': 1974, 'shittest': 1975, 'signs': 1976, 'favored': 1977, 'ups': 1978, 'struggling': 1979, 'countless': 1980, 'controlled': 1981, 'ruled': 1982, 'replays': 1983, 'influence': 1984, 'tickets': 1985, 'food': 1986, 'piss': 1987, 'anyways': 1988, 'curious': 1989, 'heading': 1990, 'venezuela': 1991, 'proven': 1992, 'attacks': 1993, 'competent': 1994, 'bonkers': 1995, 'championship': 1996, 'glory': 1997, 'otto': 1998, 'owned': 1999, 'ultimately': 2000, 'fail': 2001, 'answer': 2002, 'praise': 2003, 'reds': 2004, 'signal': 2005, 'lie': 2006, 'laughable': 2007, 'ssfootball': 2008, 'theatrics': 2009, 'track': 2010, 'takeaway': 2011, 'manage': 2012, 'tim': 2013, 'curse': 2014, 'fourth': 2015, 'throwing': 2016, 'betting': 2017, 'death': 2018, 'th': 2019, 'payed': 2020, 'wonders': 2021, 'walking': 2022, 'womens': 2023, 'perspective': 2024, 'crcger': 2025, 'joe': 2026, 'woke': 2027, 'stays': 2028, 'secured': 2029, 'enjoys': 2030, 'weak': 2031, 'bellingham': 2032, 'drunk': 2033, 'test': 2034, 'quarterfinals': 2035, 'hour': 2036, 'previous': 2037, 'owns': 2038, 'hair': 2039, 'changing': 2040, 'plot': 2041, 'response': 2042, 'jassim': 2043, 'targeted': 2044, 'bribes': 2045, 'steps': 2046, 'closer': 2047, 'argentinavsnetherlands': 2048, 'shouldnt': 2049, 'plane': 2050, '4th': 2051, 'gotten': 2052, 'closing': 2053, 'dealing': 2054, 'heartbreaking': 2055, 'stinks': 2056, 'bel': 2057, 'drop': 2058, 'defence': 2059, 'thereferees': 2060, 'matchs': 2061, 'continually': 2062, 'competitors': 2063, 'regular': 2064, '90th': 2065, 'perfectly': 2066, 'swfc': 2067, 'hiding': 2068, 'holy': 2069, 'gaal': 2070, 'taught': 2071, 'entitlement': 2072, 'bait': 2073, 'meet': 2074, 'upsets': 2075, 'conservative': 2076, 'oscar': 2077, 'disappoint': 2078, 'overacting': 2079, '27': 2080, 'moroccan': 2081, 'oxygen': 2082, 'david': 2083, 'replied': 2084, 'defeats': 2085, 'trigger': 2086, 'report': 2087, 'murder': 2088, 'stuholden': 2089, 'applying': 2090, 'eagles': 2091, 'film': 2092, 'director': 2093, 'judge': 2094, 'poorest': 2095, 'infact': 2096, 'vote': 2097, 'cmr': 2098, 'disagreed': 2099, 'zambia': 2100, 'turner': 2101, 'saved': 2102, 'expecting': 2103, 'unsporting': 2104, 'exited': 2105, 'movie': 2106, 'type': 2107, 'concacaf': 2108, 'afpnewsagency': 2109, 'argies': 2110, 'sky': 2111, '1978': 2112, 'talked': 2113, 'opportunities': 2114, 'grown': 2115, 'cus': 2116, 'crossed': 2117, 'massimiliano': 2118, 'irrati': 2119, 'moved': 2120, 'fave': 2121, 'pov': 2122, 'salvadorian': 2123, 'contributed': 2124, 'footballing': 2125, 'jurgen': 2126, 'guatemala': 2127, 'loop': 2128, 'spotted': 2129, 'executive': 2130, '120': 2131, 'title': 2132, 'freaking': 2133, 'success': 2134, 'finalist': 2135, 'booking': 2136, 'francemaroc': 2137, 'happier': 2138, 'investigating': 2139, 'klinsmann': 2140, 'monz': 2141, 'italia': 2142, 'iffy': 2143, 'ccv': 2144, 'jordan': 2145, 'morris': 2146, 'essentially': 2147, 'bell': 2148, 'reflect': 2149, 'exposing': 2150, 'seeking': 2151, 'ars': 2152, 'measure': 2153, 'stops': 2154, 'de3': 2155, 'rot': 2156, 'platform': 2157, 'fishy': 2158, 'nev': 2159, 'discrace': 2160, 'grass': 2161, 'benefit': 2162, 'luissuarez9': 2163, 'siuu': 2164, 'litty': 2165, 'kyle': 2166, 'embarrassed': 2167, 'tchouameni': 2168, 'francevspoland': 2169, 'similar': 2170, 'holden': 2171, 'foolish': 2172, 'compassion': 2173, 'resemblance': 2174, 'unites': 2175, 'inequality': 2176, 'stressful': 2177, 'ku': 2178, 'newly': 2179, 'shd': 2180, 'frances': 2181, 'polksa': 2182, 'passing': 2183, 'backwards': 2184, 'failing': 2185, 'selling': 2186, 'industries': 2187, 'foreign': 2188, 'tiny': 2189, 'biting': 2190, 'surprises': 2191, 'weghorst': 2192, 'booted': 2193, 'argvsksa': 2194, '34': 2195, 'page': 2196, 'safe': 2197, 'beside': 2198, 'unhappy': 2199, 'backs': 2200, 'en': 2201, 'fitting': 2202, 'germanys': 2203, 'delivers': 2204, 'brutal': 2205, 'heartbreak': 2206, 'aj': 2207, 'onjoro': 2208, 'quick': 2209, 'questioning': 2210, 'fathom': 2211, 'thick': 2212, 'necklaces': 2213, 'undeserved': 2214, 'alcohol': 2215, 'learned': 2216, 'athletes': 2217, 'wherein': 2218, 'lusail': 2219, 'wetin': 2220, 'chop': 2221, 'alphonsodavies': 2222, 'danger': 2223, 'ghanavsportugal': 2224, 'shearer': 2225, 'ceo': 2226, 'audience': 2227, 'jacked': 2228, 'rematch': 2229, 'distract': 2230, 'performed': 2231, 'claim': 2232, 'ger': 2233, 'produce': 2234, 'grealish': 2235, 'hurts': 2236, 'intense': 2237, 'shook': 2238, 'insisting': 2239, 'ohhh': 2240, 'resilience': 2241, 'spray': 2242, 'netarg': 2243, 'harrykane': 2244, 'press': 2245, 'smart': 2246, 'dumbass': 2247, 'savages': 2248, 'farcical': 2249, 'keanu': 2250, 'baccus': 2251, 'colours': 2252, 'invisible': 2253, 'equity': 2254, 'inclusion': 2255, 'panel': 2256, 'confront': 2257, 'fought': 2258, 'dinner': 2259, 'ankle': 2260, 'rolled': 2261, 'corrected': 2262, '2016': 2263, 'join': 2264, 'jules': 2265, 'prestigious': 2266, 'sir': 2267, 'row': 2268, 'heroic': 2269, 'moroccans': 2270, 'whites': 2271, 'delusion': 2272, 'rte': 2273, 'arrived': 2274, 'states': 2275, 'inappropriate': 2276, 'dramatized': 2277, 'whereas': 2278, 'stretches': 2279, 'confusing': 2280, 'audio': 2281, 'typical': 2282, 'nuts': 2283, 'emotion': 2284, 'loved': 2285, 'sub': 2286, 'deemed': 2287, 'arsed': 2288, 'penaldo': 2289, 'laid': 2290, 'specifically': 2291, 'adopt': 2292, 'clancy': 2293, 'xmas': 2294, 'handful': 2295, 'deceived': 2296, 'hoping': 2297, 'algeria': 2298, 'jay': 2299, 'okocha': 2300, 'kwa': 2301, 'madrid': 2302, 'vamosespana': 2303, 'yea': 2304, 'ht': 2305, 'henderson': 2306, 'barton': 2307, 'walk': 2308, 'props': 2309, 'bold': 2310, 'agrees': 2311, 'pougatch': 2312, 'hits': 2313, 'opens': 2314, 'mostly': 2315, 'handling': 2316, 'argentinavspoland': 2317, 'silly': 2318, 'summary': 2319, 'argentinians': 2320, 'knees': 2321, 'goodbye': 2322, 'ofcourse': 2323, 'headed': 2324, 'harsh': 2325, 'footage': 2326, 'haters': 2327, 'app': 2328, 'angle': 2329, 'miles': 2330, 'cried': 2331, 'max': 2332, 'catch': 2333, 'finger': 2334, 'carrying': 2335, 'asshole': 2336, 'pleading': 2337, 'narrative': 2338, 'beauty': 2339, 'caliber': 2340, 'eliminate': 2341, 'delicious': 2342, 'ordinarily': 2343, 'male': 2344, 'alireza': 2345, 'dance': 2346, 'prefer': 2347, 'twist': 2348, 'impartiality': 2349, 'bald': 2350, 'ha': 2351, 'convince': 2352, 'otherwise': 2353, 'prevent': 2354, 'fights': 2355, 'bout': 2356, 'rough': 2357, 'embarrassment': 2358, 'efforts': 2359, 'prevail': 2360, 'belt': 2361, 'whilst': 2362, 'rank': 2363, 'lions': 2364, 'body': 2365, 'loads': 2366, 'determined': 2367, 'listening': 2368, 'gomez': 2369, 'unleash': 2370, 'negative': 2371, 'settings': 2372, 'ahhh': 2373, 'influenced': 2374, 'jpncro': 2375, 'toward': 2376, 'lifts': 2377, 'fellas': 2378, 'lock': 2379, 'ran': 2380, 'couldnt': 2381, 'talent': 2382, 'equally': 2383, 'fs1': 2384, 'clint': 2385, 'dempsey': 2386, 'serve': 2387, 'brought': 2388, 'kylian': 2389, 'con': 2390, 'khor': 2391, 'latest': 2392, 'chairman': 2393, 'headlines': 2394, 'checking': 2395, 'uruguaynoma': 2396, 'elequipoquenosune': 2397, 'poll': 2398, 'lka': 2399, 'srilanka': 2400, 'hella': 2401, 'creates': 2402, 'plain': 2403, 'dawg': 2404, 'germanyvscostarica': 2405, 'jokes': 2406, 'robot': 2407, 'un': 2408, 'espger': 2409, 'luka': 2410, 'modric': 2411, 'alive': 2412, 'le': 2413, 'participating': 2414, 'reviewing': 2415, 'swallow': 2416, 'awfull': 2417, 'imho': 2418, 'jk': 2419, 'recently': 2420, 'growing': 2421, 'randomness': 2422, 'weed': 2423, 'venue': 2424, 'selection': 2425, 'zone': 2426, 'bite': 2427, 'fluent': 2428, 'passport': 2429, 'spineless': 2430, 'friendly': 2431, 'wee': 2432, 'bastard': 2433, 'pa': 2434, 'paying': 2435, 'ne': 2436, 'ace': 2437, 'reaches': 2438, 'dying': 2439, 'kidding': 2440, 'cracking': 2441, 'momentum': 2442, 'taste': 2443, 'croarg': 2444, 'agreed': 2445, 'upon': 2446, 'yelled': 2447, 'andre': 2448, 'root': 2449, 'house': 2450, 'espnfc': 2451, 'frustrating': 2452, 'particularly': 2453, 'organization': 2454, 'timing': 2455, 'nil': 2456, 'studio': 2457, 'nope': 2458, 'fifaworldcuponfox': 2459, 'interfered': 2460, 'dumbest': 2461, 'pushed': 2462, 'thousand': 2463, 'levels': 2464, 'offs': 2465, 'embarrassing': 2466, 'donkey': 2467, 'shootouts': 2468, 'hatrick': 2469, 'begging': 2470, 'una': 2471, 'imagination': 2472, 'lovely': 2473, 'strikes': 2474, 'geordie': 2475, 'pks': 2476, 'fuckers': 2477, 'counters': 2478, 'obstacle': 2479, 'sore': 2480, 'self': 2481, 'mike': 2482, 'dean': 2483, 'questions': 2484, 'dust': 2485, 'board': 2486, 'breaks': 2487, 'darwin': 2488, 'ochoa': 2489, 'masterclass': 2490, 'referred': 2491, 'dramatic': 2492, 'insanely': 2493, 'respond': 2494, 'complaints': 2495, 'usavirn': 2496, 'handing': 2497, 'ukiona': 2498, 'umechange': 2499, 'wewe': 2500, 'sasa': 2501, 'tu': 2502, 'hilarious': 2503, 'birth': 2504, 'catching': 2505, 'rounds': 2506, 'dealt': 2507, 'thumama': 2508, 'dark': 2509, 'mic': 2510, 'manger': 2511, 'stupidity': 2512, 'favouritism': 2513, 'maddison': 2514, 'criticised': 2515, 'reluctant': 2516, 'shared': 2517, 'ashamed': 2518, 'guarantee': 2519, 'orders': 2520, 'argentinia': 2521, '92': 2522, 'appears': 2523, 'caught': 2524, 'indicating': 2525, 'assignments': 2526, 'refer': 2527, 'deciding': 2528, 'realize': 2529, 'confidence': 2530, 'stronger': 2531, 'christ': 2532, 'dishing': 2533, 'reinforces': 2534, 'belvcan': 2535, 'winter': 2536, 'dislike': 2537, 'arbitro': 2538, 'dry': 2539, 'completion': 2540, 'motm': 2541, 'attitude': 2542, 'kathryn': 2543, 'nesbitt': 2544, 'worked': 2545, 'engvfra': 2546, 'tear': 2547, 'phonebook': 2548, 'cherry': 2549, 'double': 2550, 'highlight': 2551, '95': 2552, 'insist': 2553, 'tuck': 2554, 'jerseys': 2555, 'wordcup2022': 2556, 'solely': 2557, '77': 2558, '56': 2559, 'ahmed': 2560, 'ali': 2561, 'rayyan': 2562, 'virtue': 2563, 'signalling': 2564, 'bs': 2565, '1930': 2566, 'armbands': 2567, '1998': 2568, 'reach': 2569, 'bow': 2570, 'maroc': 2571, 'dint': 2572, 'acc': 2573, 'spectacle': 2574, 'block': 2575, 'garylineker': 2576, 'telly': 2577, 'hurt': 2578, 'pulisic': 2579, 'lineswomen': 2580, 'palazuelos': 2581, 'discussed': 2582, 'law': 2583, 'gun': 2584, 'desperate': 2585, 'tonights': 2586, 'baby': 2587, 'evident': 2588, 'footballers': 2589, 'faking': 2590, 'lifting': 2591, 'scared': 2592, 'thru': 2593, 'figure': 2594, 'determine': 2595, 'szcz': 2596, 'sny': 2597, 'mpabbe': 2598, 'compete': 2599, 'brazilvscameroon': 2600, 'dominant': 2601, 'discussing': 2602, 'girls': 2603, 'potentially': 2604, 'howard': 2605, 'filled': 2606, 'declare': 2607, 'overrated': 2608, 'closely': 2609, 'gon': 2610, 'hours': 2611, 'broad': 2612, 'ghanablackstars': 2613, 'aggressive': 2614, 'prediction': 2615, 'exiting': 2616, 'supported': 2617, 'bcos': 2618, 'mvp': 2619, 'meanwhile': 2620, 'ar': 2621, 'frustration': 2622, 'bcuz': 2623, 'europeans': 2624, 'reminds': 2625, 'learning': 2626, 'ismael': 2627, 'contention': 2628, 'wishes': 2629, 'depend': 2630, 'tells': 2631, '68': 2632, 'onwards': 2633, 'cheek': 2634, 'pointing': 2635, 'hat': 2636, 'trick': 2637, 'easiest': 2638, 'easier': 2639, 'cesar': 2640, 'absurd': 2641, 'corners': 2642, 'psl': 2643, 'disappear': 2644, '10min': 2645, 'natural': 2646, 'appreciate': 2647, 'disagree': 2648, 'backing': 2649, 'occasion': 2650, 'sake': 2651, 'chase': 2652, 'frustrations': 2653, 'scandal': 2654, '39': 2655, 'marvellous': 2656, 'lit': 2657, 'torture': 2658, 'source': 2659, 'afif': 2660, 'powerful': 2661, 'jail': 2662, 'google': 2663, 'fiasco': 2664, 'dec': 2665, 'phantom': 2666, 'opposing': 2667, 'market': 2668, 'maresp': 2669, 'fixtures': 2670, 'settle': 2671, 'afternoon': 2672, 'bed': 2673, 'planned': 2674, 'lampard': 2675, 'acceptable': 2676, 'radar': 2677, 'alot': 2678, 'shocks': 2679, 'diabolical': 2680, 'margins': 2681, 'reliable': 2682, 'francevsengland': 2683, 'humbled': 2684, 'cr7': 2685, 'moroccovsportugal': 2686, 'apply': 2687, 'mount': 2688, 'forever': 2689, 'mainly': 2690, 'political': 2691, 'yards': 2692, 'rectify': 2693, 'stakes': 2694, 'higher': 2695, 'wise': 2696, 'scenes': 2697, 'safety': 2698, 'existent': 2699, 'expert': 2700, 'flags': 2701, 'quatar2022': 2702, 'colombian': 2703, 'reminder': 2704, 'shittiest': 2705, 'continent': 2706, 'twats': 2707, 'killed': 2708, 'spirit': 2709, 'istg': 2710, 'theres': 2711, 'circle': 2712, '13': 2713, 'shitter': 2714, 'devastated': 2715, 'dish': 2716, 'mf': 2717, 'negativity': 2718, 'englandvsenegal': 2719, 'nedqat': 2720, 'fancy': 2721, 'largely': 2722, 'multi': 2723, 'gas': 2724, 'wrongly': 2725, 'write': 2726, 'hii': 2727, 'overturn': 2728, 'pronounce': 2729, 'struggle': 2730, 'hmm': 2731, 'matched': 2732, 'supporters': 2733, 'inclusive': 2734, 'runner': 2735, 'runs': 2736, 'pleased': 2737, 'consistency': 2738, 'stepped': 2739, 'tinpot': 2740, 'touching': 2741, 'campbell': 2742, 'sat': 2743, 'thugs': 2744, 'bullied': 2745, 'dumb': 2746, 'overruled': 2747, 'wank': 2748, 'toney': 2749, 'hk': 2750, 'daily': 2751, 'evidence': 2752, 'federation': 2753, 'deh': 2754, 'masi': 2755, 'elbow': 2756, 'mask': 2757, 'maker': 2758, 'elimination': 2759, 'parents': 2760, 'interventions': 2761, 'dropping': 2762, 'june': 2763, 'hearing': 2764, 'trans': 2765, 'pack': 2766, 'potential': 2767, 'badly': 2768, 'pros': 2769, 'cons': 2770, 'east': 2771, 'rich': 2772, 'delusional': 2773, 'wake': 2774, 'boo': 2775, 'solid': 2776, 'drink': 2777, 'hot': 2778, 'suited': 2779, 'commits': 2780, 'roman': 2781, 'saiss': 2782, 'betuk': 2783, 'inconsistencies': 2784, 'whose': 2785, 'shambolic': 2786, 'ecu': 2787, 'stones': 2788, 'worried': 2789, 'college': 2790, 'usually': 2791, 'captains': 2792, 'gift': 2793, 'technical': 2794, 'mendy': 2795, 'addo': 2796, 'ayew': 2797, 'savage': 2798, '2021': 2799, 'signed': 2800, 'flagship': 2801, 'chest': 2802, 'harder': 2803, 'automatically': 2804, 'kudus': 2805, 'pierluigicolli': 2806, 'brazko': 2807, 'blakes': 2808, 'mar': 2809, 'tripped': 2810, 'bottle': 2811, 'sensational': 2812, 'released': 2813, 'allows': 2814, 'espana': 2815, 'laliga': 2816, 'selecting': 2817, 'fanboy': 2818, 'jrn512': 2819, 'week13': 2820, 'kanes': 2821, 'die': 2822, 'todays': 2823, 'wont': 2824, 'recognized': 2825, 'impartial': 2826, 'stevie': 2827, 'wall': 2828, 'mighty': 2829, 'bozo': 2830, 'laughing': 2831, 'bomb': 2832, 'basis': 2833, 'exclusive': 2834, 'purposely': 2835, 'fcextratime': 2836, 'appear': 2837, 'physical': 2838, 'prior': 2839, 'passed': 2840, 'englishman': 2841, 'disqualifyfrance': 2842, 'englandsquad': 2843, 'seething': 2844, 'nights': 2845, 'weakest': 2846, 'cl': 2847, 'chennai': 2848, 'woot': 2849, 'shoved': 2850, 'judged': 2851, 'roof': 2852, 'bog': 2853, 'therefore': 2854, 'counted': 2855, 'venezuelan': 2856, 'mu': 2857, 'dollar': 2858, 'sth': 2859, 'kehi': 2860, '66': 2861, 'assault': 2862, 'member': 2863, 'catholic': 2864, 'faces': 2865, 'unpunished': 2866, 'fucks': 2867, 'screens': 2868, 'arrogant': 2869, 'luton': 2870, 'goalies': 2871, 'slight': 2872, 'wayne': 2873, 'stick': 2874, 'mbapp': 2875, 'drew': 2876, 'meant': 2877, 'lopsided': 2878, 'attacked': 2879, 'funniest': 2880, 'brain': 2881, 'hats': 2882, 'chose': 2883, '87': 2884, 'bottled': 2885, 'grabbing': 2886, 'improve': 2887, 'global': 2888, 'unpopular': 2889, 'firstly': 2890, 'substituted': 2891, 'horseshit': 2892, 'tragic': 2893, 'mix': 2894, 'qualifier': 2895, 'march': 2896, 'interpretation': 2897, 'pundit': 2898, 'joy': 2899, 'tiktok': 2900, 'jump': 2901, 'gassama': 2902, 'bye': 2903, 'others': 2904, 'egg': 2905, 'waved': 2906, 'midfield': 2907, 'upsetting': 2908, 'social': 2909, 'sui': 2910, 'mexicovsarabia': 2911, 'mex': 2912, 'ojoro': 2913, 'nerve': 2914, 'racking': 2915, 'secs': 2916, '150': 2917, 'meters': 2918, 'hennessey': 2919, 'monitors': 2920, 'sey': 2921, 'speed': 2922, 'ziyech': 2923, 'population': 2924, 'slap': 2925, 'chased': 2926, 'gold': 2927, 'emotional': 2928, 'norm': 2929, 'sleep': 2930, 'choices': 2931, 'caleb': 2932, 'argentinavsaustralia': 2933, 'meghan': 2934, 'ambassador': 2935, 'race': 2936, 'hating': 2937, 'blood': 2938, 'leo': 2939, 'drive': 2940, 'argues': 2941, 'wm2022': 2942, 'ton': 2943, 'planet': 2944, 'drab': 2945, 'stat': 2946, 'balance': 2947, 'comeback': 2948, 'tweet': 2949, 'medal': 2950, 'dudes': 2951, 'suffered': 2952, 'heat': 2953, 'presumably': 2954, 'dress': 2955, 'fk': 2956, 'di': 2957, 'north': 2958, 'bracelet': 2959, 'englands': 2960, 'semifinals': 2961, 'born': 2962, 'angola': 2963, 'odd': 2964, 'channel': 2965, 'properly': 2966, 'consequences': 2967, 'stoked': 2968, 'ultimate': 2969, 'stretcher': 2970, 'b': 2971, 'kilcoo': 2972, 'lay': 2973, 'process': 2974, 'pocketing': 2975, 'assign': 2976, 'simpsons': 2977, 'homer': 2978, 'thrilled': 2979, '10mins': 2980, 'makkelie': 2981, 'portugalvsghana': 2982, 'cya': 2983, 'pr': 2984, 'salary': 2985, 'fired': 2986, 'trump': 2987, 'witsel': 2988, 'quickly': 2989, 'suggest': 2990, 'starring': 2991, 'prospect': 2992, 'replace': 2993, 'tainted': 2994, 'footy': 2995, 'positions': 2996, 'exact': 2997, 'shockingly': 2998, '5mins': 2999, 'happening': 3000, 'crook': 3001, 'shey': 3002, 'version': 3003, 'molson': 3004, 'chimay': 3005, 'cro': 3006, 'memories': 3007, 'slicked': 3008, 'parting': 3009, 'flagged': 3010, 'kits': 3011, 'streets': 3012, 'dependent': 3013, 'cough': 3014, 'button': 3015, 'busy': 3016, '300': 3017, 'parlay': 3018, 'cynical': 3019, 'intentions': 3020, 'coz': 3021, 'managers': 3022, 'crucial': 3023, 'cold': 3024, 'rely': 3025, 'cdm': 3026, 'arabic': 3027, 'tape': 3028, 'hitting': 3029, 'pgmol': 3030, 'goooooaaaal': 3031, 'tribe': 3032, 'yir': 3033, 'mates': 3034, 'cursing': 3035, 'goodness': 3036, 'sleeping': 3037, 'absurdity': 3038, 'ncaa': 3039, 'memory': 3040, 'weather': 3041, 'survive': 3042, 'isaac': 3043, 'liberal': 3044, 'biden': 3045, 'badimo': 3046, 'borena': 3047, 'bo': 3048, 'nelson': 3049, 'mandela': 3050, 'ga': 3051, 'robale': 3052, 'suits': 3053, 'friggin': 3054, 'hasbullah': 3055, 'aggression': 3056, 'london': 3057, 'clubs': 3058, 'sw': 3059, 'londoner': 3060, 'dms': 3061, 'journorequest': 3062, 'reprimanded': 3063, 'offiside': 3064, 'smileynews': 3065, 'rhinos': 3066, 'thriving': 3067, 'zimbabwe': 3068, 'phones': 3069, 'philadelphia': 3070, 'mandatory': 3071, 'schemes': 3072, 'plastic': 3073, 'bottles': 3074, 'slamming': 3075, 'credible': 3076, 'plsss': 3077, 'boom': 3078, 'idolo': 3079, 'tattoos': 3080, 'behaving': 3081, 'unsportsmanlike': 3082, 'overpaid': 3083, 'bravskor': 3084, 'bung': 3085, 'obey': 3086, 'threat': 3087, 'considered': 3088, 'recognised': 3089, 'div': 3090, 'fs': 3091, 'production': 3092, 'directing': 3093, 'minions': 3094, 'pregame': 3095, 'phone': 3096, 'floor': 3097, 'holders': 3098, 'twelfth': 3099, 'venom': 3100, 'simmering': 3101, 'subscribing': 3102, 'mixer': 3103, 'exploited': 3104, 'dire': 3105, 'physically': 3106, 'superior': 3107, 'mitrovic': 3108, 'braser': 3109, 'orange': 3110, 'stuffs': 3111, 'coached': 3112, 'strikers': 3113, 'correction': 3114, 'fowles': 3115, 'bravo': 3116, 'sweet': 3117, 'dads': 3118, 'appalled': 3119, 'alhamdulillah': 3120, 'arbitration': 3121, 'deprived': 3122, '9000': 3123, 'supply': 3124, 'disputed': 3125, 'coote': 3126, 'dave': 3127, 'communist': 3128, 'tattooed': 3129, 'thug': 3130, 'defrauds': 3131, 'treasury': 3132, 'bailed': 3133, 'eastreners': 3134, 'viva': 3135, 'nonchalantly': 3136, 'bucking': 3137, 'jason': 3138, 'donovan': 3139, 'bravkor': 3140, 'asisat': 3141, 'osoala': 3142, 'legitimate': 3143, 'rewatching': 3144, 'conclude': 3145, 'announcement': 3146, 'gfa': 3147, 'petitions': 3148, 'opener': 3149, 'frapart': 3150, 'ex': 3151, 'senior': 3152, '1mm': 3153, 'circumference': 3154, 'rigg': 3155, 'joining': 3156, 'reminded': 3157, 'feminism': 3158, 'destroy': 3159, 'fulfil': 3160, 'porn': 3161, 'reborn': 3162, 'rattles': 3163, 'micky': 3164, 'gym': 3165, 'intrusive': 3166, 'sharing': 3167, 'sanction': 3168, 'dogso': 3169, 'naive': 3170, 'prob': 3171, 'mbappes': 3172, 'punished': 3173, 'nonce': 3174, 'tapped': 3175, 'nightmares': 3176, 'switched': 3177, 'descent': 3178, 'gred': 3179, 'malaysia': 3180, 'ke': 3181, 'spark': 3182, 'tai': 3183, 'lava': 3184, 'losses': 3185, 'notable': 3186, 'flexing': 3187, 'minor': 3188, 'germans': 3189, 'peoples': 3190, 'factor': 3191, 'designated': 3192, 'albiceleste': 3193, 'argentinacroazia': 3194, 'mateo': 3195, 'needing': 3196, 'wk': 3197, 'finales': 3198, 'scot': 3199, 'enters': 3200, 'dictators': 3201, 'bands': 3202, 'canceling': 3203, 'banning': 3204, 'criticizing': 3205, 'speech': 3206, 'organizations': 3207, 'thouran': 3208, 'plz': 3209, 'ensuring': 3210, 'belittles': 3211, 'glorify': 3212, 'bugger': 3213, 'numbers': 3214, 'finishing': 3215, 'lmfaoooo': 3216, 'inadequacy': 3217, 'yere': 3218, 'agricultural': 3219, 'cloggers': 3220, 'demolished': 3221, 'klansmans': 3222, 'wankdorf': 3223, 'bern': 3224, 'abiut': 3225, 'bajillion': 3226, 'booboo': 3227, 'francevmorocco': 3228, 'reactions': 3229, 'publicly': 3230, 'rediculous': 3231, 'albanian': 3232, 'aa': 3233, 'batteries': 3234, 'argentinachampion': 3235, 'leomessi': 3236, 'lm10': 3237, 'coursing': 3238, 'highlighting': 3239, 'blunder': 3240, 'weeter': 3241, 'palton': 3242, 'accuse': 3243, 'obvs': 3244, 'reports': 3245, 'max12to1': 3246, 'replicated': 3247, 'absurdly': 3248, 'theatrical': 3249, 'reaction': 3250, 'pedro': 3251, 'resulting': 3252, 'receiving': 3253, 'examples': 3254, 'gamesmanship': 3255, 'idg': 3256, 'cz': 3257, 'cares': 3258, 'equivalent': 3259, 'independent': 3260, 'frappert': 3261, 'zimmerman': 3262, 'gio': 3263, 'stern': 3264, 'japancroatia': 3265, 'irony': 3266, 'richarlison': 3267, 'eyeballs': 3268, 'trend': 3269, 'responsibility': 3270, 'horribly': 3271, 'jogging': 3272, 'stitch': 3273, 'yeeted': 3274, 'pairing': 3275, 'te': 3276, 'reviewneeded': 3277, 'cursed': 3278, 'abolished': 3279, 'alexi': 3280, 'lalas': 3281, 'primary': 3282, 'beg': 3283, 'trophies': 3284, 'shape': 3285, 'specimens': 3286, 'thicker': 3287, 'skin': 3288, 'sox': 3289, 'reliever': 3290, 'danielsiebert': 3291, 'fauls': 3292, 'ballers': 3293, 'tunfra': 3294, 'emir': 3295, 'avoided': 3296, 'slide': 3297, 'demonstration': 3298, 'saa': 3299, 'nkwasia': 3300, 'yao': 3301, 'akubiam': 3302, 'gpl': 3303, 'nu': 3304, 'narrow': 3305, 'financially': 3306, 'dig': 3307, 'cop': 3308, 'smells': 3309, 'gob': 3310, 'separate': 3311, 'engvfrance': 3312, 'elses': 3313, 'oponent': 3314, 'multimillionaire': 3315, 'ballkickers': 3316, 'gg': 3317, 'assisted': 3318, 'began': 3319, 'reward': 3320, 'punish': 3321, 'frequently': 3322, 'reininvar': 3323, 'limitoffsidecalls': 3324, 'damm': 3325, 'argentines': 3326, 'ts': 3327, 'conceding': 3328, 'atkins': 3329, 'corey': 3330, 'parker': 3331, 'previously': 3332, 'dfb': 3333, 'equalizing': 3334, 'controls': 3335, 'ping': 3336, 'pong': 3337, 'employees': 3338, 'struck': 3339, 'em': 3340, 'amounts': 3341, 'ghanains': 3342, 'rat': 3343, 'yikes': 3344, 'shove': 3345, 'related': 3346, 'rangers': 3347, 'morelos': 3348, 'striking': 3349, 'partiality': 3350, 'occupation': 3351, 'kodi': 3352, 'mwasintha': 3353, 'malamulo': 3354, 'ampira': 3355, 'osatiuza': 3356, 'dubious': 3357, 'thoroughly': 3358, 'cambra': 3359, 'pained': 3360, 'freaken': 3361, 'jasonrosam': 3362, 'sweepstake': 3363, 'bbclocalradio': 3364, 'breakfast': 3365, 'economy': 3366, 'thatcher': 3367, 'cats': 3368, 'downturn': 3369, 'isolated': 3370, 'island': 3371, 'chilling': 3372, 'stricter': 3373, 'sh1t': 3374, 'griffin': 3375, '272': 3376, 'details': 3377, 'unsurprisingly': 3378, 'beinsports': 3379, 'marred': 3380, 'guilty': 3381, 'regards': 3382, 'strict': 3383, 'crobra': 3384, 'cope': 3385, 'limited': 3386, 'remainder': 3387, 'r16': 3388, 'profess': 3389, 'mildly': 3390, 'amused': 3391, 'five': 3392, 'strolled': 3393, 'happily': 3394, 'sellers': 3395, 'wrestlers': 3396, 'nbsportupdates': 3397, 'nbspressbox': 3398, 'nbsportthismorning': 3399, 'extension': 3400, 'salvi': 3401, 'sha': 3402, 'ororo': 3403, 'dat': 3404, 'fufu': 3405, 'beleful': 3406, 'yassssss': 3407, 'peach': 3408, 'penalize': 3409, 'della': 3410, 'russell': 3411, 'netflix': 3412, 'amazon': 3413, 'pots': 3414, 'laughed': 3415, 'portland': 3416, 'lettingthemplay': 3417, 'graded': 3418, 'criticized': 3419, 'wecan': 3420, 'shamed': 3421, 'badreferee': 3422, 'boycots': 3423, 'favoritism': 3424, 'discraceful': 3425, 'comparative': 3426, 'pessimistic': 3427, 'theocratic': 3428, 'cancelqatar': 3429, 'cra': 3430, 'monster': 3431, 'alotta': 3432, '1970': 3433, '1980': 3434, 'profesional': 3435, 'react': 3436, 'tw': 3437, 'ze': 3438, 'germanz': 3439, 'arse': 3440, 'suggestion': 3441, 'moral': 3442, 'frogs': 3443, 'legacy': 3444, 'successful': 3445, 'excused': 3446, 'scrutiny': 3447, 'eyed': 3448, 'failedref': 3449, 'hahahhahaa': 3450, 'matey': 3451, 'hack': 3452, 'firsts': 3453, 'transgender': 3454, 'painfully': 3455, 'tuned': 3456, 'experiment': 3457, 'wears': 3458, 'displeasure': 3459, 'moaniing': 3460, 'behave': 3461, 'skies': 3462, 'gaffer': 3463, 'info': 3464, 'laryea': 3465, 'awaits': 3466, 'goofy': 3467, 'mbapaypal': 3468, 'espn': 3469, 'picks': 3470, 'richarlson': 3471, 'transformed': 3472, 'spectacular': 3473, 'risks': 3474, 'ache': 3475, 'lgbtqwhateverthefuck': 3476, 'deiscions': 3477, 'mofos': 3478, 'stepping': 3479, 'pants': 3480, 'angrily': 3481, 'buried': 3482, 'weeping': 3483, 'scefleague': 3484, 'ahh': 3485, 'reservation': 3486, 'approaching': 3487, 'included': 3488, 'bash': 3489, 'closed': 3490, 'fam': 3491, 'annoy': 3492, '2007': 3493, '2015': 3494, 'believed': 3495, 'ddsl': 3496, 'lesser': 3497, 'merit': 3498, 'attenborough': 3499, 'surreal': 3500, 'comfortably': 3501, 'teeth': 3502, 'pad': 3503, 'fvck': 3504, 'slams': 3505, 'garry': 3506, 'whar': 3507, 'ignorance': 3508, 'grandeur': 3509, 'rteworldcup': 3510, 'brady': 3511, 'mispronouncing': 3512, 'richie': 3513, 'flop': 3514, 'gh': 3515, 'frensh': 3516, 'united': 3517, 'despicable': 3518, 'russian': 3519, 'complicate': 3520, 'srs': 3521, 'tasteless': 3522, 'sorrykorea': 3523, 'youdeservedthatcorner': 3524, 'boards': 3525, 'window': 3526, 'dressing': 3527, 'affairs': 3528, 'violent': 3529, 'contender': 3530, 'braindead': 3531, 'basic': 3532, 'cognitive': 3533, 'tests': 3534, 'blagged': 3535, 'twat': 3536, 'cheer': 3537, 'odious': 3538, 'spfl': 3539, 'sfa': 3540, 'strategies': 3541, 'colum': 3542, 'vloeking': 3543, 'poes': 3544, 'meaning': 3545, 'violates': 3546, 'aaron': 3547, 'roxy': 3548, 'writes': 3549, 'debate': 3550, 'fern': 3551, 'ndes': 3552, 'coward': 3553, 'israel': 3554, 'door': 3555, 'cowards': 3556, 'depending': 3557, 'wam': 3558, 'mwanaume': 3559, 'anawatch': 3560, 'chic': 3561, 'anascream': 3562, 'bumbling': 3563, 'heartbroken': 3564, 'avr': 3565, '38': 3566, 'inevitably': 3567, 'piling': 3568, 'waddle': 3569, 'gna': 3570, 'vamosargentina': 3571, 'overcoming': 3572, 'reflecting': 3573, 'application': 3574, 'farther': 3575, 'shrugged': 3576, 'idiots': 3577, 'finalworldcup2022': 3578, 'lensmens': 3579, 'excluded': 3580, 'rollin': 3581, 'scorers': 3582, 'cover': 3583, 'farts': 3584, 'goddamn': 3585, 'disputable': 3586, 'proves': 3587, 'footballdiedinqatar': 3588, 'alexmicheletti': 3589, 'bobdolezchair': 3590, 'whenesota': 3591, 'joshbraaten': 3592, 'danbarreirokfan': 3593, 'madproducer1': 3594, '101': 3595, 'fifaiscorrupt': 3596, 'puretrash': 3597, 'int': 3598, 'crawl': 3599, 'mommy': 3600, 'faith': 3601, 'antonytaylor': 3602, 'truth': 3603, 'privilege': 3604, 'ungrateful': 3605, 'asst': 3606, 'christian': 3607, 'requested': 3608, 'djiku': 3609, 'lane': 3610, 'scumbag': 3611, 'wolf': 3612, 'shitshow': 3613, 'technologically': 3614, 'precise': 3615, 'tips': 3616, 'pele': 3617, 'roids': 3618, 'lemme': 3619, 'ifbb': 3620, 'protein': 3621, 'cardio': 3622, 'christophe': 3623, 'ridley': 3624, 'du': 3625, 'pont': 3626, 'polfra': 3627, 'foreigners': 3628, 'h': 3629, 'teammelliiran': 3630, 'expectation': 3631, 'lewa': 3632, 'ehhhh': 3633, 'preeeeetty': 3634, 'invades': 3635, 'lgbt': 3636, 'superman': 3637, 'logo': 3638, 'ukraine': 3639, 'slogan': 3640, 'cradle': 3641, 'crackhead': 3642, 'favourites': 3643, 'ag': 3644, 'unforced': 3645, 'options': 3646, 'scrub': 3647, 'females': 3648, 'dramatically': 3649, 'lama': 3650, 'shits': 3651, 'gigs': 3652, 'giggles': 3653, 'assuming': 3654, 'qfs': 3655, 'trusted': 3656, 'vanishing': 3657, 'batman': 3658, 'utility': 3659, 'sweater': 3660, 'wildly': 3661, 'drought': 3662, 'guaranteed': 3663, 'blog': 3664, '11095': 3665, '12762828': 3666, 'postid': 3667, '5043454': 3668, 'liveblog': 3669, 'performative': 3670, 'utterly': 3671, 'lunatic': 3672, 'teammate': 3673, 'watcher': 3674, 'samuel': 3675, 'eto': 3676, 'algerian': 3677, 'journalist': 3678, 'brides': 3679, 'worlcup2022': 3680, 'swole': 3681, 'pretending': 3682, 'assume': 3683, 'bankes': 3684, 'qprbur': 3685, 'asscistant': 3686, 'roasting': 3687, 'def': 3688, 'espjap': 3689, 'wound': 3690, 'paaa': 3691, 'waaah': 3692, 'koraaaa': 3693, 'baru': 3694, 'khelawnu': 3695, 'haldai': 3696, 'jancha': 3697, 'hudai': 3698, 'garcha': 3699, 'sakera': 3700, 'garnu': 3701, 'greg': 3702, 'kinnear': 3703, 'conrats': 3704, 'teamargentina': 3705, 'gnna': 3706, 'congratulate': 3707, 'happiest': 3708, 'remaining': 3709, 'bound': 3710, '47': 3711, 'juice': 3712, 'skips': 3713, 'debacle': 3714, 'messifan': 3715, 'arbitrocomprado': 3716, 'mundial': 3717, 'goooooood': 3718, 'u2': 3719, 'bol': 3720, 'extent': 3721, 'grumpy': 3722, 'welldoneeveryone': 3723, 'naaa': 3724, 'shafted': 3725, 'displayed': 3726, 'offset': 3727, 'opponents': 3728, 'swarming': 3729, 'yellowwwwwwww': 3730, 'takers': 3731, 'ooh': 3732, 'oranje': 3733, 'dyou': 3734, 'generic': 3735, 'everuthinf': 3736, 'lowkey': 3737, 'bottom': 3738, 'protection': 3739, 'sillysaturday': 3740, 'injustice': 3741, 'tons': 3742, 'episode': 3743, 'gab': 3744, 'meets': 3745, 'marcotti': 3746, 'laurensjulien': 3747, 'interviewed': 3748, '54': 3749, 'brings': 3750, 'ladrones': 3751, 'grahame': 3752, 'hirunews': 3753, 'hiruenglishnews': 3754, 'precisely': 3755, 'misused': 3756, 'neuters': 3757, 'reliance': 3758, 'unaccountable': 3759, 'machines': 3760, '000s': 3761, 'ruins': 3762, 'dynamic': 3763, 'malicious': 3764, 'whinging': 3765, 'wokeism': 3766, 'descends': 3767, 'crises': 3768, 'lonely': 3769, 'cheerleader': 3770, 'site': 3771, 'urgently': 3772, 'matured': 3773, 'panicking': 3774, 'appoint': 3775, 'europa': 3776, 'fifas': 3777, 'pal': 3778, 'midget': 3779, 'engand': 3780, 'cheaters': 3781, '11am': 3782, 'barrier': 3783, 'sushi': 3784, 'shaum': 3785, 'flaw': 3786, 'kaulia': 3787, 'honoured': 3788, 'bahaha': 3789, 'books': 3790, 'rescind': 3791, 'exaggerated': 3792, 'buys': 3793, 'wining': 3794, 'es': 3795, 'arise': 3796, 'ooooo': 3797, 'collect': 3798, 'packs': 3799, 'tayto': 3800, 'dfkm': 3801, 'balon': 3802, 'bether': 3803, 'ehn': 3804, 'cutting': 3805, 'slack': 3806, 'substandard': 3807, 'fuarkin': 3808, 'bullspit': 3809, 'scary': 3810, 'leadership': 3811, 'fairly': 3812, 'addressed': 3813, 'billions': 3814, 'generated': 3815, 'metrics': 3816, 'allez': 3817, 'maroq': 3818, 'engfrance': 3819, 'broadcasts': 3820, 'dw': 3821, 'theatre': 3822, 'lessons': 3823, 'cavni': 3824, 'talks': 3825, 'esperanto': 3826, 'universal': 3827, 'maverick': 3828, 'mixing': 3829, 'fabulous': 3830, 'stamping': 3831, 'walesviran': 3832, 'joshua': 3833, 'bondo': 3834, 'govt': 3835, 'diplomatic': 3836, 'totes': 3837, 'emosh': 3838, 'crcvger': 3839, 'rookie': 3840, 'cartel': 3841, 'narcos': 3842, 'strictly': 3843, 'displaying': 3844, 'worldwide': 3845, 'volley': 3846, 'coupon': 3847, 'frowns': 3848, 'lasan': 3849, 'iku': 3850, 'remind': 3851, 'adage': 3852, 'senvseng': 3853, 'supporter': 3854, 'fucken': 3855, 'guessing': 3856, 'memo': 3857, 'wenger': 3858, 'attendance': 3859, 'lessens': 3860, 'smoke': 3861, 'asses': 3862, 'seek': 3863, 'wimps': 3864, 'demonstrated': 3865, 'supposedly': 3866, 'attempts': 3867, 'preferred': 3868, 'battered': 3869, 'divulge': 3870, 'pissing': 3871, 'grief': 3872, 'knowledge': 3873, 'ifab': 3874, 'download': 3875, 'caution': 3876, 'stagnant': 3877, 'protectplayers': 3878, '93': 3879, 'hug': 3880, 'dap': 3881, 'ejected': 3882, 'urinals': 3883, 'unite': 3884, 'postponed': 3885, 'nkiest': 3886, 'naaah': 3887, 'xi': 3888, 'rating': 3889, 'deck': 3890, 'refeering': 3891, 'atmosphere': 3892, 'hound': 3893, 'sjp': 3894, 'relieved': 3895, 'duty': 3896, 'aggro': 3897, 'hypercritical': 3898, 'spoils': 3899, 'intervenes': 3900, 'actully': 3901, 'inflated': 3902, 'depaul': 3903, 'curbelo': 3904, 'eastern': 3905, 'assumes': 3906, 'huh': 3907, 'trivia': 3908, 'brfootball': 3909, 'oneafrica': 3910, 'ianwright0': 3911, 'fraaus': 3912, 'telemundo': 3913, 'aka': 3914, 'zidane': 3915, 'headbutt': 3916, 'wastes': 3917, 'alywagner': 3918, 'announcing': 3919, '5th': 3920, 'scorer': 3921, 'ranaldodive': 3922, 'usawhales': 3923, 'grab': 3924, '93rd': 3925, 'tartan': 3926, 'army': 3927, 'bedlam': 3928, 'outcomes': 3929, 'buildup': 3930, 'gene': 3931, 'steratore': 3932, 'consider': 3933, 'dishonest': 3934, 'wa': 3935, 'fwiw': 3936, 'ferdinand': 3937, 'deserving': 3938, 'guanayan': 3939, 'unnatural': 3940, 'designed': 3941, 'earn': 3942, 'blocking': 3943, 'corporate': 3944, 'bores': 3945, 'upstairs': 3946, 'town': 3947, '3pm': 3948, 'salop': 3949, 'offer': 3950, 'nature': 3951, '2022worldcup': 3952, 'badrefereedecision': 3953, 'ghaporugalmatch': 3954, 'sorest': 3955, 'barking': 3956, 'importantly': 3957, 'hire': 3958, 'git': 3959, 'scran': 3960, 'universe': 3961, 'shop': 3962, 'frieza': 3963, 'coolest': 3964, 'angel': 3965, 'mlb': 3966, 'angelhernandezwoat': 3967, 'strike': 3968, 'basics': 3969, 'ge': 3970, 'anerican': 3971, 'input': 3972, 'nufc': 3973, 'definitive': 3974, 'inject': 3975, 'mindgames': 3976, 'orvocations': 3977, 'sa': 3978, '85min': 3979, 'izinja': 3980, 'madoda': 3981, 'thamsanqa': 3982, 'jantjies': 3983, 'officially': 3984, 'g20': 3985, 'summit': 3986, 'asap': 3987, 'armball': 3988, 'leads': 3989, 'cheerio': 3990, 'thr': 3991, '129': 3992, 'wrexham': 3993, 'afc': 3994, 'cameroonian': 3995, 'skipper': 3996, 'settles': 3997, 'monitoring': 3998, 'fas': 3999, 'marocco': 4000, 'fringe': 4001, 'impact': 4002, 'miserable': 4003, 'vamosespa': 4004, 'presides': 4005, 'montreal': 4006, 'canadiens': 4007, 'battle': 4008, 'nuremberg': 4009, 'tally': 4010, '19': 4011, 'aggressions': 4012, 'soro': 4013, 'ti': 4014, 'gbe': 4015, 'gbogbo': 4016, 'awon': 4017, 'siu': 4018, 'ballon': 4019, 'se': 4020, 'oju': 4021, 'yin': 4022, 'osita': 4023, 'scuff': 4024, 'repulsive': 4025, 'subtle': 4026, 'goldenboot': 4027, 'qater': 4028, 'statement': 4029, 'honkingly': 4030, 'jpncrc': 4031, 'argentins': 4032, 'controverstial': 4033, 'slow': 4034, 'father': 4035, 'showman': 4036, 'bleeding': 4037, 'barca': 4038, 'bayern': 4039, 'multilingual': 4040, 'fielding': 4041, 'thomaspartey22': 4042, 'secretly': 4043, 'boyfriend': 4044, 'argumentative': 4045, 'worldview': 4046, 'murdered': 4047, 'artur': 4048, 'soares': 4049, 'dias': 4050, 'choosing': 4051, 'uncle': 4052, 'highly': 4053, 'gross': 4054, 'disrespect': 4055, 'misses': 4056, 'redcard': 4057, 'nedvarg': 4058, 'timekeeper': 4059, 'integrity': 4060, 'fortunate': 4061, 'gavi': 4062, 'breathe': 4063, 'verguenzamundial': 4064, 'notices': 4065, 'grumpiest': 4066, 'springbok': 4067, 'spoken': 4068, 'victimhood': 4069, 'itavrsa': 4070, 'kante': 4071, 'nahh': 4072, '86': 4073, 'concussions': 4074, 'medics': 4075, 'rushing': 4076, 'concussed': 4077, 'levelled': 4078, '75th': 4079, 'ajmo': 4080, 'hrvatska': 4081, 'rhadiasalma': 4082, 'rwandan': 4083, 'lady': 4084, 'queen': 4085, 'cunts': 4086, 'nicca': 4087, 'complimented': 4088, 'winding': 4089, 'wary': 4090, 'arts': 4091, 'gggooooaaaalllll': 4092, '24th': 4093, 'casa': 4094, 'yo': 4095, 'trippin': 4096, 'starboy': 4097, 'immediate': 4098, 'hosts': 4099, 'choked': 4100, 'recommended': 4101, 'tmrw': 4102, 'antonia': 4103, 'spaniards': 4104, 'superstar': 4105, 'creepy': 4106, 'warn': 4107, 'methods': 4108, 'attackers': 4109, 'bully': 4110, 'anddd': 4111, 'baz': 4112, 'marching': 4113, 'walks': 4114, 'lambada': 4115, 'lord': 4116, 'persons': 4117, 'consulted': 4118, 'crossing': 4119, 'goodcall': 4120, 'automatic': 4121, 'computer': 4122, 'baffled': 4123, 'brace': 4124, 'confidently': 4125, 'tap': 4126, 'contacts': 4127, 'dier': 4128, 'parking': 4129, 'countering': 4130, 'typing': 4131, 'succeeding': 4132, 'kelo': 4133, 'francemorocco': 4134, 'protocol': 4135, 'fluky': 4136, 'hype': 4137, 'ghanauruguay': 4138, 'spine': 4139, 'senseless': 4140, 'unbalanced': 4141, 'remained': 4142, 'disorientation': 4143, 'goanna': 4144, 'waited': 4145, 'caveat': 4146, 'outsized': 4147, 'vital': 4148, 'chava': 4149, 'centinela': 4150, 'naaaa': 4151, 'nerves': 4152, 'urguay': 4153, 'rush': 4154, 'security': 4155, 'council': 4156, 'orientation': 4157, 'reformed': 4158, 'multilateralism': 4159, 'kenyamissionun': 4160, 'cites': 4161, 'multilateral': 4162, 'institutions': 4163, 'compares': 4164, 'enthusiasm': 4165, 'sustained': 4166, 'perception': 4167, 'trouble': 4168, 'niyanya': 4169, 'nina': 4170, 'lewy': 4171, '2min': 4172, 'ample': 4173, '8min': 4174, 'reg': 4175, 'frozen': 4176, 'deer': 4177, 'headlights': 4178, 'waittosee': 4179, 'nod': 4180, 'poetic': 4181, 'ceremony': 4182, 'overlooked': 4183, 'tha': 4184, 'stayed': 4185, 'tsn': 4186, 'threatened': 4187, 'fitter': 4188, 'negatives': 4189, 'pierluigicolina': 4190, 'tambien': 4191, 'hubiera': 4192, 'ganado': 4193, 'guarda': 4194, 'esplanade': 4195, 'bodyguard': 4196, 'niederlanden': 4197, 'paisesbajosargentina': 4198, 'paisesbajos': 4199, 'jogo': 4200, 'carpet': 4201, 'diogo': 4202, 'fractured': 4203, 'forearm': 4204, 'criticism': 4205, 'inb4': 4206, 'promised': 4207, 'blowjob': 4208, 'bc': 4209, 'blody': 4210, 'inability': 4211, 'anoying': 4212, 'brazilvssouthkorea': 4213, 'resemble': 4214, 'eurovision': 4215, 'song': 4216, 'scandals': 4217, 'denvstun': 4218, 'religion': 4219, 'perth': 4220, 'mexicoargentina': 4221, 'knackered': 4222, 'cushendall': 4223, 'whistled': 4224, 'pity': 4225, 'medina': 4226, 'beckham': 4227, 'quit': 4228, 'retarded': 4229, 'sperm': 4230, 'heavily': 4231, 'precocious': 4232, 'child': 4233, 'analyst': 4234, 'dispite': 4235, 'twists': 4236, 'dawn': 4237, 'aiming': 4238, 'academy': 4239, 'slick': 4240, 'violations': 4241, 'prolific': 4242, 'certified': 4243, 'entering': 4244, 'hose': 4245, 'socks': 4246, 'tins': 4247, 'emiliano': 4248, 'jidion6': 4249, 'goodwin': 4250, 'marroco': 4251, 'damaging': 4252, 'suspicions': 4253, 'howd': 4254, 'serie': 4255, 'profiling': 4256, 'oversaw': 4257, 'erm': 4258, 'attendances': 4259, 'stadiums': 4260, 'belqola': 4261, 'dima': 4262, 'vile': 4263, 'pac': 4264, 'fca': 4265, 'scoreless': 4266, 'halves': 4267, 'officals': 4268, 'standpoint': 4269, 'addition': 4270, 'pockets': 4271, 'owners': 4272, 'reflex': 4273, 'shameless': 4274, 'congratulated': 4275, 'remarks': 4276, 'fella': 4277, 'phrases': 4278, 'enhlish': 4279, 'statements': 4280, 'dimaria': 4281, 'defenders': 4282, 'dribble': 4283, 'violated': 4284, 'iam': 4285, 'sar': 4286, 'arturo': 4287, 'anticlimactic': 4288, 'astonished': 4289, 'teamfrance': 4290, 'lmfao': 4291, 'finalists': 4292, 'myth': 4293, 'fluff': 4294, 'bellyaching': 4295, 'demand': 4296, 'scums': 4297, 'attending': 4298, 'progressing': 4299, 'severely': 4300, 'tarnished': 4301, 'enland': 4302, 'damper': 4303, 'modic': 4304, 'holds': 4305, 'ro16': 4306, 'commendable': 4307, 'memorable': 4308, 'booting': 4309, 'leaf': 4310, 'nit': 4311, 'ps': 4312, 'chuff': 4313, 'protected': 4314, 'regulations': 4315, 'argvsned': 4316, 'argvned': 4317, 'chanting': 4318, 'y3d3': 4319, 'maame': 4320, 'tw3': 4321, 'b3ma': 4322, 'koraaa': 4323, 'aint': 4324, 'collar': 4325, 'si': 4326, 'mutual': 4327, 'majorly': 4328, 'tale': 4329, 'halfs': 4330, 'concacfiest': 4331, 'didier': 4332, 'deschamps': 4333, 'completing': 4334, 'bbcradioscot': 4335, 'invested': 4336, 'table': 4337, 'judges': 4338, 'informed': 4339, 'sef': 4340, 'delivering': 4341, 'embrassment': 4342, 'popular': 4343, 'starts': 4344, 'enormous': 4345, 'weaker': 4346, 'organize': 4347, 'implode': 4348, 'dictated': 4349, 'emphatic': 4350, 'castigated': 4351, 'unclear': 4352, 'est': 4353, 'vie': 4354, 'christiano': 4355, 'foremost': 4356, 'shouldve': 4357, 'exi': 4358, 'longest': 4359, 'mood': 4360, 'plank': 4361, 'summation': 4362, 'hugo': 4363, 'coys': 4364, 'light': 4365, 'podcasts': 4366, '2024': 4367, 'sunny': 4368, '2ndly': 4369, 'lgbtq': 4370, 'worldly': 4371, 'idc': 4372, 'soooo': 4373, 'chill': 4374, 'dishes': 4375, 'knobber': 4376, 'beautifulgame': 4377, 'plans': 4378, 'bloodline': 4379, 'jon': 4380, 'escape': 4381, 'ganged': 4382, 'shouted': 4383, 'gose': 4384, 'equality': 4385, 'contrived': 4386, 'nonsensical': 4387, 'dictate': 4388, 'archaic': 4389, 'negligence': 4390, 'tampering': 4391, 'ave': 4392, 'healed': 4393, 'harooooo': 4394, 'argvspol': 4395, 'inspired': 4396, 'february': 4397, 'secure': 4398, 'handover': 4399, 'ss2': 4400, 'ss3': 4401, 'officialbwfc': 4402, 'honking': 4403, 'fu': 4404, 'ked': 4405, 'concentrate': 4406, 'tannies': 4407, 'kookies': 4408, 'mispronounced': 4409, 'fanchant': 4410, 'mystery': 4411, 'native': 4412, 'speaker': 4413, 'forgetting': 4414, 'daylight': 4415, 'belgiumvsmorocco': 4416, 'land': 4417, 'ghavpor': 4418, 'korgan': 4419, 'buhari': 4420, 'deyplay': 4421, 'fifth': 4422, 'situations': 4423, 'unjust': 4424, 'fate': 4425, 'centralisation': 4426, 'travesty': 4427, 'thefixisintheworldcup': 4428, 'messi27632373': 4429, 'vat': 4430, '3d': 4431, 'amateurs': 4432, 'orsat': 4433, 'strings': 4434, 'lowest': 4435, 'ranking': 4436, 'rankings': 4437, 'wat': 4438, 'lied': 4439, 'resume': 4440, 'faced': 4441, 'upwards': 4442, 'collided': 4443, 'birthday': 4444, 'mandasusoh': 4445, 'blessings': 4446, 'puzzled': 4447, 'message': 4448, 'valencia': 4449, 'marking': 4450, 'officiates': 4451, 'roy': 4452, 'keane': 4453, 'kai': 4454, 'paa': 4455, 'apuuu': 4456, 'dellusional': 4457, 'pulled': 4458, 'whining': 4459, 'borderline': 4460, 'wtd': 4461, 'ncaab': 4462, 'tody': 4463, '133': 4464, 'shenanigans': 4465, 'safer': 4466, 'barstoolburgh': 4467, 'thousandth': 4468, 'euphoric': 4469, 'hugging': 4470, 'kissing': 4471, 'consensually': 4472, 'vicinity': 4473, 'misjudgments': 4474, 'restrict': 4475, 'essential': 4476, 'development': 4477, 'commence': 4478, 'monumental': 4479, 'mexicovspoland': 4480, 'settled': 4481, 'frenchfootball': 4482, 'frenchteam': 4483, 'biasedref': 4484, 'frmfofficiel': 4485, 'breathtaking': 4486, 'footballwon': 4487, 'earned': 4488, 'undoubtedly': 4489, 'honourable': 4490, 'strangely': 4491, 'locker': 4492, 'briefcase': 4493, 'faked': 4494, 'force': 4495, 'p': 4496, 'netherland': 4497, 'kmt': 4498, 'francophile': 4499, 'crazies': 4500, 'surrounded': 4501, 'hounding': 4502, 'mercilessly': 4503, 'flipped': 4504, 'impacted': 4505, 'significantly': 4506, 'uruguayghana': 4507, 'spoilt': 4508, 'size': 4509, 'burgerdog': 4510, 'decisive': 4511, 'cooked': 4512, 'dinners': 4513, 'principle': 4514, 'nitpickers': 4515, 'erection': 4516, 'humanity': 4517, 'imprisonment': 4518, 'cnn': 4519, 'ngl': 4520, 'lacking': 4521, 'viewing': 4522, 'charlie': 4523, 'oo': 4524, 'eii': 4525, 'worldcupen': 4526, 'prostitute': 4527, 'bendover': 4528, 'moneytalks': 4529, 'accosting': 4530, 'bars': 4531, 'dario': 4532, 'sunchyme': 4533, 'tilted': 4534, 'growth': 4535, 'evolution': 4536, 'nullifies': 4537, 'stance': 4538, 'finest': 4539, 'gesture': 4540, 'kwasia': 4541, 'whined': 4542, 'steadfast': 4543, 'nederland': 4544, 'finrafraud': 4545, 'forcing': 4546, 'analogous': 4547, 'bharway': 4548, 'interactions': 4549, 'stealing': 4550, 'francevsargentina': 4551, 'mixed': 4552, 'feelings': 4553, 'gather': 4554, 'fixedmatches': 4555, 'prophecy': 4556, 'wrongs': 4557, 'fare': 4558, 'preached': 4559, 'ahhhhhhhhhhhhhhhhhba': 4560, 'document': 4561, 'faults': 4562, '4mins': 4563, 'pour': 4564, 'ropey': 4565, 'boozing': 4566, 'leeds': 4567, 'cnt': 4568, 'folklore': 4569, 'exceptional': 4570, 'perf': 4571, 'funding': 4572, 'rinsed': 4573, 'plaguing': 4574, 'queue': 4575, 'criticisms': 4576, 'unlikely': 4577, 'soutgate': 4578, 'npc': 4579, 'muscles': 4580, '44': 4581, 'frank': 4582, 'ymca': 4583, 'reffffff': 4584, 'sia': 4585, 'claiming': 4586, 'lawl': 4587, 'yawn': 4588, 'skied': 4589, 'sane': 4590, 'wayyyy': 4591, 'produced': 4592, 'dramas': 4593, 'jpickford1': 4594, 'saves': 4595, 'edged': 4596, 'criterio': 4597, 'tech': 4598, 'tools': 4599, 'nowadays': 4600, 'broadcaster': 4601, 'koyemi': 4602, 'jare': 4603, 'ez': 4604, 'fraang': 4605, 'et': 4606, 'deflated': 4607, 'gh20222': 4608, 'cristianoronaldo': 4609, 'teamghana': 4610, 'irn': 4611, 'predictor': 4612, 'medicine': 4613, 'comeuppance': 4614, 'tournements': 4615, 'retribution': 4616, 'absoulte': 4617, 'filthy': 4618, 'bearing': 4619, 'originally': 4620, 'hes': 4621, 'elite': 4622, 'amateur': 4623, 'mason': 4624, 'theory': 4625, 'pieces': 4626, 'wallops': 4627, 'opened': 4628, 'roscoe': 4629, 'access': 4630, 'gosh': 4631, 'tries': 4632, 'gimenez': 4633, 'courage': 4634, 'shockers': 4635, 'dabble': 4636, 'qatars': 4637, 'thunk': 4638, 'dash': 4639, 'yall': 4640, 'patting': 4641, 'wholesome': 4642, 'aggy': 4643, 'definition': 4644, 'wooo': 4645, 'spends': 4646, 'trillion': 4647, 'locking': 4648, 'wash': 4649, 'primitive': 4650, 'executives': 4651, 'prison': 4652, 'bloke': 4653, 'flush': 4654, 'theoretically': 4655, 'hartson': 4656, 'ie': 4657, 'rightfully': 4658, 'saot': 4659, 'applied': 4660, 'accurately': 4661, 'fewer': 4662, 'stories': 4663, 'bukayo': 4664, 'phil': 4665, 'months': 4666, 'farmers': 4667, 'fifawankers': 4668, 'utm': 4669, 'congratulationsvto': 4670, 'croatians': 4671, 'regard': 4672, 'bat': 4673, 'naahh': 4674, 'calculated': 4675, 'urban': 4676, 'meyer': 4677, 'tiring': 4678, 'rye': 4679, 'matheu': 4680, 'balling': 4681, 'awfully': 4682, 'costarica': 4683, 'partly': 4684, 'maguires': 4685, 'chick': 4686, 'discuss': 4687, 'afford': 4688, 'executioner': 4689, 'coincidentally': 4690, 'compatriot': 4691, 'moscow': 4692, 'jutarnji': 4693, 'village': 4694, 'laws': 4695, 'collateral': 4696, 'amazed': 4697, 'intact': 4698, 'roster': 4699, 'haggard': 4700, 'offensive': 4701, 'yesterdays': 4702, 'equipedefrance': 4703, 'kipenga': 4704, 'cha': 4705, 'mwisho': 4706, 'sue': 4707, 'statue': 4708, 'obscure': 4709, 'fagagagaga': 4710, 'meme': 4711, 'pains': 4712, 'initial': 4713, 'selective': 4714, 'dribbling': 4715, 'gvardiol': 4716, 'symbol': 4717, 'mbabbe': 4718, 'diver': 4719, 'funnier': 4720, 'luckily': 4721, 'sales': 4722, 'lmfaooooo': 4723, 'inadvertently': 4724, 'brief': 4725, 'midfielders': 4726, 'griezman': 4727, 'marked': 4728, 'glowing': 4729, 'internal': 4730, 'challenging': 4731, '1982': 4732, 'kuwaiti': 4733, 'cancelled': 4734, 'sheikh': 4735, 'fahad': 4736, 'gid': 4737, 'enabled': 4738, 'flowing': 4739, 'respectful': 4740, 'celebrated': 4741, 'exchanged': 4742, 'smiles': 4743, 'paniniamerica': 4744, 'fernando': 4745, 'rapallini': 4746, 'anthonytaylor': 4747, 'crobel': 4748, 'sol': 4749, '2004': 4750, 'unbelievably': 4751, 'outraged': 4752, 'sided': 4753, 'grasp': 4754, 'shocker': 4755, 'trent': 4756, 'anybody': 4757, 'japesp': 4758, '99': 4759, 'howler': 4760, 'ahhhh': 4761, 'chalked': 4762, 'bmt': 4763, 'obsession': 4764, 'tun': 4765, 'tunaus': 4766, 'hornswoggle': 4767, 'guest': 4768, 'raphael': 4769, 'claus': 4770, 'mail': 4771, 'studied': 4772, 'examination': 4773, 'representatives': 4774, 'understood': 4775, 'irritated': 4776, 'sociopath': 4777, 'stoke': 4778, 'kor': 4779, 'vincic': 4780, 'slavko': 4781, 'fear': 4782, 'vex': 4783, 'sentence': 4784, 'messing': 4785, 'investment': 4786, 'chz': 4787, 'pumps': 4788, 'moon': 4789, 'happiness': 4790, 'concluded': 4791, 'desired': 4792, 'banger': 4793, 'sidenote': 4794, 'license': 4795, 'bull': 4796, 'happeningg': 4797, 'hahahaha': 4798, 'lineman': 4799, 'lautaro': 4800, 'gagging': 4801, 'excitement': 4802, 'ay': 4803, '5m': 4804, 'spitting': 4805, 'uncivilized': 4806, 'robs': 4807, 'akina': 4808, 'bebeto': 4809, 'rudainy': 4810, 'huyu': 4811, 'hua': 4812, 'yuabeba': 4813, 'ngapi': 4814, 'mbona': 4815, 'kila': 4816, 'mtu': 4817, 'apewa': 4818, 'yako': 4819, 'luigi': 4820, 'colima': 4821, 'stated': 4822, 'sum': 4823, 'excluding': 4824, 'botched': 4825, 'yah': 4826, 'qualifications': 4827, 'corrects': 4828, 'fcuk': 4829, 'sudden': 4830, 'longer': 4831, 'itvnews': 4832, 'peak': 4833, 'bitchass': 4834, 'fjfjfjf': 4835, 'tad': 4836, 'replayed': 4837, 'waves': 4838, 'imaginary': 4839, 'hoped': 4840, 'advancing': 4841, 'renaldo': 4842, 'reputation': 4843, 'inferior': 4844, 'attacker': 4845, 'equaliser': 4846, 'oot': 4847, 'prizes': 4848, 'peaking': 4849, 'streams': 4850, 'crowds': 4851, 'xenophobia': 4852, 'thad': 4853, 'justify': 4854, 'overtime': 4855, '4years': 4856, 'elon': 4857, 'musk': 4858, 'hakf': 4859, 'baskeball': 4860, 'reacting': 4861, 'intensity': 4862, 'ethics': 4863, 'sheeple': 4864, 'discover': 4865, 'mgt': 4866, 'overtly': 4867, 'sing': 4868, 'anthem': 4869, 'jb22': 4870, 'entertain': 4871, 'specific': 4872, 'elsewhere': 4873, 'olympic': 4874, 'ed': 4875, 'halloween': 4876, 'costume': 4877, 'candy': 4878, 'artificially': 4879, '00': 4880, 'snide': 4881, 'arabians': 4882, 'learnt': 4883, 'december': 4884, 'rebuild': 4885, 'governed': 4886, 'boss': 4887, 'paulo': 4888, 'bento': 4889, 'blasted': 4890, 'issuing': 4891, 'sellout': 4892, 'offense': 4893, 'overlook': 4894, 'fsfofficielle': 4895, 'decesions': 4896, 'handballs': 4897, 'comps': 4898, 'uses': 4899, 'disallow': 4900, 'weuh': 4901, 'routine': 4902, 'survived': 4903, 'fuckign': 4904, 'fouling': 4905, 'crowded': 4906, 'thomasmlambo': 4907, 'supersporttv': 4908, 'justiceforghana': 4909, 'whaoooo': 4910, 'sheeting': 4911, 'namibia': 4912, 'namibian': 4913, 'displays': 4914, 'quater': 4915, 'canbel': 4916, 'theref': 4917, 'unofficial': 4918, 'ways': 4919, 'impossible': 4920, 'wrenching': 4921, 'ovrebo': 4922, 'lukeleahy': 4923, 'papa': 4924, 'georgiaface': 4925, 'headmaster': 4926, 'shitlords': 4927, 'unkel': 4928, 'fifamaffia': 4929, 'drastically': 4930, 'morrocan': 4931, 'francevsmorroco': 4932, 'mexicanreferee': 4933, 'concern': 4934, 'xhaka': 4935, 'michaelrosenyes': 4936, 'hockey': 4937, 'item': 4938, 'letsgooilers': 4939, 'sankabele': 4940, 'hansi': 4941, 'flick': 4942, 'edouard': 4943, 'aboubaker': 4944, 'puts': 4945, 'serving': 4946, 'cmrbre': 4947, 'addi': 4948, 'serum': 4949, 'bts': 4950, 'practising': 4951, 'clip': 4952, 'loud': 4953, 'cocky': 4954, 'favors': 4955, 'shoulders': 4956, 'questioned': 4957, 'warmups': 4958, 'schnur': 4959, 'tosses': 4960, 'jaylen': 4961, 'whoa': 4962, 'spotlight': 4963, 'qatvssen': 4964, 'qat': 4965, 'sen': 4966, 'forgot': 4967, 'underdog': 4968, 'canadavsbelgium': 4969, 'chloroform': 4970, 'pocket': 4971, 'violently': 4972, 'charged': 4973, 'indirect': 4974, 'clearer': 4975, 'moroccon': 4976, 'ballistic': 4977, 'terrified': 4978, 'trauma': 4979, 'rashford': 4980, 'involvement': 4981, 'follows': 4982, 'satisfied': 4983, 'varzaworldcup2022': 4984, 'lyin': 4985, 'crooked': 4986, 'aaaah': 4987, 'argentinien': 4988, 'asskissing': 4989, 'timewasting': 4990, 'tactic': 4991, 'jus': 4992, 'enjoyable': 4993, 'jailed': 4994, 'term': 4995, 'yomishi': 4996, 'appearing': 4997, 'rhetoric': 4998, 'crosses': 4999, 'wanker': 5000, 'pray': 5001, 'worldbest': 5002, 'hows': 5003, 'dendocker': 5004, 'hjiostory': 5005, 'understanding': 5006, 'marrocco': 5007, 'suppprt': 5008, '2008': 5009, 'meaningful': 5010, 'presence': 5011, 'boot': 5012, 'tyler': 5013, 'adams': 5014, 'stone': 5015, 'decade': 5016, 'winger': 5017, 'hopes': 5018, 'shadow': 5019, 'big12refs': 5020, 'big12': 5021, 'subreddit': 5022, 'verbatim': 5023, 'plss': 5024, 'messideservedthisworldcup': 5025, 'blokes': 5026, 'douchebag': 5027, 'cameroonians': 5028, 'yuh': 5029, 'ideas': 5030, 'jaco': 5031, 'peyper': 5032, 'moneyyy': 5033, 'raised': 5034, 'grade': 5035, 'dindnt': 5036, 'estimations': 5037, 'mission': 5038, 'grandson': 5039, 'varsity': 5040, 'nervous': 5041, 'grizzled': 5042, 'vinegar': 5043, 'mercy': 5044, 'tagoe': 5045, 'jazz': 5046, 'clippers': 5047, 'fuckfifa': 5048, 'criticises': 5049, 'blacks': 5050, 'representative': 5051, 'pregnant': 5052, 'dusted': 5053, 'wanks': 5054, 'hamsters': 5055, 'sponsorship': 5056, 'clinton': 5057, 'yellowcard': 5058, '200k': 5059, 'slate': 5060, 'mon': 5061, 'insulted': 5062, 'balled': 5063, 'argued': 5064, 'decisively': 5065, 'outplay': 5066, 'bodes': 5067, 'onsoranje': 5068, 'afa': 5069, 'investigatelahoz': 5070, 'investigateworldcup': 5071, 'equalise': 5072, 'reduce': 5073, 'clarity': 5074, 'judgement': 5075, 'doubted': 5076, 'producing': 5077, 'cups': 5078, 'intercepted': 5079, 'oprah': 5080, 'winfrey': 5081, 'limelight': 5082, 'chaotic': 5083, 'unfold': 5084, 'served': 5085, 'plate': 5086, 'prize': 5087, 'amongst': 5088, 'tango': 5089, 'befitting': 5090, 'runnings': 5091, 'despise': 5092, 'kavanagh': 5093, 'overseeing': 5094, 'punjab': 5095, 'hinge': 5096, 'yday': 5097, 'teachers': 5098, 'tesco': 5099, 'camp': 5100, 'thieves': 5101, 'tops': 5102, 'lfg': 5103, 'clowns': 5104, 'introduced': 5105, 'mounted': 5106, 'underneath': 5107, 'wordchampion': 5108, 'messimustwinthetitle': 5109, '80': 5110, 'responsible': 5111, 'metinks': 5112, 'absolutelyshit': 5113, 'partial': 5114, 'lesson': 5115, 'engage': 5116, 'reallt': 5117, 'sorts': 5118, 'deeper': 5119, 'fingers': 5120, 'weirdest': 5121, 'subconsciously': 5122, 'impacts': 5123, 'nagging': 5124, 'possibility': 5125, '5goals': 5126, 'thousands': 5127, 'demoted': 5128, 'refuse': 5129, 'collection': 5130, 'sigh': 5131, 'verses': 5132, 'comeonengland': 5133, 'select': 5134, 'clue': 5135, 'compromised': 5136, 'novice': 5137, 'mary': 5138, 'jo': 5139, 'jesy': 5140, 'ki': 5141, 'hoti': 5142, 'hy': 5143, 'wesy': 5144, 'hi': 5145, 'aaj': 5146, 'bhi': 5147, 'hyn': 5148, 'unironically': 5149, 'defense': 5150, 'posting': 5151, 'atp': 5152, 'seein': 5153, 'events': 5154, 'felonious': 5155, 'shadiness': 5156, 'thou': 5157, 'shin': 5158, 'meninblazers': 5159, 'objectively': 5160, 'alongside': 5161, 'gil': 5162, 'manzano': 5163, 'praying': 5164, 'downfalls': 5165, 'isa': 5166, 'bemusement': 5167, 'theo': 5168, 'wipes': 5169, 'marfra': 5170, 'belief': 5171, 'constitutes': 5172, 'dances': 5173, 'handily': 5174, 'bellinghim': 5175, 'poop': 5176, 'corruptfifa': 5177, 'felled': 5178, 'gervsjpn': 5179, 'fai': 5180, 'irish': 5181, 'scarcely': 5182, 'seven': 5183, 'butting': 5184, 'sod': 5185, 'airport': 5186, 'woo': 5187, 'stake': 5188, '2pts': 5189, 'tipster': 5190, 'tipsrush': 5191, 'ycs': 5192, 'apps': 5193, 'bookies': 5194, 'shorter': 5195, 'exhilarating': 5196, 'skillfull': 5197, 'brave': 5198, 'glorious': 5199, 'heroes': 5200, 'majesty': 5201, 'walkover': 5202, 'tricked': 5203, 'frustrated': 5204, 'picturing': 5205, 'razzie': 5206, 'rugger': 5207, 'makkele': 5208, 'nottingham': 5209, 'craziest': 5210, 'brice': 5211, 'samba': 5212, 'hennessy': 5213, 'alex': 5214, 'dubeau': 5215, 'dominate': 5216, '90mins': 5217, 'finds': 5218, 'mbappevshakimi': 5219, 'agony': 5220, 'azzurri': 5221, 'fratun': 5222, 'gemes': 5223, 'budweiser': 5224, 'budweiserworldcup': 5225, 'yourstotake': 5226, 'strangest': 5227, 'youngest': 5228, 'winded': 5229, 'rightful': 5230, 'respectable': 5231, 'bots': 5232, 'tempted': 5233, 'serves': 5234, 'fairest': 5235, 'ironic': 5236, 'cussing': 5237, 'hav': 5238, 'amazingly': 5239, 'competitive': 5240, 'covering': 5241, 'addled': 5242, 'crack': 5243, 'jinx': 5244, 'pot': 5245, 'fuckthefrench': 5246, 'leaning': 5247, 'interfere': 5248, 'stuart': 5249, 'burt': 5250, 'beswick': 5251, 'tsworldcup': 5252, 'understands': 5253, 'highest': 5254, 'conducted': 5255, 'remarkable': 5256, 'advantages': 5257, 'pretentious': 5258, 'salutations': 5259, 'foult': 5260, 'impeccable': 5261, 'facilitated': 5262, 'biast': 5263, 'kroarg': 5264, 'inspirational': 5265, 'reflection': 5266, 'sincere': 5267, 'mum': 5268, 'soggy': 5269, 'maccies': 5270, 'straw': 5271, 'backseat': 5272, 'older': 5273, 'hooting': 5274, 'hollering': 5275, 'hmmm': 5276, 'conceded': 5277, 'ecuadorian': 5278, 'interrupting': 5279, 'publicity': 5280, 'intruder': 5281, 'harshly': 5282, 'police': 5283, 'cheater': 5284, 'racists': 5285, 'celebrates': 5286, 'fiving': 5287, 'posts': 5288, 'blue': 5289, 'irrespective': 5290, 'roast': 5291, 'inshaallah': 5292, 'historically': 5293, 'manual': 5294, 'unprofessional': 5295, 'ohio': 5296, 'michigan': 5297, 'facts': 5298, 'ecuadors': 5299, 'jerma': 5300, 'lique': 5301, 'mx': 5302, 'oldest': 5303, 'trope': 5304, 'watches': 5305, 'seria': 5306, 'rocchi': 5307, 'regulation': 5308, 'moss': 5309, 'bros': 5310, 'sakes': 5311, 'spending': 5312, 'biofreeze': 5313, 'sprayed': 5314, 'cast': 5315, 'liner': 5316, 'slinging': 5317, 'engaged': 5318, 'mafia': 5319, 'dr': 5320, 'boro': 5321, 'shoddy': 5322, 'fallen': 5323, 'stunned': 5324, 'trap': 5325, 'setting': 5326, 'precedent': 5327, 'ngoba': 5328, 'sizonya': 5329, 'nyi': 5330, 'ngo': 5331, 'naturena': 5332, 'clearest': 5333, 'summon': 5334, 'dunce': 5335, 'offered': 5336, 'salah': 5337, 'fuss': 5338, 'manages': 5339, 'milestone': 5340, 'recover': 5341, 'substitutes': 5342, 'credentials': 5343, 'applies': 5344, '83': 5345, 'og': 5346, 'ian': 5347, 'wright': 5348, 'divide': 5349, 'itvxfresh': 5350, 'focusing': 5351, 'offciating': 5352, 'status': 5353, 'geoff': 5354, 'hurst': 5355, 'softpenalty': 5356, 'liberian': 5357, 'sketchy': 5358, 'sadness': 5359, 'believing': 5360, 'wikipedia': 5361, 'rolls': 5362, 'royce': 5363, 'promoting': 5364, 'feat': 5365, 'convenient': 5366, 'etoo': 5367, 'wolves': 5368, 'ticket': 5369, 'holder': 5370, 'sit': 5371, 'com': 5372, 'nest': 5373, 'guinness': 5374, 'omo': 5375, 'nawa': 5376, 'dumfries': 5377, 'pott': 5378, 'conducting': 5379, 'erred': 5380, 'entered': 5381, 'slating': 5382, 'turning': 5383, 'whataref': 5384, 'chearing': 5385, 'adaderena': 5386, 'conned': 5387, 'ludicrous': 5388, 'sf': 5389, 'responding': 5390, 'allegations': 5391, 'sensationally': 5392, 'unit': 5393, 'pulseghana': 5394, 'humanrights': 5395, 'thescript': 5396, 'occasions': 5397, 'porsui': 5398, 'impressed': 5399, 'accurate': 5400, 'bum': 5401, 'ksamex': 5402, 'engaging': 5403, 'heritage': 5404, 'wife': 5405, 'voluntarily': 5406, 'multiplied': 5407, 'x2': 5408, 'olympics': 5409, 'canwnt': 5410, '2012': 5411, 'canmnt': 5412, 'szczesny': 5413, 'wojciech': 5414, 'norwegian': 5415, 'television': 5416, 'tv2': 5417, 'six': 5418, 'meter': 5419, 'sprints': 5420, 'faster': 5421, 'recovery': 5422, 'laps': 5423, 'fartlek': 5424, '21': 5425, 'utd': 5426, 'villa': 5427, 'wsl': 5428, 'sunderland': 5429, 'millwall': 5430, 'alright': 5431, 'ill': 5432, 'complainin': 5433, 'cymru': 5434, 'aboubackar': 5435, 'homeland': 5436, 'cameron': 5437, 'heated': 5438, 'reportedly': 5439, 'numerous': 5440, 'seemingly': 5441, 'wreck': 5442, 'flamengo': 5443, 'gut': 5444, 'wiltonsampaio': 5445, 'retained': 5446, 'decree': 5447, 'haunted': 5448, 'specialist': 5449, 'wing': 5450, 'trippier': 5451, 'interrupted': 5452, 'moronic': 5453, 'rescue': 5454, 'hakim': 5455, 'canceled': 5456, 'approximately': 5457, '8th': 5458, 'mac': 5459, 'allister': 5460, 'grinning': 5461, 'wind': 5462, 'merchant': 5463, 'sponsor': 5464, 'eagerly': 5465, 'watchable': 5466, 'ward': 5467, 'cracks': 5468, 'cartwheels': 5469, 'biter': 5470, 'lengthy': 5471, 'douchebags': 5472, 'hall': 5473, 'crybaby': 5474, 'adults': 5475, 'invited': 5476, 'surgeon': 5477, 'pilot': 5478, 'cases': 5479, 'exchanges': 5480, 'goose': 5481, 'offender': 5482, 'sanctioned': 5483, 'compared': 5484, 'asamoah': 5485, 'gyan': 5486, 'badass': 5487, 'relax': 5488, 'carefree': 5489, 'freak': 5490, 'monday': 5491, 'julia': 5492, 'elf': 5493, 'shelf': 5494, 'meth': 5495, '29th': 5496, 'november': 5497, 'russia': 5498, 'fist': 5499, 'bump': 5500, 'deflecting': 5501, 'threats': 5502, 'deadass': 5503, 'unqualified': 5504, 'belonged': 5505, 'trini': 5506, 'fifacorrupt': 5507, 'idiotic': 5508, 'accidental': 5509, 'frankly': 5510, 'inform': 5511, 'poleaxed': 5512, 'nicely': 5513, 'lifted': 5514, 'tories': 5515, 'weaponize': 5516, 'qatarneedstolightenup': 5517, 'project': 5518, 'fulfilled': 5519, 'brand': 5520, 'andnits': 5521, 'fifa2022qatar': 5522, 'fifa2022': 5523, 'playoffs': 5524, 'clause': 5525, 'contracts': 5526, 'nahhhhh': 5527, 'ability': 5528, 'convos': 5529, 'handicapped': 5530, 'favorites': 5531, 'linesmen': 5532, 'received': 5533, 'champ': 5534, 'alien': 5535, 'destiny': 5536, 'fwc': 5537, 'unfit': 5538, 'protect': 5539, 'micheal': 5540, 'brooklands': 5541, 'silverstone': 5542, 'bill': 5543, 'gates': 5544, 'networth': 5545, 'delighted': 5546, 'significant': 5547, 'motions': 5548, 'eating': 5549, 'superpicks': 5550, 'brink': 5551, 'vibration': 5552, 'actions': 5553, 'daft': 5554, 'kenyan': 5555, 'oscars': 5556, 'snag': 5557, 'equalizer': 5558, 'violence': 5559, 'becouse': 5560, 'uproar': 5561, 'smfh': 5562, 'schoolboy': 5563, 'volunteering': 5564, 'rhe': 5565, '1938': 5566, 'leonidas': 5567, 'silva': 5568, 'czecoslovakia': 5569, 'attempted': 5570, 'illegal': 5571, 'quator': 5572, 'eduador': 5573, 'oafc': 5574, 'revised': 5575, 'grant': 5576, 'cops': 5577, 'registration': 5578, 'greetings': 5579, 'vide': 5580, 'republicans': 5581, 'witch': 5582, 'hunt': 5583, 'teamx': 5584, 'teamusa': 5585, 'laying': 5586, 'writhing': 5587, 'elicit': 5588, 'sucked': 5589, 'richardfrench82': 5590, 'martin': 5591, 'keown': 5592, 'suggesting': 5593, 'incessant': 5594, 'struggled': 5595, 'aimlessly': 5596, 'sayin': 5597, 'flowers': 5598, 'mandem': 5599, 'lmfaoooooo': 5600, 'lmaoooooooooooooooooo': 5601, 'whatagame': 5602, 'poppin': 5603, 'slags': 5604, 'hkane': 5605, 'pops': 5606, 'office': 5607, 'stroke': 5608, 'clouded': 5609, 'judgment': 5610, 'portugals': 5611, 'reject': 5612, 'ghanavskorea': 5613, 'lewandoski': 5614, 'lmaaoooo': 5615, 'teammates': 5616, 'faux': 5617, 'fury': 5618, 'rashy': 5619, 'tragedy': 5620, 'sweat': 5621, 'sporting': 5622, 'verifying': 5623, 'onit': 5624, 'normally': 5625, 'capitalise': 5626, 'modi': 5627, 'applicable': 5628, 'honour': 5629, 'mere': 5630, 'figment': 5631, 'era': 5632, 'defining': 5633, 'attire': 5634, 'pena': 5635, 'favorable': 5636, 'ongoing': 5637, 'tsa': 5638, 'rutile': 5639, 'ka': 5640, 'shem': 5641, 'walshman': 5642, '2030': 5643, 'leader': 5644, 'capital': 5645, 'northkorea': 5646, 'aregentina': 5647, 'freaks': 5648, 'pints': 5649, 'belanja': 5650, 'betul': 5651, 'ye': 5652, 'kat': 5653, 'awwwww': 5654, 'alas': 5655, 'jade': 5656, 'rice': 5657, 'woohoo': 5658, 'sympathy': 5659, 'combined': 5660, 'decimated': 5661, 'lousy': 5662, 'lacks': 5663, 'calm': 5664, 'refrain': 5665, 'notorious': 5666, 'clive': 5667, 'thomas': 5668, 'zico': 5669, 'breel': 5670, 'embolo': 5671, 'rafael': 5672, 'leao': 5673, 'danilo': 5674, 'guinea': 5675, 'bissau': 5676, 'william': 5677, 'carvahlo': 5678, 'afr': 5679, 'moving': 5680, 'banglafootball': 5681, 'dekhe': 5682, 'indian': 5683, 'der': 5684, 'sekha': 5685, 'uchit': 5686, 'wuz': 5687, 'realises': 5688, 'fwc2022': 5689, 'wandering': 5690, 'itv4': 5691, 'innit': 5692, 'momentous': 5693, 'mainstream': 5694, 'euro24': 5695, 'exchange': 5696, 'deejayfaremi': 5697, 'mustapha': 5698, 'ghorbal': 5699, 'danthomasespn': 5700, 'swallowing': 5701, 'blindness': 5702, 'pole': 5703, 'effing': 5704, 'conscious': 5705, 'dumbfuck': 5706, 'thn': 5707, 'dismissed': 5708, 'appeal': 5709, 'inspected': 5710, 'technically': 5711, 'uneven': 5712, 'babylon': 5713, 'bee': 5714, 'starbucks': 5715, 'promotion': 5716, 'offering': 5717, 'coffee': 5718, 'barista': 5719, 'reads': 5720, 'disagrees': 5721, 'dies': 5722, 'pish': 5723, 'ideal': 5724, 'bitching': 5725, 'tiebreaker': 5726, 'unlikeable': 5727, 'lolsss': 5728, 'bgi': 5729, 'jelaa': 5730, 'dia': 5731, 'mng': 5732, 'mmg': 5733, 'iyall': 5734, 'hs': 5735, 'method': 5736, 'disdain': 5737, 'longgggg': 5738, 'yer': 5739, 'hated': 5740, 'mateulahoz': 5741, 'update': 5742, 'teammessi': 5743, 'oil': 5744, 'flash': 5745, 'dumber': 5746, 'morons': 5747, 'protesters': 5748, 'accused': 5749, 'executed': 5750, 'raise': 5751, 'voice': 5752, 'sahandnoormohammadzadeh': 5753, 'alimoazzami': 5754, 'alimoazemi': 5755, 'mohsenshekari': 5756, 'leaders': 5757, 'haram': 5758, 'celeberate': 5759, 'morrocon': 5760, 'antoine': 5761, 'violating': 5762, 'predictably': 5763, 'dismal': 5764, 'irritating': 5765, 'els': 5766, 'glan': 5767, 'ireland': 5768, 'onside': 5769, 'doh': 5770, 'copadomundofifa': 5771, 'speechless': 5772, 'figured': 5773, 'engvnz': 5774, 'depower': 5775, 'scrum': 5776, 'effectively': 5777, 'watson': 5778, '2003': 5779, 'wore': 5780, 'engvsfrance': 5781, 'curbs': 5782, 'ppescandal': 5783, 'advances': 5784, 'fravsarg': 5785, 'abdulrahman': 5786, 'jab': 5787, 'eagle': 5788, 'soured': 5789, 'region': 5790, '86th': 5791, 'relentlessly': 5792, 'randomly': 5793, 'cussed': 5794, 'cgtnamerica': 5795, 'fitba': 5796, 'formation': 5797, 'finale': 5798, 'bummer': 5799, 'audition': 5800, 'cluelessness': 5801, 'celly': 5802, 'cmrvbra': 5803, 'springboks': 5804, 'allways': 5805, 'irb': 5806, 'engvrsa': 5807, 'southagte': 5808, 'critic': 5809, 'ebgfra': 5810, 'hill': 5811, 'bbcnews': 5812, 'baked': 5813, 'exceed': 5814, '5minutes': 5815, 'manuel': 5816, 'gr': 5817, 'fe': 5818, 'zdf': 5819, 'pls': 5820, 'qudos': 5821, 'spirits': 5822, 'oooh': 5823, 'girlies': 5824, 'envy': 5825, 'morrocco': 5826, 'argentini': 5827, 'wk2022': 5828, 'keepers': 5829, 'umpiring': 5830, 'rolando': 5831, 'forgive': 5832, 'dished': 5833, 'painful': 5834, 'ooo': 5835, 'offences': 5836, 'theme': 5837, 'spectator': 5838, 'umpire': 5839, 'hawkeye': 5840, 'varieties': 5841, 'haha': 5842, 'messis': 5843, 'rhapsody': 5844, 'barcelona': 5845, 'doctor': 5846, 'rushed': 5847, 'request': 5848, 'listeners': 5849, 'elgar': 5850, 'cnnsport': 5851, 'needful': 5852, 'simulation': 5853, 'russia2018': 5854, 'breakthrough': 5855, 'skeptics': 5856, 'bizarre': 5857, 'baseball': 5858, 'georgecarlin': 5859, 'routines': 5860, 'ryenarussillo': 5861, 'engages': 5862, 'shithousery': 5863, 'chirpy': 5864, 'officiation': 5865, 'touche': 5866, 'west': 5867, 'embarrassingly': 5868, 'shamelessness': 5869, 'reigns': 5870, 'supreme': 5871, 'jokers': 5872, 'gaa': 5873, 'girl': 5874, 'fugazi': 5875, 'guts': 5876, 'assess': 5877, 'vocal': 5878, 'summed': 5879, 'bono': 5880, 'selfies': 5881, 'worn': 5882, 'horrid': 5883, 'wilson': 5884, 'brunofernandes': 5885, 'trumpy': 5886, 'bolso': 5887, 'commo': 5888, 'parenting': 5889, 'comments': 5890, 'apology': 5891, 'surrounding': 5892, 'spoling': 5893, 'enemy': 5894, 'norman': 5895, 'price': 5896, 'refugee': 5897, 'personal': 5898, 'alliances': 5899, 'tag': 5900, 'tickle': 5901, 'issued': 5902, 'qualifiers': 5903, 'jumping': 5904, 'threshold': 5905, 'behemoth': 5906, 'postpone': 5907, 'kindly': 5908, 'allotted': 5909, 'stinkers': 5910, 'rise': 5911, 'shine': 5912, 'matchday': 5913, 'dropball': 5914, 'bone': 5915, 'tested': 5916, 'vision': 5917, 'dragging': 5918, 'footed': 5919, 'studs': 5920, 'tweeting': 5921, 'blinder': 5922, '7pm': 5923, 'pod': 5924, '17a': 5925, 'shouldvegonetospecsavers': 5926, 'ripping': 5927, 'shreds': 5928, 'doomed': 5929, 'recognize': 5930, 'nedecu': 5931, 'booth': 5932, 'tata': 5933, 'stray': 5934, 'xyc': 5935, 'behich': 5936, '23': 5937, 'receive': 5938, 'expectedyellowcards': 5939, 'ausden': 5940, 'baijiu': 5941, '2x': 5942, 'catches': 5943, 'ad': 5944, 'carrot': 5945, 'cannon': 5946, 'waitings': 5947, 'neh': 5948, 'erased': 5949, 'unable': 5950, 'urge': 5951, 'hook': 5952, 'nationalffa': 5953, 'qatsen': 5954, 'spoke': 5955, 'sup': 5956, 'glass': 5957, 'spills': 5958, 'bartender': 5959, 'yells': 5960, 'throat': 5961, 'regularly': 5962, 'crowding': 5963, 'respects': 5964, 'bronu': 5965, 'felix': 5966, '22': 5967, 'grouping': 5968, 'systems': 5969, 'argvscro': 5970, 'croatiaargentina': 5971, 'fifaworldcupgr': 5972, 'finalfantasy': 5973, 'unlocked': 5974, 'describe': 5975, 'naia': 5976, 'sprinkled': 5977, 'jr': 5978, 'collegiate': 5979, 'obnoxious': 5980, 'queens': 5981, 'weeks': 5982, 'maxi': 5983, 'ru': 5984, 'eally': 5985, 'racers': 5986, 'engines': 5987, 'tool': 5988, 'chart': 5989, 'grow': 5990, 'wealthy': 5991, 'princes': 5992, 'chef': 5993, 'professionals': 5994, 'letsgo': 5995, 'heck': 5996, 'digging': 5997, 'landmark': 5998, 'lines': 5999, 'messy': 6000, 'blm': 6001, 'lool': 6002, 'crumble': 6003, 'fed': 6004, 'bladdy': 6005, 'thirteen': 6006, 'space': 6007, 'matty': 6008, 'cash': 6009, 'refereeingin': 6010, 'wc22': 6011, 'load': 6012, 'investments': 6013, 'marketing': 6014, 'corruptly': 6015, 'speakers': 6016, 'spager': 6017, 'scamref': 6018, 'freemexico': 6019, 'controversially': 6020, 'itscominghome': 6021, 'chin': 6022, 'demise': 6023, 'blockbuster': 6024, 'sight': 6025, 'soo': 6026, 'millennium': 6027, 'includes': 6028, 'asian': 6029, 'iranians': 6030, 'poured': 6031, 'tehran': 6032, 'scooter': 6033, 'car': 6034, '90minutes': 6035, 'owes': 6036, 'explanation': 6037, 'australian': 6038, 'gimp': 6039, 'inhumane': 6040, 'accumulation': 6041, '89th': 6042, 'muttering': 6043, 'uniform': 6044, 'code': 6045, 'porrugal': 6046, 'tao': 6047, 'bao': 6048, 'hyped': 6049, 'bettered': 6050, 'optimistic': 6051, 'van': 6052, 'instructions': 6053, 'rainbow6game': 6054, 'servers': 6055, 'hypocrite': 6056, 'censorship': 6057, 'socials': 6058, 'trashracism': 6059, 'elonmusk': 6060, '5k': 6061, '10k': 6062, 'delete': 6063, 'hole': 6064, 'moroccos': 6065, 'panic': 6066, 'string': 6067, '70mins': 6068, 'physios': 6069, 'extratime': 6070, 'bir': 6071, 'ilk': 6072, 'olmal': 6073, 'guardian': 6074, 'disrupts': 6075, 'drugs': 6076, 'admitted': 6077, 'coincidental': 6078, 'occurrence': 6079, 'hakimi': 6080, 'rhythm': 6081, 'begun': 6082, 'wagging': 6083, 'compris': 6084, '150k': 6085, 'rwfs': 6086, 'central': 6087, 'policy': 6088, 'reprimand': 6089, 'required': 6090, 'commit': 6091, 'donated': 6092, 'gree': 6093, 'crash': 6094, 'immensely': 6095, 'satisfying': 6096, 'icing': 6097, 'cake': 6098, 'thud': 6099, 'libya': 6100, 'theyd': 6101, 'punch': 6102, 'swipe': 6103, 'incapable': 6104, 'antoniomateulahoz': 6105, 'abdullah': 6106, 'touchdown': 6107, 'fly': 6108, 'potato': 6109, 'uranium': 6110, 'bath': 6111, 'christano': 6112, 'trained': 6113, 'henandes': 6114, 'reshaping': 6115, 'notion': 6116, 'original': 6117, 'greatcalls': 6118, 'hanging': 6119, 'encroach': 6120, 'stuttering': 6121, 'hvar': 6122, 'bracro': 6123, 'fifantino': 6124, 'area': 6125, 'andr': 6126, 'disrespected': 6127, 'passion': 6128, 'skulduggery': 6129, 'cameroun': 6130, 'graceful': 6131, 'pt1': 6132, 'marvsesp': 6133, 'mumu': 6134, 'softcall': 6135, 'loco': 6136, 'abreu': 6137, 'oversight': 6138, 'active': 6139, 'requirement': 6140, 'germania': 6141, 'sex': 6142, 'penal': 6143, 'pluses': 6144, 'equalled': 6145, 'squeeze': 6146, 'dapping': 6147, 'suing': 6148, 'crush': 6149, 'devils': 6150, 'maple': 6151, 'leafs': 6152, 'mapleleafs': 6153, 'njdevils': 6154, 'unpaid': 6155, 'relegated': 6156, 'hungary': 6157, 'talksport': 6158, 'carltoncole1': 6159, 'chelsea': 6160, 'conniving': 6161, 'harassing': 6162, 'issokay': 6163, 'macalister': 6164, 'prepared': 6165, 'secondly': 6166, 'misogyny': 6167, 'random': 6168, 'paidoff': 6169, 'nazi': 6170, 'seibert': 6171, 'contribute': 6172, 'videos': 6173, 'honesty': 6174, 'extreme': 6175, 'sensations': 6176, 'wonderfully': 6177, 'refreshing': 6178, 'unbiased': 6179, 'discussion': 6180, 'szymonmarciniak': 6181, 'upcoming': 6182, 'nasa': 6183, 'spaceflight': 6184, 'landing': 6185, 'nooksack': 6186, 'washington': 6187, 'dozens': 6188, 'puzzle': 6189, 'skilling': 6190, 'spared': 6191, 'den': 6192, 'keith': 6193, 'stroud': 6194, 'worrying': 6195, 'unfairness': 6196, '37minutes': 6197, 'heaven': 6198, 'grace': 6199, 'episodes': 6200, 'inazuma': 6201, 'cloudy': 6202, 'penta': 6203, 'cheering': 6204, 'goodluck': 6205, 'ausvarg': 6206, '89': 6207, 'tiime': 6208, 'leak': 6209, 'address': 6210, 'paolo': 6211, 'banchero': 6212, 'journo': 6213, 'reporting': 6214, 'skullduggery': 6215, 'nugget': 6216, 'guide': 6217, 'helluva': 6218, 'gap': 6219, 'ucl': 6220, 'uel': 6221, 'exclude': 6222, 'iceland': 6223, 'healthy': 6224, 'worldcupfantasy': 6225, 'handshake': 6226, 'sun': 6227, 'markle': 6228, 'thesun': 6229, 'itvsport': 6230, 'handshakes': 6231, 'wi': 6232, 'trainers': 6233, 'kit': 6234, 'driver': 6235, 'cleaner': 6236, 'sheffield': 6237, 'wednesday': 6238, 'pals': 6239, 'dumped': 6240, 'demonstrating': 6241, 'contempt': 6242, 'vrs': 6243, 'iykyk': 6244, 'sanctimonious': 6245, 'patronising': 6246, 'pratt': 6247, 'microphone': 6248, 'bravooo': 6249, 'serbs': 6250, 'serbian': 6251, 'mother': 6252, 'swiss': 6253, 'cattle': 6254, 'ew': 6255, 'whistling': 6256, 'philly': 6257, 'gorgeous': 6258, 'bets': 6259, 'skoreavghana': 6260, 'passes': 6261, 'companies': 6262, 'facebook': 6263, 'feed': 6264, 'bang': 6265, 'yup': 6266, 'ehhh': 6267, 'length': 6268, 'verbally': 6269, 'unchecked': 6270, 'stress': 6271, 'sweaty': 6272, 'yell': 6273, 'everytime': 6274, 'sumn': 6275, 'steve': 6276, 'kerr': 6277, 'pills': 6278, 'enzo': 6279, 'skybet': 6280, 'gradually': 6281, 'increased': 6282, 'froze': 6283, 'sloppiest': 6284, 'argaredirtyplayers': 6285, 'consist': 6286, 'begin': 6287, '94': 6288, 'slag': 6289, 'hairline': 6290, 'identify': 6291, 'tacky': 6292, 'internationally': 6293, 'belgian': 6294, 'whats': 6295, 'worlds': 6296, 'finance': 6297, 'jpowell': 6298, 'lynaldencontact': 6299, 'entirely': 6300, 'confirmation': 6301, 'reflections': 6302, 'absorbed': 6303, 'wager': 6304, 'evidenced': 6305, 'jury': 6306, 'kazakh': 6307, 'rationale': 6308, 'useful': 6309, 'chocolate': 6310, 'teapot': 6311, 'milking': 6312, 'aneurysm': 6313, 'motherfucker': 6314, 'nike': 6315, 'sneakers': 6316, 'virtual': 6317, 'bellends': 6318, 'condition': 6319, 'nobbling': 6320, 'madman': 6321, 'penssi': 6322, 'modernfootballisterrible': 6323, 'fromday1': 6324, 'lilian': 6325, 'thuram': 6326, '2day': 6327, 'blackburn': 6328, 'bbcr4today': 6329, 'nick': 6330, 'robinson': 6331, 'bbcworldservice': 6332, 'r4today': 6333, 'kapiri': 6334, 'uko': 6335, 'drains': 6336, 'medals': 6337, 'philippines': 6338, 'tang': 6339, 'ina': 6340, 'champs': 6341, 'gen': 6342, 'broadcasters': 6343, 'uttered': 6344, 'broadcasting': 6345, 'srbsui': 6346, 'dramatics': 6347, 'brouhaha': 6348, 'jannyi': 6349, 'skazwe': 6350, 'pe': 6351, 'teacher': 6352, 'basketball': 6353, 'implemented': 6354, 'gloves': 6355, 'tricks': 6356, 'trips': 6357, 'barges': 6358, 'inadmissible': 6359, 'administered': 6360, 'scrutinize': 6361, 'pinky': 6362, 'fingernail': 6363, 'dunno': 6364, 'wcqatar22': 6365, 'search': 6366, 'altgthr': 6367, 'jamiedrew03': 6368, 'assaulting': 6369, 'engrra': 6370, 'risk': 6371, 'danroan': 6372, 'migueldelaney': 6373, 'genius': 6374, 'sofa': 6375, 'bisonsbury': 6376, 'bailing': 6377, 'punkass': 6378, 'bungled': 6379, 'insulting': 6380, 'obliged': 6381, 'alexilalas': 6382, 'subscribe': 6383, 'kwaku': 6384, 'osei': 6385, 'dede': 6386, 'prophet': 6387, 'annor': 6388, 'blay': 6389, 'alhassa': 6390, 'amankwaa': 6391, 'eric': 6392, 'esso': 6393, 'tanaka': 6394, 'zimbabwean': 6395, 'yationesa': 6396, 'zvakawanda': 6397, 'finessed': 6398, 'biases': 6399, 'ko': 6400, 'clutch': 6401, 'arguable': 6402, 'junping': 6403, 'bandwagon': 6404, 'linebacker': 6405, 'party': 6406, 'fuckery': 6407, 'salute': 6408, 'bappe': 6409, 'argentinafrance': 6410, 'particular': 6411, 'ugly': 6412, 'tearssss': 6413, 'cow': 6414, 'syracuse': 6415, 'indiana': 6416, 'makkeli': 6417, 'christmas': 6418, 'presents': 6419, 'argentinas': 6420, 'poorform': 6421, 'spainvsjapan': 6422, 'spaccer': 6423, 'twelve': 6424, 'trio': 6425, 'slayyyyy': 6426, 'approved': 6427, 'issit': 6428, 'elsalvador': 6429, 'bitcoin': 6430, 'imposter': 6431, 'syndrome': 6432, 'scoop': 6433, 'declined': 6434, 'confirmed': 6435, 'cia': 6436, 'agent': 6437, 'trashed': 6438, 'interference': 6439, 'logic': 6440, 'milk': 6441, 'messed': 6442, 'til': 6443, 'lighting': 6444, 'parts': 6445, 'masse': 6446, 'kindergarten': 6447, 'vibes': 6448, 'refuses': 6449, 'puppy': 6450, 'penealty': 6451, 'sweating': 6452, 'debuting': 6453, 'wankers': 6454, 'menage': 6455, 'trois': 6456, 'reveals': 6457, 'depends': 6458, 'clatternburg': 6459, 'paced': 6460, 'squaring': 6461, 'spell': 6462, 'allowable': 6463, 'characters': 6464, 'sprain': 6465, 'tongue': 6466, 'health': 6467, 'modri': 6468, 'controlling': 6469, 'tjcope': 6470, 'breathing': 6471, 'favorize': 6472, 'tackled': 6473, 'bounces': 6474, 'citizens': 6475, '90ish': 6476, 'neat': 6477, 'sounds': 6478, 'loveable': 6479, 'ruthless': 6480, 'band': 6481, 'falls': 6482, 'jan': 6483, 'icc': 6484, 'inconclusive': 6485, 'drs': 6486, 'satan': 6487, 'bhafc': 6488, 'comment': 6489, '60': 6490, 'shitting': 6491, 'unhinged': 6492, 'moaned': 6493, 'wan': 6494, 'align': 6495, 'joined': 6496, 'threw': 6497, 'inevitable': 6498, 'colonized': 6499, '1956': 6500, 'met': 6501, 'leading': 6502, 'blaiming': 6503, 'globalcup': 6504, 'sorare': 6505, 'sea': 6506, 'winton': 6507, 'mirrorfootball': 6508, 'skysportsnews': 6509, 'rivalry': 6510, 'mentality': 6511, 'admirable': 6512, 'cocks': 6513, 'blessed': 6514, 'latin': 6515, 'partner': 6516, 'wives': 6517, 'positives': 6518, 'litmus': 6519, 'improvements': 6520, 'riddance': 6521, 'rife': 6522, 'nebulous': 6523, 'exacting': 6524, 'sometime': 6525, 'pocketed': 6526, 'shithouse': 6527, 'jealous': 6528, 'piqued': 6529, 'bobbyturkey': 6530, 'curiosity': 6531, 'gbh': 6532, 'compelled': 6533, 'weekly': 6534, 'crashed': 6535, 'repeated': 6536, 'islam': 6537, 'phobic': 6538, 'eiffel': 6539, 'tower': 6540, 'triangle': 6541, 'building': 6542, 'expensive': 6543, 'aoty': 6544, 'titles': 6545, 'belive': 6546, 'fraudulent': 6547, 'intentional': 6548, 'suckass': 6549, 'surrey': 6550, 'nsubuga': 6551, 'crucify': 6552, 'canter': 6553, 'goodnight': 6554, 'shamelessly': 6555, 'disrespectful': 6556, 'ankasa': 6557, 'warranted': 6558, 'irrefutable': 6559, 'yelliw': 6560, 'alchemyofsouls2ep4': 6561, 'lmaoooooo': 6562, 'york': 6563, 'pushin': 6564, 'crazyy': 6565, 'transferred': 6566, 'concerns': 6567, 'answers': 6568, 'series': 6569, 'hunter': 6570, 'influences': 6571, 'advanced': 6572, 'banthem': 6573, 'furious': 6574, 'liked': 6575, 'lesbian': 6576, 'gaymar': 6577, 'pronounskeeper': 6578, 'overkill': 6579, 'reserve': 6580, 'standby': 6581, 'generally': 6582, 'created': 6583, 'lloris': 6584, 'apologize': 6585, 'novar': 6586, 'suprised': 6587, 'hospital': 6588, 'positioning': 6589, 'sharp': 6590, 'laligasantander': 6591, 'qatarecuador': 6592, 'wkvoetbal': 6593, 'hypocrisy': 6594, 'congratulating': 6595, 'doubling': 6596, 'removing': 6597, 'living': 6598, 'considerably': 6599, 'progressed': 6600, 'calibre': 6601, 'ronaldofans': 6602, 'pap': 6603, 'arca': 6604, 'suffocation': 6605, 'visceral': 6606, 'uruguayos': 6607, 'desrve': 6608, 'donkeys': 6609, 'sepp': 6610, 'lining': 6611, 'difficulty': 6612, 'differently': 6613, 'domestic': 6614, 'bumped': 6615, 'kepler': 6616, 'nothings': 6617, 'portugalvsuruguay': 6618, 'hundreds': 6619, 'lee': 6620, 'dixon': 6621, 'feigning': 6622, 'awards': 6623, 'magoo': 6624}\n"
          ]
        }
      ]
    },
    {
      "cell_type": "code",
      "source": [
        "from keras_preprocessing.sequence import pad_sequences\n",
        "\n",
        "x_train = pad_sequences(tokenizer.texts_to_sequences(train_data.text),\n",
        "                        maxlen = MAX_SEQUENCE_LENGTH)\n",
        "x_test = pad_sequences(tokenizer.texts_to_sequences(test_data.text),\n",
        "                       maxlen = MAX_SEQUENCE_LENGTH)\n",
        "\n",
        "print(\"Training X Shape:\",x_train.shape)\n",
        "print(\"Testing X Shape:\",x_test.shape)"
      ],
      "metadata": {
        "colab": {
          "base_uri": "https://localhost:8080/"
        },
        "id": "fr3DZQYo4jK1",
        "outputId": "878a0d98-1c44-4be9-f0f8-619576aa6ecc"
      },
      "execution_count": null,
      "outputs": [
        {
          "output_type": "stream",
          "name": "stdout",
          "text": [
            "Training X Shape: (3200, 30)\n",
            "Testing X Shape: (800, 30)\n"
          ]
        }
      ]
    },
    {
      "cell_type": "code",
      "source": [
        "labels = train_data.Sentiment.unique().tolist()\n",
        "print(labels)"
      ],
      "metadata": {
        "id": "T-tPA-ud5PcV",
        "colab": {
          "base_uri": "https://localhost:8080/"
        },
        "outputId": "63bc9283-0ffe-4a3e-a764-8b0655b9448d"
      },
      "execution_count": null,
      "outputs": [
        {
          "output_type": "stream",
          "name": "stdout",
          "text": [
            "['Negative', 'Neutral', 'Positive']\n"
          ]
        }
      ]
    },
    {
      "cell_type": "code",
      "source": [
        "from sklearn.preprocessing import LabelEncoder\n",
        "\n",
        "encoder = LabelEncoder()\n",
        "encoder.fit(train_data.Sentiment.to_list())\n",
        "\n",
        "y_train = encoder.transform(train_data.Sentiment.to_list())\n",
        "y_test = encoder.transform(test_data.Sentiment.to_list())\n",
        "\n",
        "# Convert the labels to one-hot encoding\n",
        "num_classes = len(encoder.classes_)\n",
        "y_train = (y_train[:, np.newaxis] == np.arange(num_classes)).astype(int)\n",
        "y_test = (y_test[:, np.newaxis] == np.arange(num_classes)).astype(int)\n",
        "\n",
        "print(\"y_train shape:\", y_train.shape)\n",
        "print(\"y_test shape:\", y_test.shape)"
      ],
      "metadata": {
        "colab": {
          "base_uri": "https://localhost:8080/"
        },
        "id": "nM-NutVq5Qyw",
        "outputId": "306b0d34-670b-4800-ae0b-87cc7c873e0f"
      },
      "execution_count": null,
      "outputs": [
        {
          "output_type": "stream",
          "name": "stdout",
          "text": [
            "y_train shape: (3200, 3)\n",
            "y_test shape: (800, 3)\n"
          ]
        }
      ]
    },
    {
      "cell_type": "code",
      "source": [
        "# #Word Embedding\n",
        "# !wget http://nlp.stanford.edu/data/glove.6B.zip\n",
        "# !unzip glove*.zip"
      ],
      "metadata": {
        "id": "OaN7m1PO5WBM"
      },
      "execution_count": null,
      "outputs": []
    },
    {
      "cell_type": "code",
      "source": [
        "GLOVE_EMB = '/content/glove.6B.300d.txt'\n",
        "EMBEDDING_DIM = 300\n",
        "LR = 1e-3\n",
        "BATCH_SIZE = 32\n",
        "EPOCHS = 25\n",
        "MODEL_PATH = 'best_model.hdf5'"
      ],
      "metadata": {
        "id": "7FtGHVK57cKP"
      },
      "execution_count": null,
      "outputs": []
    },
    {
      "cell_type": "code",
      "source": [
        "embeddings_index = {}\n",
        "\n",
        "f = open(GLOVE_EMB)\n",
        "for line in f:\n",
        "  values = line.split()\n",
        "  word = value = values[0]\n",
        "  coefs = np.asarray(values[1:], dtype='float32')\n",
        "  embeddings_index[word] = coefs\n",
        "f.close()\n",
        "\n",
        "print('Found %s word vectors.' %len(embeddings_index))"
      ],
      "metadata": {
        "colab": {
          "base_uri": "https://localhost:8080/"
        },
        "id": "t_MYx-OyhNx5",
        "outputId": "c7804b3e-fc70-4cf3-d7c9-7b6dc9546387"
      },
      "execution_count": null,
      "outputs": [
        {
          "output_type": "stream",
          "name": "stdout",
          "text": [
            "Found 400000 word vectors.\n"
          ]
        }
      ]
    },
    {
      "cell_type": "code",
      "source": [
        "embedding_matrix = np.zeros((vocab_size, EMBEDDING_DIM))\n",
        "for word, i in word_index.items():\n",
        "  embedding_vector = embeddings_index.get(word)\n",
        "  if embedding_vector is not None:\n",
        "    embedding_matrix[i] = embedding_vector"
      ],
      "metadata": {
        "id": "YIdXVqgscd5r"
      },
      "execution_count": null,
      "outputs": []
    },
    {
      "cell_type": "markdown",
      "source": [
        "embedding matrix has keys which are the tokens,\n",
        "and values which are the 300 glove vectors"
      ],
      "metadata": {
        "id": "QsEk30qh-huc"
      }
    },
    {
      "cell_type": "code",
      "source": [
        "embedding_layer = tf.keras.layers.Embedding(vocab_size,\n",
        "                                          EMBEDDING_DIM,\n",
        "                                          weights=[embedding_matrix],\n",
        "                                          input_length=MAX_SEQUENCE_LENGTH,\n",
        "                                          trainable=False) # this means that the pre-trained glove vectors in the embedding matrix are not updated during back-propogation\n"
      ],
      "metadata": {
        "id": "F3osnd3hhdS-"
      },
      "execution_count": null,
      "outputs": []
    },
    {
      "cell_type": "code",
      "source": [
        "#Model Training\n",
        "from tensorflow.keras.layers import Conv1D, Bidirectional, LSTM, Dense, Input, Dropout\n",
        "from tensorflow.keras.layers import SpatialDropout1D\n",
        "from tensorflow.keras.callbacks import ModelCheckpoint"
      ],
      "metadata": {
        "id": "lVavQfUbhe-P"
      },
      "execution_count": null,
      "outputs": []
    },
    {
      "cell_type": "code",
      "source": [
        "sequence_input = Input(shape=(MAX_SEQUENCE_LENGTH,), dtype='int32')\n",
        "embedding_sequences = embedding_layer(sequence_input)\n",
        "x = SpatialDropout1D(0.2)(embedding_sequences)\n",
        "x = Conv1D(64, 5, activation='relu')(x)\n",
        "x = Bidirectional(LSTM(64, dropout=0.2, recurrent_dropout=0.2))(x)\n",
        "x = Dense(256, activation='relu')(x)\n",
        "x = Dropout(0.3)(x)\n",
        "x = Dense(256, activation='relu')(x)\n",
        "outputs = Dense(3, activation='softmax')(x)\n",
        "model = tf.keras.Model(sequence_input, outputs)"
      ],
      "metadata": {
        "colab": {
          "base_uri": "https://localhost:8080/"
        },
        "id": "moDLfmZFhujk",
        "outputId": "491f5449-88ad-4a86-89a5-00dee3a8906f"
      },
      "execution_count": null,
      "outputs": [
        {
          "output_type": "stream",
          "name": "stderr",
          "text": [
            "WARNING:tensorflow:Layer lstm_4 will not use cuDNN kernels since it doesn't meet the criteria. It will use a generic GPU kernel as fallback when running on GPU.\n",
            "WARNING:tensorflow:Layer lstm_4 will not use cuDNN kernels since it doesn't meet the criteria. It will use a generic GPU kernel as fallback when running on GPU.\n",
            "WARNING:tensorflow:Layer lstm_4 will not use cuDNN kernels since it doesn't meet the criteria. It will use a generic GPU kernel as fallback when running on GPU.\n"
          ]
        }
      ]
    },
    {
      "cell_type": "code",
      "source": [
        "from tensorflow.keras.optimizers import Adam\n",
        "from tensorflow.keras.callbacks import ReduceLROnPlateau\n",
        "\n",
        "model.compile(optimizer=Adam(learning_rate=LR), loss='categorical_crossentropy',\n",
        "              metrics=['accuracy'])\n",
        "ReduceLROnPlateau = ReduceLROnPlateau(factor=0.1,\n",
        "                                     min_lr = 0.01,\n",
        "                                     monitor = 'val_loss',\n",
        "                                     verbose = 1)"
      ],
      "metadata": {
        "id": "-MiFhsRchzL6"
      },
      "execution_count": null,
      "outputs": []
    },
    {
      "cell_type": "code",
      "source": [
        "print(model.summary())"
      ],
      "metadata": {
        "colab": {
          "base_uri": "https://localhost:8080/"
        },
        "id": "IeIs5ef6mC69",
        "outputId": "357f55d3-1271-4347-8e42-1d58f85799a8"
      },
      "execution_count": null,
      "outputs": [
        {
          "output_type": "stream",
          "name": "stdout",
          "text": [
            "Model: \"model_3\"\n",
            "_________________________________________________________________\n",
            " Layer (type)                Output Shape              Param #   \n",
            "=================================================================\n",
            " input_5 (InputLayer)        [(None, 30)]              0         \n",
            "                                                                 \n",
            " embedding_4 (Embedding)     (None, 30, 300)           1987500   \n",
            "                                                                 \n",
            " spatial_dropout1d_4 (Spati  (None, 30, 300)           0         \n",
            " alDropout1D)                                                    \n",
            "                                                                 \n",
            " conv1d_3 (Conv1D)           (None, 26, 64)            96064     \n",
            "                                                                 \n",
            " bidirectional_3 (Bidirecti  (None, 128)               66048     \n",
            " onal)                                                           \n",
            "                                                                 \n",
            " dense_10 (Dense)            (None, 256)               33024     \n",
            "                                                                 \n",
            " dropout_3 (Dropout)         (None, 256)               0         \n",
            "                                                                 \n",
            " dense_11 (Dense)            (None, 256)               65792     \n",
            "                                                                 \n",
            " dense_12 (Dense)            (None, 3)                 771       \n",
            "                                                                 \n",
            "=================================================================\n",
            "Total params: 2249199 (8.58 MB)\n",
            "Trainable params: 261699 (1022.26 KB)\n",
            "Non-trainable params: 1987500 (7.58 MB)\n",
            "_________________________________________________________________\n",
            "None\n"
          ]
        }
      ]
    },
    {
      "cell_type": "code",
      "source": [
        "print(\"Training on GPU...\") if tf.test.is_gpu_available() else print(\"Training on CPU...\")\n"
      ],
      "metadata": {
        "colab": {
          "base_uri": "https://localhost:8080/"
        },
        "id": "zjpd4qzxh4GP",
        "outputId": "30eaba51-c654-4eb5-f56e-b63a6895153d"
      },
      "execution_count": null,
      "outputs": [
        {
          "output_type": "stream",
          "name": "stdout",
          "text": [
            "Training on GPU...\n"
          ]
        }
      ]
    },
    {
      "cell_type": "code",
      "source": [
        "history = model.fit(x_train, y_train, batch_size=BATCH_SIZE, epochs=10,\n",
        "                    validation_data=(x_test, y_test), callbacks=[ReduceLROnPlateau])"
      ],
      "metadata": {
        "colab": {
          "base_uri": "https://localhost:8080/"
        },
        "id": "RWHbxDiIh5qP",
        "outputId": "55144ef6-0ab0-4c47-ac02-55cd42612036"
      },
      "execution_count": null,
      "outputs": [
        {
          "output_type": "stream",
          "name": "stdout",
          "text": [
            "Epoch 1/10\n",
            "100/100 [==============================] - 47s 111ms/step - loss: 0.9172 - accuracy: 0.5500 - val_loss: 0.8051 - val_accuracy: 0.6325 - lr: 0.0010\n",
            "Epoch 2/10\n",
            "100/100 [==============================] - 10s 105ms/step - loss: 0.7954 - accuracy: 0.6372 - val_loss: 0.7427 - val_accuracy: 0.6750 - lr: 0.0010\n",
            "Epoch 3/10\n",
            "100/100 [==============================] - 11s 110ms/step - loss: 0.7155 - accuracy: 0.6853 - val_loss: 0.7343 - val_accuracy: 0.6662 - lr: 0.0010\n",
            "Epoch 4/10\n",
            "100/100 [==============================] - 10s 104ms/step - loss: 0.6486 - accuracy: 0.7103 - val_loss: 0.7284 - val_accuracy: 0.6750 - lr: 0.0010\n",
            "Epoch 5/10\n",
            "100/100 [==============================] - 11s 106ms/step - loss: 0.5660 - accuracy: 0.7581 - val_loss: 0.8035 - val_accuracy: 0.6575 - lr: 0.0010\n",
            "Epoch 6/10\n",
            "100/100 [==============================] - 11s 109ms/step - loss: 0.4637 - accuracy: 0.8138 - val_loss: 0.7978 - val_accuracy: 0.6562 - lr: 0.0010\n",
            "Epoch 7/10\n",
            "100/100 [==============================] - 10s 96ms/step - loss: 0.3952 - accuracy: 0.8372 - val_loss: 0.8517 - val_accuracy: 0.6425 - lr: 0.0010\n",
            "Epoch 8/10\n",
            "100/100 [==============================] - 10s 100ms/step - loss: 0.3095 - accuracy: 0.8778 - val_loss: 1.0307 - val_accuracy: 0.6712 - lr: 0.0010\n",
            "Epoch 9/10\n",
            "100/100 [==============================] - 11s 109ms/step - loss: 0.2730 - accuracy: 0.8919 - val_loss: 0.9626 - val_accuracy: 0.6562 - lr: 0.0010\n",
            "Epoch 10/10\n",
            "100/100 [==============================] - 11s 106ms/step - loss: 0.2390 - accuracy: 0.9094 - val_loss: 1.0277 - val_accuracy: 0.6450 - lr: 0.0010\n"
          ]
        }
      ]
    },
    {
      "cell_type": "code",
      "source": [
        "from sklearn.metrics import confusion_matrix, classification_report, accuracy_score\n",
        "\n",
        "scores = model.predict(x_test)"
      ],
      "metadata": {
        "id": "ETrDDsT8uMH_",
        "colab": {
          "base_uri": "https://localhost:8080/"
        },
        "outputId": "91e84546-3b9b-4b94-abb6-f81db9abf637"
      },
      "execution_count": null,
      "outputs": [
        {
          "output_type": "stream",
          "name": "stdout",
          "text": [
            "25/25 [==============================] - 1s 17ms/step\n"
          ]
        }
      ]
    },
    {
      "cell_type": "code",
      "source": [
        "predicted_classes = np.argmax(scores, axis=1)\n",
        "decoded_predictions = encoder.inverse_transform(predicted_classes)\n",
        "y_test, y_pred = list(test_data.Sentiment), decoded_predictions\n",
        "accuracy = accuracy_score(y_test, y_pred)\n",
        "print('Overall accuracy of the model is: ', accuracy)"
      ],
      "metadata": {
        "colab": {
          "base_uri": "https://localhost:8080/"
        },
        "id": "oENeWr62K9vj",
        "outputId": "0c1cf62e-0bd1-4b07-a4c7-fd11db47bff5"
      },
      "execution_count": null,
      "outputs": [
        {
          "output_type": "stream",
          "name": "stdout",
          "text": [
            "Overall accuracy of the model is:  0.645\n"
          ]
        }
      ]
    },
    {
      "cell_type": "code",
      "source": [
        "print(classification_report(y_test, y_pred))"
      ],
      "metadata": {
        "colab": {
          "base_uri": "https://localhost:8080/"
        },
        "id": "vI9MFthrJIRN",
        "outputId": "a4c1b419-7ab2-44c1-9c4c-558e55bef86b"
      },
      "execution_count": null,
      "outputs": [
        {
          "output_type": "stream",
          "name": "stdout",
          "text": [
            "              precision    recall  f1-score   support\n",
            "\n",
            "    Negative       0.70      0.84      0.76       426\n",
            "     Neutral       0.60      0.40      0.48       279\n",
            "    Positive       0.47      0.49      0.48        95\n",
            "\n",
            "    accuracy                           0.65       800\n",
            "   macro avg       0.59      0.58      0.57       800\n",
            "weighted avg       0.64      0.65      0.63       800\n",
            "\n"
          ]
        }
      ]
    },
    {
      "cell_type": "code",
      "source": [
        "import seaborn as sns\n",
        "cm = confusion_matrix(y_test, y_pred)\n",
        "sns.heatmap(cm, annot=True, cmap='Blues', fmt='g')\n",
        "\n",
        "# add labels to the plot\n",
        "plt.title('Confusion Matrix')\n",
        "plt.xlabel('Predicted label')\n",
        "plt.ylabel('True label')\n",
        "plt.show()"
      ],
      "metadata": {
        "colab": {
          "base_uri": "https://localhost:8080/",
          "height": 472
        },
        "id": "MTGIVKK9Jayk",
        "outputId": "01b1c2bd-dc66-43b6-f841-835f29c13062"
      },
      "execution_count": null,
      "outputs": [
        {
          "output_type": "display_data",
          "data": {
            "text/plain": [
              "<Figure size 640x480 with 2 Axes>"
            ],
            "image/png": "[encoded data removed]"
          },
          "metadata": {}
        }
      ]
    },
    {
      "cell_type": "code",
      "source": [
        "y_pred = list(y_pred)"
      ],
      "metadata": {
        "id": "6MVi083ZYVz-"
      },
      "execution_count": null,
      "outputs": []
    },
    {
      "cell_type": "code",
      "source": [
        "#Plot and Visualize the Counts\n",
        "counts = {value: y_pred.count(value) for value in set(y_pred)}\n",
        "\n",
        "# Extract the unique values and their corresponding counts\n",
        "unique_values = list(counts.keys())\n",
        "value_counts = [counts[value] for value in unique_values]\n",
        "\n",
        "# Create a bar chart\n",
        "plt.bar(unique_values, value_counts)\n",
        "# Add labels and title\n",
        "plt.xlabel('Sentiment')\n",
        "plt.ylabel('Count')\n",
        "plt.title('Sentiment Distribution by LSTM')\n",
        "\n",
        "for i, count in enumerate(value_counts):\n",
        "    plt.text(unique_values[i], count, str(count), ha='center', va='bottom')\n",
        "\n",
        "\n",
        "# Display the chart\n",
        "plt.show()"
      ],
      "metadata": {
        "colab": {
          "base_uri": "https://localhost:8080/",
          "height": 472
        },
        "id": "i5QmYMdwYJ1O",
        "outputId": "facc107e-7a23-40ac-d130-b683bca3d32c"
      },
      "execution_count": null,
      "outputs": [
        {
          "output_type": "display_data",
          "data": {
            "text/plain": [
              "<Figure size 640x480 with 1 Axes>"
            ],
            "image/png": "[encoded data removed]"
          },
          "metadata": {}
        }
      ]
    },
    {
      "cell_type": "code",
      "source": [
        "#Plot and Visualize the Counts\n",
        "counts = {value: y_test.count(value) for value in set(y_test)}\n",
        "\n",
        "# Extract the unique values and their corresponding counts\n",
        "unique_values = list(counts.keys())\n",
        "value_counts = [counts[value] for value in unique_values]\n",
        "\n",
        "# Create a bar chart\n",
        "plt.bar(unique_values, value_counts)\n",
        "# Add labels and title\n",
        "plt.xlabel('Sentiment')\n",
        "plt.ylabel('Count')\n",
        "plt.title('Actual Sentiment Distribution')\n",
        "\n",
        "for i, count in enumerate(value_counts):\n",
        "    plt.text(unique_values[i], count, str(count), ha='center', va='bottom')\n",
        "\n",
        "\n",
        "# Display the chart\n",
        "plt.show()"
      ],
      "metadata": {
        "colab": {
          "base_uri": "https://localhost:8080/",
          "height": 472
        },
        "id": "d8k1RcdRZBoz",
        "outputId": "fe7e8f16-6e7c-4e67-af00-18324f03040b"
      },
      "execution_count": null,
      "outputs": [
        {
          "output_type": "display_data",
          "data": {
            "text/plain": [
              "<Figure size 640x480 with 1 Axes>"
            ],
            "image/png": "[encoded data removed]"
          },
          "metadata": {}
        }
      ]
    },
    {
      "cell_type": "code",
      "source": [],
      "metadata": {
        "id": "GqtLLRSkZ0wb"
      },
      "execution_count": null,
      "outputs": []
    }
  ]
}